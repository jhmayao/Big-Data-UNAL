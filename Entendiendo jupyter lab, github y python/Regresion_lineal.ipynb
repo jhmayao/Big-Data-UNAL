{
 "cells": [
  {
   "cell_type": "markdown",
   "metadata": {},
   "source": [
    "# Regresión lineal"
   ]
  },
  {
   "cell_type": "markdown",
   "metadata": {},
   "source": [
    "![title](multimedia/datos-para-regresion-lineal.png)"
   ]
  },
  {
   "cell_type": "markdown",
   "metadata": {},
   "source": [
    "En este documento vamos a repasar los conceptos básicos para entender la regresion lineal, además vamos a poner en practica tales conceptos con un ejemplo práctico para afianzar el conocimiento y trataremos de hacerlo de la manera más practica y pedagógica posible. los puntos a tratar son los siguientes:"
   ]
  },
  {
   "cell_type": "markdown",
   "metadata": {},
   "source": [
    "# Contenido:"
   ]
  },
  {
   "cell_type": "markdown",
   "metadata": {},
   "source": [
    "1. <a href = '#introduccion'> Introducción</a>\n",
    "2. <a href = '#breve_historia'> Breve Historia</a>\n",
    "3. <a href = '#el_algoritmo'> El Algoritmo</a>\n",
    "4. <a href = '#ejemplo'>Ejemplo con Datos Reales</a>\n",
    "5. <a href = '#conclusiones'>Conclusiones</a>"
   ]
  },
  {
   "cell_type": "markdown",
   "metadata": {},
   "source": [
    "<a id = 'introduccion'></a>\n",
    "# Introducción\n",
    "\n",
    "La necesidad de entender la relacion que puede existir entre diferentes variables o fenómenos, y los patrones que se pueden encontrar en dichas relaciones han acompañado a la humanidad durante toda su evolución"
   ]
  },
  {
   "cell_type": "markdown",
   "metadata": {},
   "source": [
    "<a id = 'breve_historia'></a>\n",
    "# Breve Historia"
   ]
  },
  {
   "cell_type": "markdown",
   "metadata": {},
   "source": [
    "<a id = 'el_algoritmo'></a>\n",
    "# El Algoritmo"
   ]
  },
  {
   "cell_type": "markdown",
   "metadata": {},
   "source": [
    "<a id = 'ejemplo'></a>\n",
    "# Ejemplo con Datos Reales"
   ]
  },
  {
   "cell_type": "markdown",
   "metadata": {},
   "source": [
    "<a id = 'conclusiones'></a>\n",
    "# Conclusiones"
   ]
  }
 ],
 "metadata": {
  "kernelspec": {
   "display_name": "Python 3",
   "language": "python",
   "name": "python3"
  },
  "language_info": {
   "codemirror_mode": {
    "name": "ipython",
    "version": 3
   },
   "file_extension": ".py",
   "mimetype": "text/x-python",
   "name": "python",
   "nbconvert_exporter": "python",
   "pygments_lexer": "ipython3",
   "version": "3.8.3"
  }
 },
 "nbformat": 4,
 "nbformat_minor": 4
}
