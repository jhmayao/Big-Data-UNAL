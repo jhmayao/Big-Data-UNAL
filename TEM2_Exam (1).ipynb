{
 "cells": [
  {
   "cell_type": "markdown",
   "metadata": {
    "id": "WSyp24WQAbRI"
   },
   "source": [
    "NOME\n",
    "#Punto 6\n",
    "Con un grado de significancia de $\\alpha = 0.05$ y dado que el P-valor de la estadística de Pillai es $P_{val} = 0.13$ (es decir $P_{val}>\\alpha$) se tiene que NO se rechaza la hipótesis nula de que $H_0: \\mu_1 = \\mu_2 = \\mu_3$."
   ]
  },
  {
   "cell_type": "code",
   "execution_count": null,
   "metadata": {
    "colab": {
     "base_uri": "https://localhost:8080/"
    },
    "id": "ec0Y9l8WVGoL",
    "outputId": "ab5e61b9-b806-41e2-b501-3ba970493e59"
   },
   "outputs": [
    {
     "name": "stdout",
     "output_type": "stream",
     "text": [
      "   sample variable1 variable2\n",
      "1       1         2         1\n",
      "2       1         1         2\n",
      "3       1         3         2\n",
      "4       2         2         0\n",
      "5       2         2         2\n",
      "6       2         4         2\n",
      "7       2         1         1\n",
      "8       3         3         2\n",
      "9       3         2         3\n",
      "10      3         6         2\n",
      "11      3         5         3\n",
      "12      3         3         4\n"
     ]
    }
   ],
   "source": [
    "#Setting data\n",
    "data<-c(1,2,1,1,1,2,1,3,2,2,2,0,2,2,2,2,4,2,2,1,1,3,3,2,3,2,3,3,6,2,3,5,3,3,3,4)\n",
    "data2<-matrix(data,ncol=3,byrow=TRUE)\n",
    "#print(data2)\n",
    "df<-data.frame(data2)\n",
    "colnames(df)<-c(\"sample\",\"variable1\",\"variable2\")\n",
    "print(df)"
   ]
  },
  {
   "cell_type": "code",
   "execution_count": null,
   "metadata": {
    "colab": {
     "base_uri": "https://localhost:8080/",
     "height": 68
    },
    "id": "50oDrxXfVGXV",
    "outputId": "a773f607-bb2c-4eaa-fbd0-c16ff987306a"
   },
   "outputs": [
    {
     "data": {
      "text/plain": [
       "          Df  Pillai approx F num Df den Df Pr(>F)\n",
       "sample     2 0.61926   2.0183      4     18 0.1349\n",
       "Residuals  9                                      "
      ]
     },
     "metadata": {
      "tags": []
     },
     "output_type": "display_data"
    }
   ],
   "source": [
    "#ANOVA Analysis\n",
    "df$sample<-as.factor(df$sample)\n",
    "vars<-as.matrix(df[,-1])\n",
    "#print(vars)\n",
    "fit<-manova(vars~sample,data=df)\n",
    "#print(fit)\n",
    "summary(fit,test=\"Pillai\")"
   ]
  },
  {
   "cell_type": "markdown",
   "metadata": {
    "id": "MA08emwMVEju"
   },
   "source": [
    "#Punto 7 - NOT DONE\n",
    "Con un grado de significancia de $\\alpha = 0.05$ y dado que el P-valor de la estadística de Pillai es $P_{val} = 0.13$ (es decir $P_{val}>\\alpha$) se tiene que NO se rechaza la hipótesis nula de que $H_0: \\mu_1 = \\mu_2 = \\mu_3$. (BLABLABLA)"
   ]
  },
  {
   "cell_type": "code",
   "execution_count": null,
   "metadata": {
    "colab": {
     "base_uri": "https://localhost:8080/",
     "height": 418
    },
    "id": "xaxfFT0JAeIv",
    "outputId": "246a1f9c-46be-43f5-ffbe-bd9d826beac0"
   },
   "outputs": [
    {
     "name": "stderr",
     "output_type": "stream",
     "text": [
      "`summarise()` ungrouping output (override with `.groups` argument)\n",
      "\n"
     ]
    },
    {
     "ename": "ERROR",
     "evalue": "ignored",
     "output_type": "error",
     "traceback": [
      "Error: `x` and `y` must share the same src, set `copy` = TRUE (may be slow).\nTraceback:\n",
      "1. data %>% group_by(tto) %>% summarise(Y1b = mean(y1), Y2b = mean(y2)) %>% \n .     inner_join(C) %>% ungroup() %>% summarize(Y1b = sum(C * Y1b), \n .     Y2b = sum(C * Y2b)) %>% ungroup() %>% select(Y1b, Y2b) %>% \n .     as.matrix()",
      "2. withVisible(eval(quote(`_fseq`(`_lhs`)), env, env))",
      "3. eval(quote(`_fseq`(`_lhs`)), env, env)",
      "4. eval(quote(`_fseq`(`_lhs`)), env, env)",
      "5. `_fseq`(`_lhs`)",
      "6. freduce(value, `_function_list`)",
      "7. function_list[[i]](value)",
      "8. inner_join(., C)",
      "9. inner_join.data.frame(., C)",
      "10. auto_copy(x, y, copy = copy)",
      "11. glubort(NULL, \"`x` and `y` must share the same src, \", \"set `copy` = TRUE (may be slow).\")",
      "12. .abort(text)",
      "13. signal_abort(cnd)"
     ]
    }
   ],
   "source": [
    "#Setting data\n",
    "#library(tidyverse)\n",
    "t = tibble(tto = c('A','B','C'),C = c(1,-1/2,-1/2))\n",
    "#print(t)\n",
    "data = tibble(tto = c(rep('A',3),rep('B',4),rep('C',5)),\n",
    "              y1 = c(2,1,3,2,2,4,1,3,2,6,5,3),\n",
    "              y2 = c(1,2,2,0,2,2,1,2,3,2,3,4))\n",
    "#print(data)\n",
    "ni=c(3,4,5)\n",
    "Y1 = data %>% group_by(tto) %>% \n",
    "    mutate(Y1b=mean(y1), Y2b=mean(y2)) %>%\n",
    "    ungroup() %>%\n",
    "    mutate(Y1bb=mean(y1), Y2bb=mean(y2))\n",
    "#print(Y1)\n",
    "p = 2; k = 3\n",
    "Y = Y1 %>% select(paste0('y',1:p)) %>% as.matrix\n",
    "#print(Y)\n",
    "Yb = Y1 %>% select(paste0('Y',1:p,'b')) %>% as.matrix\n",
    "#print(Yb)\n",
    "Ybb = Y1 %>% select(paste0('Y',1:p,'bb')) %>% as.matrix\n",
    "#print(Ybb)\n",
    "E = t(Y-Yb) %*% (Y-Yb)\n",
    "#print(E)\n",
    "sc = data %>% group_by(tto) %>%\n",
    "    summarise(Y1b = mean(y1), Y2b = mean(y2)) %>%\n",
    "    inner_join(C) %>%\n",
    "    ungroup() %>%\n",
    "    summarize(Y1b = sum(C*Y1b), Y2b = sum(C*Y2b)) %>% ungroup() %>%\n",
    "    select(Y1b,Y2b) %>% as.matrix()\n",
    "print(sc)"
   ]
  },
  {
   "cell_type": "code",
   "execution_count": null,
   "metadata": {
    "colab": {
     "base_uri": "https://localhost:8080/",
     "height": 289
    },
    "id": "VmI-UnhDAc56",
    "outputId": "bb799af3-cb7a-46c2-ec4c-49ad595ecf66"
   },
   "outputs": [
    {
     "data": {
      "text/plain": [
       "          Df Hotelling-Lawley approx F num Df den Df  Pr(>F)  \n",
       "sample     2           1.4487   2.5352      4     14 0.08693 .\n",
       "Residuals  9                                                  \n",
       "---\n",
       "Signif. codes:  0 ‘***’ 0.001 ‘**’ 0.01 ‘*’ 0.05 ‘.’ 0.1 ‘ ’ 1"
      ]
     },
     "metadata": {
      "tags": []
     },
     "output_type": "display_data"
    },
    {
     "data": {
      "text/plain": [
       "          Df   Wilks approx F num Df den Df Pr(>F)\n",
       "sample     2 0.40037   2.3216      4     16 0.1012\n",
       "Residuals  9                                      "
      ]
     },
     "metadata": {
      "tags": []
     },
     "output_type": "display_data"
    },
    {
     "data": {
      "text/plain": [
       "          Df  Pillai approx F num Df den Df Pr(>F)\n",
       "sample     2 0.61926   2.0183      4     18 0.1349\n",
       "Residuals  9                                      "
      ]
     },
     "metadata": {
      "tags": []
     },
     "output_type": "display_data"
    },
    {
     "data": {
      "text/plain": [
       "          Df   Roy approx F num Df den Df  Pr(>F)  \n",
       "sample     2 1.414    6.363      2      9 0.01895 *\n",
       "Residuals  9                                       \n",
       "---\n",
       "Signif. codes:  0 ‘***’ 0.001 ‘**’ 0.01 ‘*’ 0.05 ‘.’ 0.1 ‘ ’ 1"
      ]
     },
     "metadata": {
      "tags": []
     },
     "output_type": "display_data"
    }
   ],
   "source": [
    "#ANOVA Analysis\n",
    "df$sample<-as.factor(df$sample)\n",
    "vars<-as.matrix(df[,-1])\n",
    "#print(vars)\n",
    "fit<-manova(vars~sample,data=df)\n",
    "#fit\n",
    "summary(fit,test=\"Hotelling-Lawley\")\n",
    "summary(fit,test=\"Wilks\")\n",
    "summary(fit,test=\"Pillai\")\n",
    "summary(fit,test= \"Roy\")"
   ]
  },
  {
   "cell_type": "markdown",
   "metadata": {
    "id": "R6YnFKgeZVDy"
   },
   "source": [
    "#Punto 8\n",
    "Con un grado de significancia de $\\alpha = 0.05$ y dado que el P-valor de la estadística lambda de Wilks es $P_{val} = 0.26$ (es decir $P_{val}>\\alpha$) se tiene que NO se rechaza la hipótesis nula de que $H_0: \\mu_1 = \\mu_2 = \\mu_3$.\n"
   ]
  },
  {
   "cell_type": "code",
   "execution_count": null,
   "metadata": {
    "colab": {
     "base_uri": "https://localhost:8080/"
    },
    "id": "f9WnjTvQZZPI",
    "outputId": "41dc0848-5117-4053-a0da-12edd6850e38"
   },
   "outputs": [
    {
     "name": "stdout",
     "output_type": "stream",
     "text": [
      "   sample variable1 variable2\n",
      "1       1         2         1\n",
      "2       1         1         2\n",
      "3       1         4         3\n",
      "4       2         2         0\n",
      "5       2         2         2\n",
      "6       2         3         2\n",
      "7       2         1         2\n",
      "8       3         3         2\n",
      "9       3         2         3\n",
      "10      3         6         2\n",
      "11      3         5         3\n",
      "12      3         4         2\n"
     ]
    }
   ],
   "source": [
    "#Setting data\n",
    "data<-c(1,2,1,1,1,2,1,4,3,2,2,0,2,2,2,2,3,2,2,1,2,3,3,2,3,2,3,3,6,2,3,5,3,3,4,2)\n",
    "data2<-matrix(data,ncol=3,byrow=TRUE)\n",
    "#print(data2)\n",
    "df<-data.frame(data2)\n",
    "colnames(df)<-c(\"sample\",\"variable1\",\"variable2\")\n",
    "print(df)"
   ]
  },
  {
   "cell_type": "code",
   "execution_count": null,
   "metadata": {
    "colab": {
     "base_uri": "https://localhost:8080/",
     "height": 68
    },
    "id": "hXXqtM01ZZDO",
    "outputId": "61a77c97-b6ea-41fc-8261-ddf81e0440ce"
   },
   "outputs": [
    {
     "data": {
      "text/plain": [
       "          Df   Wilks approx F num Df den Df Pr(>F)\n",
       "sample     2 0.53765   1.4552      4     16 0.2619\n",
       "Residuals  9                                      "
      ]
     },
     "metadata": {
      "tags": []
     },
     "output_type": "display_data"
    }
   ],
   "source": [
    "#ANOVA Analysis\n",
    "df$sample<-as.factor(df$sample)\n",
    "vars<-as.matrix(df[,-1])\n",
    "#print(vars)\n",
    "fit<-manova(vars~sample,data=df)\n",
    "#fit\n",
    "summary(fit,test=\"Wilks\")"
   ]
  },
  {
   "cell_type": "markdown",
   "metadata": {
    "id": "8E6y1FLoAAVk"
   },
   "source": [
    "#Punto 10\n",
    "Con un grado de significancia de $\\alpha = 0.05$ y dado que el P-valor mediante la traza de Lawley-Hotelling es $P_{val} = 0.22$ (es decir $P_{val}>\\alpha$) se tiene que NO se rechaza la hipótesis nula de que $H_0: \\mu_1 = \\mu_2 = \\mu_3$."
   ]
  },
  {
   "cell_type": "code",
   "execution_count": null,
   "metadata": {
    "colab": {
     "base_uri": "https://localhost:8080/"
    },
    "id": "HjccP2SsuFrH",
    "outputId": "6aa63ff4-65c1-4ea3-d033-74dad8c86449"
   },
   "outputs": [
    {
     "name": "stdout",
     "output_type": "stream",
     "text": [
      "   sample variable1 variable2\n",
      "1       1         3         2\n",
      "2       1         1         2\n",
      "3       1         4         3\n",
      "4       2         1         1\n",
      "5       2         2         2\n",
      "6       2         3         2\n",
      "7       2         1         2\n",
      "8       3         3         2\n",
      "9       3         2         3\n",
      "10      3         6         2\n",
      "11      3         5         3\n",
      "12      3         4         2\n"
     ]
    }
   ],
   "source": [
    "#Setting data\n",
    "data<-c(1,3,2,1,1,2,1,4,3,2,1,1,2,2,2,2,3,2,2,1,2,3,3,2,3,2,3,3,6,2,3,5,3,3,4,2)\n",
    "data2<-matrix(data,ncol=3,byrow=TRUE)\n",
    "#print(data2)\n",
    "df<-data.frame(data2)\n",
    "colnames(df)<-c(\"sample\",\"variable1\",\"variable2\")\n",
    "print(df)"
   ]
  },
  {
   "cell_type": "code",
   "execution_count": null,
   "metadata": {
    "colab": {
     "base_uri": "https://localhost:8080/",
     "height": 68
    },
    "id": "LedZbSPBCBfP",
    "outputId": "64704742-d0d7-4a18-8d95-032b3006484f"
   },
   "outputs": [
    {
     "data": {
      "text/plain": [
       "          Df Hotelling-Lawley approx F num Df den Df Pr(>F)\n",
       "sample     2          0.93916   1.6435      4     14 0.2187\n",
       "Residuals  9                                               "
      ]
     },
     "metadata": {
      "tags": []
     },
     "output_type": "display_data"
    }
   ],
   "source": [
    "#MANOVA Analysis\n",
    "df$sample<-as.factor(df$sample)\n",
    "vars<-as.matrix(df[,-1])\n",
    "#print(vars)\n",
    "fit<-manova(vars~sample,data=df)\n",
    "#fit\n",
    "summary(fit,\"Hotelling-Lawley\")"
   ]
  },
  {
   "cell_type": "markdown",
   "metadata": {
    "id": "Bbvf-ie_oVkv"
   },
   "source": [
    "#Punto 11 - NOT DONE\n",
    "Con un grado de significancia de $\\alpha = 0.05$ y dado que el P-valor de la estadística de Pillai es $P_{val} = 0.13$ (es decir $P_{val}>\\alpha$) se tiene que NO se rechaza la hipótesis nula de que $H_0: \\mu_1 = \\mu_2 = \\mu_3$. (BLABLABLA) As the 7th point"
   ]
  },
  {
   "cell_type": "code",
   "execution_count": null,
   "metadata": {
    "id": "8c-_iieooiyX"
   },
   "outputs": [],
   "source": [
    "#Same thing but differente data than in exc 7"
   ]
  },
  {
   "cell_type": "code",
   "execution_count": null,
   "metadata": {
    "id": "5AjMsItsojno"
   },
   "outputs": [],
   "source": [
    "#Same thing but differente data than in exc 7"
   ]
  },
  {
   "cell_type": "markdown",
   "metadata": {
    "id": "8wrfWIDLo-yW"
   },
   "source": [
    "#Punto 12\n",
    "Con un grado de significancia de $\\alpha = 0.05$ y dado que el P-valor de la estadística es $P_{val} = 0.51$ (es decir $P_{val}>\\alpha$) se tiene que NO se rechaza la hipótesis nula de que $H_0: \\Sigma = \\begin{pmatrix}2 & 1 \\\\ 1 & 1 \\end{pmatrix}$ "
   ]
  },
  {
   "cell_type": "code",
   "execution_count": null,
   "metadata": {
    "id": "x0CA7hXxoo7K"
   },
   "outputs": [],
   "source": [
    "#-----Sigma test function\n",
    "sigma.test<-function(Sigma_0,S,n){ #Pg235\n",
    "  # numero de filas la matriz Sigma\n",
    "  p<-nrow(S)\n",
    "  gl<-(1/2)*p*(p+1) # grados de libertad\n",
    "  # producto entre S y la inversa de Sigma_0\n",
    "  Sisigma_0<-S%*%solve(Sigma_0)\n",
    "  #determinante de sigma_0\n",
    "  D_sigma_0<-det(Sigma_0)\n",
    "  #determinante de S\n",
    "  D_S<-det(S)\n",
    "  # estad´ıstica lambda 5.2a\n",
    "  E_lambda<-(n-1)*(log(D_sigma_0)-log(D_S)+\n",
    "  sum(diag(Sisigma_0))-p)\n",
    "  # estad´ıstica lambda\n",
    "  E_lambda1<-(1-(1/(6*(n-1)))*(2*p+1-2/(p+1) ))* E_lambda\n",
    "  p_val<-pchisq(E_lambda1,gl) # pvalor\n",
    "  list(E_lambda1=E_lambda1, P_valor=p_val)\n",
    "}"
   ]
  },
  {
   "cell_type": "code",
   "execution_count": null,
   "metadata": {
    "colab": {
     "base_uri": "https://localhost:8080/",
     "height": 164
    },
    "id": "hVmJKahtRKfD",
    "outputId": "0fe3768c-2675-4e1e-e0a0-d41d40c43476"
   },
   "outputs": [
    {
     "name": "stdout",
     "output_type": "stream",
     "text": [
      "          [,1] [,2]\n",
      "[1,] 0.6666667    0\n",
      "[2,] 0.0000000    1\n"
     ]
    },
    {
     "data": {
      "text/html": [
       "<dl>\n",
       "\t<dt>$E_lambda1</dt>\n",
       "\t\t<dd>2.44207793143156</dd>\n",
       "\t<dt>$P_valor</dt>\n",
       "\t\t<dd>0.514150105089121</dd>\n",
       "</dl>\n"
      ],
      "text/latex": [
       "\\begin{description}\n",
       "\\item[\\$E\\_lambda1] 2.44207793143156\n",
       "\\item[\\$P\\_valor] 0.514150105089121\n",
       "\\end{description}\n"
      ],
      "text/markdown": [
       "$E_lambda1\n",
       ":   2.44207793143156\n",
       "$P_valor\n",
       ":   0.514150105089121\n",
       "\n",
       "\n"
      ],
      "text/plain": [
       "$E_lambda1\n",
       "[1] 2.442078\n",
       "\n",
       "$P_valor\n",
       "[1] 0.5141501\n"
      ]
     },
     "metadata": {
      "tags": []
     },
     "output_type": "display_data"
    }
   ],
   "source": [
    "sig0 <- c(2,1,1,1)\n",
    "data <- c(2,2,3,1,0,2,2,2)\n",
    "sig0M <- matrix(sig, ncol = 2, byrow = TRUE)\n",
    "#print(sig0M)\n",
    "dataM <- t(matrix(data, ncol = 4, byrow = TRUE))\n",
    "#print(dataM)\n",
    "SM<-cov(dataM)\n",
    "print(SM)\n",
    "# llamado de la funci´on\n",
    "sigma.test(sig0M,SM,n=4)"
   ]
  },
  {
   "cell_type": "markdown",
   "metadata": {
    "id": "8NyYU0cWdAaw"
   },
   "source": [
    "#Punto 14\n",
    "Con un grado de significancia de $\\alpha = 0.05$ y dado que el P-valor de la estadística es $P_{val} = 0.91$ (es decir $P_{val}>\\alpha$) se tiene que NO se rechaza la hipótesis nula de que $H_0: \\Sigma = \\begin{pmatrix}2 & 1 \\\\ 1 & 1 \\end{pmatrix}$ "
   ]
  },
  {
   "cell_type": "code",
   "execution_count": 28,
   "metadata": {
    "colab": {
     "base_uri": "https://localhost:8080/",
     "height": 266
    },
    "id": "hNcmQPxfdCQE",
    "outputId": "d8cc4cc0-88dd-420f-e0f1-176483a15409"
   },
   "outputs": [
    {
     "name": "stdout",
     "output_type": "stream",
     "text": [
      "     [,1] [,2]\n",
      "[1,]    3    2\n",
      "[2,]    2    3\n",
      "[3,]    6    2\n",
      "[4,]    5    3\n",
      "[5,]    4    2\n",
      "      [,1]  [,2]\n",
      "[1,]  2.50 -0.25\n",
      "[2,] -0.25  0.30\n"
     ]
    },
    {
     "data": {
      "text/html": [
       "<dl>\n",
       "\t<dt>$E_lambda1</dt>\n",
       "\t\t<dd>6.4726063065024</dd>\n",
       "\t<dt>$P_valor</dt>\n",
       "\t\t<dd>0.909250873462925</dd>\n",
       "</dl>\n"
      ],
      "text/latex": [
       "\\begin{description}\n",
       "\\item[\\$E\\_lambda1] 6.4726063065024\n",
       "\\item[\\$P\\_valor] 0.909250873462925\n",
       "\\end{description}\n"
      ],
      "text/markdown": [
       "$E_lambda1\n",
       ":   6.4726063065024\n",
       "$P_valor\n",
       ":   0.909250873462925\n",
       "\n",
       "\n"
      ],
      "text/plain": [
       "$E_lambda1\n",
       "[1] 6.472606\n",
       "\n",
       "$P_valor\n",
       "[1] 0.9092509\n"
      ]
     },
     "metadata": {
      "tags": []
     },
     "output_type": "display_data"
    }
   ],
   "source": [
    "sig0 <- c(2,1,1,1)\n",
    "data <- c(3,2,6,5,4,2,3,2,3,2)\n",
    "sig0M <- matrix(sig, ncol = 2, byrow = TRUE)\n",
    "#print(sig0M)\n",
    "dataM <- t(matrix(data, ncol = 5, byrow = TRUE))\n",
    "print(dataM)\n",
    "SM<-cov(dataM)\n",
    "print(SM)\n",
    "# llamado de la funci´on\n",
    "sigma.test(sig0M,SM,n=5)"
   ]
  },
  {
   "cell_type": "code",
   "execution_count": null,
   "metadata": {
    "id": "ZVm3HfEDdC5R"
   },
   "outputs": [],
   "source": []
  }
 ],
 "metadata": {
  "colab": {
   "collapsed_sections": [],
   "name": "TEM2 Exam.ipynb",
   "provenance": []
  },
  "kernelspec": {
   "display_name": "R",
   "language": "R",
   "name": "ir"
  },
  "language_info": {
   "codemirror_mode": "r",
   "file_extension": ".r",
   "mimetype": "text/x-r-source",
   "name": "R",
   "pygments_lexer": "r",
   "version": "3.6.1"
  }
 },
 "nbformat": 4,
 "nbformat_minor": 1
}
