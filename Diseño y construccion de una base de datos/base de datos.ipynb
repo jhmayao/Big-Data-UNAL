{
 "cells": [
  {
   "cell_type": "markdown",
   "id": "0a4b31ac",
   "metadata": {},
   "source": [
    "# Diseño y construcción de una base de datos"
   ]
  },
  {
   "cell_type": "markdown",
   "id": "dd98c816",
   "metadata": {},
   "source": [
    "### Jhon Eduwin Maya Orozco"
   ]
  },
  {
   "cell_type": "markdown",
   "id": "6c27eb04",
   "metadata": {},
   "source": [
    "Se utilizarán, para hacer la tarea, las bases de datos Menagerie, sakila y world_x. Se muestran los esquema de las bases."
   ]
  },
  {
   "cell_type": "markdown",
   "id": "f096e846",
   "metadata": {},
   "source": [
    "### Diagrama ER SAKILA"
   ]
  },
  {
   "cell_type": "markdown",
   "id": "1c5ec06e",
   "metadata": {},
   "source": [
    "![](esquemaER.png)"
   ]
  },
  {
   "cell_type": "markdown",
   "id": "70ac654a",
   "metadata": {},
   "source": [
    "### Diagrama ER menagerie"
   ]
  },
  {
   "cell_type": "markdown",
   "id": "33648761",
   "metadata": {},
   "source": [
    "![](esquema_menagerie.png)"
   ]
  },
  {
   "cell_type": "markdown",
   "id": "01c9974b",
   "metadata": {},
   "source": [
    "### Diagrama ER world_x"
   ]
  },
  {
   "cell_type": "markdown",
   "id": "0eed827d",
   "metadata": {},
   "source": [
    "![](ERworld_x.png)"
   ]
  },
  {
   "cell_type": "code",
   "execution_count": 1,
   "id": "078bbb21",
   "metadata": {},
   "outputs": [
    {
     "data": {
      "text/html": [
       "Query OK"
      ]
     },
     "metadata": {},
     "output_type": "display_data"
    }
   ],
   "source": [
    "use menagerie;"
   ]
  },
  {
   "cell_type": "code",
   "execution_count": 2,
   "id": "2c490cae",
   "metadata": {},
   "outputs": [
    {
     "data": {
      "text/html": [
       "<html><body><table border=\"1\"><tr><th style=\"text-align:left;white-space:pre\">Tables_in_menagerie</th></tr><tr><td style=\"text-align:left;white-space:pre\">event</td></tr><tr><td style=\"text-align:left;white-space:pre\">pet</td></tr></table></body></html>"
      ]
     },
     "metadata": {},
     "output_type": "display_data"
    }
   ],
   "source": [
    "show tables;"
   ]
  },
  {
   "cell_type": "code",
   "execution_count": 3,
   "id": "5f4e6ecb",
   "metadata": {},
   "outputs": [
    {
     "data": {
      "text/html": [
       "<html><body><table border=\"1\"><tr><th style=\"text-align:left;white-space:pre\">name</th><th style=\"text-align:left;white-space:pre\">date</th><th style=\"text-align:left;white-space:pre\">type</th><th style=\"text-align:left;white-space:pre\">remark</th></tr><tr><td style=\"text-align:left;white-space:pre\">Fluffy</td><td style=\"text-align:left;white-space:pre\">1995-05-15</td><td style=\"text-align:left;white-space:pre\">litter</td><td style=\"text-align:left;white-space:pre\">4 kittens, 3 female, 1 male</td></tr><tr><td style=\"text-align:left;white-space:pre\">Buffy</td><td style=\"text-align:left;white-space:pre\">1993-06-23</td><td style=\"text-align:left;white-space:pre\">litter</td><td style=\"text-align:left;white-space:pre\">5 puppies, 2 female, 3 male</td></tr><tr><td style=\"text-align:left;white-space:pre\">Buffy</td><td style=\"text-align:left;white-space:pre\">1994-06-19</td><td style=\"text-align:left;white-space:pre\">litter</td><td style=\"text-align:left;white-space:pre\">3 puppies, 3 female</td></tr><tr><td style=\"text-align:left;white-space:pre\">Chirpy</td><td style=\"text-align:left;white-space:pre\">1999-03-21</td><td style=\"text-align:left;white-space:pre\">vet</td><td style=\"text-align:left;white-space:pre\">needed beak straightened</td></tr><tr><td style=\"text-align:left;white-space:pre\">Slim</td><td style=\"text-align:left;white-space:pre\">1997-08-03</td><td style=\"text-align:left;white-space:pre\">vet</td><td style=\"text-align:left;white-space:pre\">broken rib</td></tr><tr><td style=\"text-align:left;white-space:pre\">Bowser</td><td style=\"text-align:left;white-space:pre\">1991-10-12</td><td style=\"text-align:left;white-space:pre\">kennel</td><td style=\"text-align:left;white-space:pre\">NULL</td></tr><tr><td style=\"text-align:left;white-space:pre\">Fang</td><td style=\"text-align:left;white-space:pre\">1991-10-12</td><td style=\"text-align:left;white-space:pre\">kennel</td><td style=\"text-align:left;white-space:pre\">NULL</td></tr><tr><td style=\"text-align:left;white-space:pre\">Fang</td><td style=\"text-align:left;white-space:pre\">1998-08-28</td><td style=\"text-align:left;white-space:pre\">birthday</td><td style=\"text-align:left;white-space:pre\">Gave him a new chew toy</td></tr><tr><td style=\"text-align:left;white-space:pre\">Claws</td><td style=\"text-align:left;white-space:pre\">1998-03-17</td><td style=\"text-align:left;white-space:pre\">birthday</td><td style=\"text-align:left;white-space:pre\">Gave him a new flea collar</td></tr><tr><td style=\"text-align:left;white-space:pre\">Whistler</td><td style=\"text-align:left;white-space:pre\">1998-12-09</td><td style=\"text-align:left;white-space:pre\">birthday</td><td style=\"text-align:left;white-space:pre\">First birthday</td></tr></table><table border=\"1\"><tr><th style=\"text-align:left;white-space:pre\">name</th><th style=\"text-align:left;white-space:pre\">owner</th><th style=\"text-align:left;white-space:pre\">species</th><th style=\"text-align:left;white-space:pre\">sex</th><th style=\"text-align:left;white-space:pre\">birth</th><th style=\"text-align:left;white-space:pre\">death</th></tr><tr><td style=\"text-align:left;white-space:pre\">Fluffy</td><td style=\"text-align:left;white-space:pre\">Harold</td><td style=\"text-align:left;white-space:pre\">cat</td><td style=\"text-align:left;white-space:pre\">f</td><td style=\"text-align:left;white-space:pre\">1993-02-04</td><td style=\"text-align:left;white-space:pre\">NULL</td></tr><tr><td style=\"text-align:left;white-space:pre\">Claws</td><td style=\"text-align:left;white-space:pre\">Gwen</td><td style=\"text-align:left;white-space:pre\">cat</td><td style=\"text-align:left;white-space:pre\">m</td><td style=\"text-align:left;white-space:pre\">1994-03-17</td><td style=\"text-align:left;white-space:pre\">NULL</td></tr><tr><td style=\"text-align:left;white-space:pre\">Buffy</td><td style=\"text-align:left;white-space:pre\">Harold</td><td style=\"text-align:left;white-space:pre\">dog</td><td style=\"text-align:left;white-space:pre\">f</td><td style=\"text-align:left;white-space:pre\">1989-05-13</td><td style=\"text-align:left;white-space:pre\">NULL</td></tr><tr><td style=\"text-align:left;white-space:pre\">Fang</td><td style=\"text-align:left;white-space:pre\">Benny</td><td style=\"text-align:left;white-space:pre\">dog</td><td style=\"text-align:left;white-space:pre\">m</td><td style=\"text-align:left;white-space:pre\">1990-08-27</td><td style=\"text-align:left;white-space:pre\">NULL</td></tr><tr><td style=\"text-align:left;white-space:pre\">Bowser</td><td style=\"text-align:left;white-space:pre\">Diane</td><td style=\"text-align:left;white-space:pre\">dog</td><td style=\"text-align:left;white-space:pre\">m</td><td style=\"text-align:left;white-space:pre\">1979-08-31</td><td style=\"text-align:left;white-space:pre\">1995-07-29</td></tr><tr><td style=\"text-align:left;white-space:pre\">Chirpy</td><td style=\"text-align:left;white-space:pre\">Gwen</td><td style=\"text-align:left;white-space:pre\">bird</td><td style=\"text-align:left;white-space:pre\">f</td><td style=\"text-align:left;white-space:pre\">1998-09-11</td><td style=\"text-align:left;white-space:pre\">NULL</td></tr><tr><td style=\"text-align:left;white-space:pre\">Whistler</td><td style=\"text-align:left;white-space:pre\">Gwen</td><td style=\"text-align:left;white-space:pre\">bird</td><td style=\"text-align:left;white-space:pre\">NULL</td><td style=\"text-align:left;white-space:pre\">1997-12-09</td><td style=\"text-align:left;white-space:pre\">NULL</td></tr><tr><td style=\"text-align:left;white-space:pre\">Slim</td><td style=\"text-align:left;white-space:pre\">Benny</td><td style=\"text-align:left;white-space:pre\">snake</td><td style=\"text-align:left;white-space:pre\">m</td><td style=\"text-align:left;white-space:pre\">1996-04-29</td><td style=\"text-align:left;white-space:pre\">NULL</td></tr><tr><td style=\"text-align:left;white-space:pre\">Puffball</td><td style=\"text-align:left;white-space:pre\">Diane</td><td style=\"text-align:left;white-space:pre\">hamster</td><td style=\"text-align:left;white-space:pre\">f</td><td style=\"text-align:left;white-space:pre\">1999-03-30</td><td style=\"text-align:left;white-space:pre\">NULL</td></tr></table></body></html>"
      ]
     },
     "metadata": {},
     "output_type": "display_data"
    }
   ],
   "source": [
    "select * from event;\n",
    "select * from pet;"
   ]
  },
  {
   "cell_type": "code",
   "execution_count": 4,
   "id": "db34ff26",
   "metadata": {},
   "outputs": [
    {
     "data": {
      "text/html": [
       "<html><body><table border=\"1\"><tr><th style=\"text-align:left;white-space:pre\">name</th><th style=\"text-align:left;white-space:pre\">owner</th></tr><tr><td style=\"text-align:left;white-space:pre\">Fluffy</td><td style=\"text-align:left;white-space:pre\">Harold</td></tr><tr><td style=\"text-align:left;white-space:pre\">Claws</td><td style=\"text-align:left;white-space:pre\">Gwen</td></tr><tr><td style=\"text-align:left;white-space:pre\">Buffy</td><td style=\"text-align:left;white-space:pre\">Harold</td></tr><tr><td style=\"text-align:left;white-space:pre\">Fang</td><td style=\"text-align:left;white-space:pre\">Benny</td></tr><tr><td style=\"text-align:left;white-space:pre\">Bowser</td><td style=\"text-align:left;white-space:pre\">Diane</td></tr><tr><td style=\"text-align:left;white-space:pre\">Chirpy</td><td style=\"text-align:left;white-space:pre\">Gwen</td></tr><tr><td style=\"text-align:left;white-space:pre\">Whistler</td><td style=\"text-align:left;white-space:pre\">Gwen</td></tr><tr><td style=\"text-align:left;white-space:pre\">Slim</td><td style=\"text-align:left;white-space:pre\">Benny</td></tr><tr><td style=\"text-align:left;white-space:pre\">Puffball</td><td style=\"text-align:left;white-space:pre\">Diane</td></tr></table></body></html>"
      ]
     },
     "metadata": {},
     "output_type": "display_data"
    }
   ],
   "source": [
    "select name, owner from pet;"
   ]
  },
  {
   "cell_type": "markdown",
   "id": "af54875a",
   "metadata": {},
   "source": [
    "## Procedimientos almacenados"
   ]
  },
  {
   "cell_type": "markdown",
   "id": "dd9d92ed",
   "metadata": {},
   "source": [
    "Para explicar los procedimientos almacenados pongámonos en una situación, imaginemos que nos encontramos en un entorno de trabajo en el cual hay varias personas con varias aplicaciones trabajando contra una base de datos, por ejemplo 6 usuarios con 6 applicaciones diferentes que trabajan sobre la misma base de datos y constantemente hacen consultas sobre ella. \n",
    "\n",
    "En estos casos es bastante útil crear un procedimiento almacenado por cuestiones tanto de eficiencia como de seguridad, los procedimientos almacenados como su nombre lo indica son acciones predeterminadas a las que los usuarios de la base de datos pueden acceder de manera sencilla, con el fin de acortar tiempo y por lo tanto mejorar la eficiencia, así un usuario no tendrá que crear cada vez que necesite hacer una consulta un query, sino que a traves de un procedimiento almacenado puede acceder a esta misma información directamente, además el administrador de bases de datos tendrá la confianza de que los usuarios no modificaran por error los registros de la base de datos al utilizarla directamente, sino que siempre lo harán a traves de un procedimiento diseñado y almacenado directamente por el. \n",
    "\n",
    "pueden asemejarse los procedimientos almacenados a las funciones en otros lenguajes de programación. A continuación podemos ver un ejemplo usando la base de datos sakila:"
   ]
  },
  {
   "cell_type": "code",
   "execution_count": 25,
   "id": "2089337f",
   "metadata": {},
   "outputs": [
    {
     "data": {
      "text/html": [
       "Query OK"
      ]
     },
     "metadata": {},
     "output_type": "display_data"
    }
   ],
   "source": [
    "USE sakila;"
   ]
  },
  {
   "cell_type": "markdown",
   "id": "c177c220",
   "metadata": {},
   "source": [
    "Verificamos las tablas de la base de datos"
   ]
  },
  {
   "cell_type": "code",
   "execution_count": 28,
   "id": "11d7b18d",
   "metadata": {},
   "outputs": [
    {
     "data": {
      "text/html": [
       "<html><body><table border=\"1\"><tr><th style=\"text-align:left;white-space:pre\">Tables_in_sakila</th><th style=\"text-align:left;white-space:pre\">Table_type</th></tr><tr><td style=\"text-align:left;white-space:pre\">actor</td><td style=\"text-align:left;white-space:pre\">BASE TABLE</td></tr><tr><td style=\"text-align:left;white-space:pre\">actor_info</td><td style=\"text-align:left;white-space:pre\">VIEW</td></tr><tr><td style=\"text-align:left;white-space:pre\">address</td><td style=\"text-align:left;white-space:pre\">BASE TABLE</td></tr><tr><td style=\"text-align:left;white-space:pre\">category</td><td style=\"text-align:left;white-space:pre\">BASE TABLE</td></tr><tr><td style=\"text-align:left;white-space:pre\">city</td><td style=\"text-align:left;white-space:pre\">BASE TABLE</td></tr><tr><td style=\"text-align:left;white-space:pre\">country</td><td style=\"text-align:left;white-space:pre\">BASE TABLE</td></tr><tr><td style=\"text-align:left;white-space:pre\">customer</td><td style=\"text-align:left;white-space:pre\">BASE TABLE</td></tr><tr><td style=\"text-align:left;white-space:pre\">customer_list</td><td style=\"text-align:left;white-space:pre\">VIEW</td></tr><tr><td style=\"text-align:left;white-space:pre\">film</td><td style=\"text-align:left;white-space:pre\">BASE TABLE</td></tr><tr><td style=\"text-align:left;white-space:pre\">film_actor</td><td style=\"text-align:left;white-space:pre\">BASE TABLE</td></tr><tr><td style=\"text-align:left;white-space:pre\">film_category</td><td style=\"text-align:left;white-space:pre\">BASE TABLE</td></tr><tr><td style=\"text-align:left;white-space:pre\">film_list</td><td style=\"text-align:left;white-space:pre\">VIEW</td></tr><tr><td style=\"text-align:left;white-space:pre\">film_text</td><td style=\"text-align:left;white-space:pre\">BASE TABLE</td></tr><tr><td style=\"text-align:left;white-space:pre\">inventory</td><td style=\"text-align:left;white-space:pre\">BASE TABLE</td></tr><tr><td style=\"text-align:left;white-space:pre\">language</td><td style=\"text-align:left;white-space:pre\">BASE TABLE</td></tr><tr><td style=\"text-align:left;white-space:pre\">nicer_but_slower_film_list</td><td style=\"text-align:left;white-space:pre\">VIEW</td></tr><tr><td style=\"text-align:left;white-space:pre\">payment</td><td style=\"text-align:left;white-space:pre\">BASE TABLE</td></tr><tr><td style=\"text-align:left;white-space:pre\">rental</td><td style=\"text-align:left;white-space:pre\">BASE TABLE</td></tr><tr><td style=\"text-align:left;white-space:pre\">sales_by_film_category</td><td style=\"text-align:left;white-space:pre\">VIEW</td></tr><tr><td style=\"text-align:left;white-space:pre\">sales_by_store</td><td style=\"text-align:left;white-space:pre\">VIEW</td></tr><tr><td style=\"text-align:left;white-space:pre\">staff</td><td style=\"text-align:left;white-space:pre\">BASE TABLE</td></tr><tr><td style=\"text-align:left;white-space:pre\">staff_list</td><td style=\"text-align:left;white-space:pre\">VIEW</td></tr><tr><td style=\"text-align:left;white-space:pre\">store</td><td style=\"text-align:left;white-space:pre\">BASE TABLE</td></tr></table></body></html>"
      ]
     },
     "metadata": {},
     "output_type": "display_data"
    }
   ],
   "source": [
    "SHOW FULL TABLES;"
   ]
  },
  {
   "cell_type": "markdown",
   "id": "8f99c29e",
   "metadata": {},
   "source": [
    "Analizamos algunos campos de la tabla para entenderla, como ejemplo podemos crear un procedimiento que nos devuelva las peliculas que fueron estrenadas en un año determinada, únicamente especificando el año"
   ]
  },
  {
   "cell_type": "code",
   "execution_count": 32,
   "id": "3aa2702d",
   "metadata": {},
   "outputs": [
    {
     "data": {
      "text/html": [
       "<html><body><table border=\"1\"><tr><th style=\"text-align:left;white-space:pre\">film_id</th><th style=\"text-align:left;white-space:pre\">title</th><th style=\"text-align:left;white-space:pre\">description</th><th style=\"text-align:left;white-space:pre\">release_year</th><th style=\"text-align:left;white-space:pre\">language_id</th><th style=\"text-align:left;white-space:pre\">original_language_id</th><th style=\"text-align:left;white-space:pre\">rental_duration</th><th style=\"text-align:left;white-space:pre\">rental_rate</th><th style=\"text-align:left;white-space:pre\">length</th><th style=\"text-align:left;white-space:pre\">replacement_cost</th><th style=\"text-align:left;white-space:pre\">rating</th><th style=\"text-align:left;white-space:pre\">special_features</th><th style=\"text-align:left;white-space:pre\">last_update</th></tr><tr><td style=\"text-align:left;white-space:pre\">1</td><td style=\"text-align:left;white-space:pre\">ACADEMY DINOSAUR</td><td style=\"text-align:left;white-space:pre\">A Epic Drama of a Feminist And a Mad Scientist who must Battle a Teacher in The Canadian Rockies</td><td style=\"text-align:left;white-space:pre\">2006</td><td style=\"text-align:left;white-space:pre\">1</td><td style=\"text-align:left;white-space:pre\">NULL</td><td style=\"text-align:left;white-space:pre\">6</td><td style=\"text-align:left;white-space:pre\">0.99</td><td style=\"text-align:left;white-space:pre\">86</td><td style=\"text-align:left;white-space:pre\">20.99</td><td style=\"text-align:left;white-space:pre\">PG</td><td style=\"text-align:left;white-space:pre\">Deleted Scenes,Behind the Scenes</td><td style=\"text-align:left;white-space:pre\">2006-02-15 05:03:42</td></tr><tr><td style=\"text-align:left;white-space:pre\">2</td><td style=\"text-align:left;white-space:pre\">ACE GOLDFINGER</td><td style=\"text-align:left;white-space:pre\">A Astounding Epistle of a Database Administrator And a Explorer who must Find a Car in Ancient China</td><td style=\"text-align:left;white-space:pre\">2006</td><td style=\"text-align:left;white-space:pre\">1</td><td style=\"text-align:left;white-space:pre\">NULL</td><td style=\"text-align:left;white-space:pre\">3</td><td style=\"text-align:left;white-space:pre\">4.99</td><td style=\"text-align:left;white-space:pre\">48</td><td style=\"text-align:left;white-space:pre\">12.99</td><td style=\"text-align:left;white-space:pre\">G</td><td style=\"text-align:left;white-space:pre\">Trailers,Deleted Scenes</td><td style=\"text-align:left;white-space:pre\">2006-02-15 05:03:42</td></tr><tr><td style=\"text-align:left;white-space:pre\">3</td><td style=\"text-align:left;white-space:pre\">ADAPTATION HOLES</td><td style=\"text-align:left;white-space:pre\">A Astounding Reflection of a Lumberjack And a Car who must Sink a Lumberjack in A Baloon Factory</td><td style=\"text-align:left;white-space:pre\">2006</td><td style=\"text-align:left;white-space:pre\">1</td><td style=\"text-align:left;white-space:pre\">NULL</td><td style=\"text-align:left;white-space:pre\">7</td><td style=\"text-align:left;white-space:pre\">2.99</td><td style=\"text-align:left;white-space:pre\">50</td><td style=\"text-align:left;white-space:pre\">18.99</td><td style=\"text-align:left;white-space:pre\">NC-17</td><td style=\"text-align:left;white-space:pre\">Trailers,Deleted Scenes</td><td style=\"text-align:left;white-space:pre\">2006-02-15 05:03:42</td></tr><tr><td style=\"text-align:left;white-space:pre\">4</td><td style=\"text-align:left;white-space:pre\">AFFAIR PREJUDICE</td><td style=\"text-align:left;white-space:pre\">A Fanciful Documentary of a Frisbee And a Lumberjack who must Chase a Monkey in A Shark Tank</td><td style=\"text-align:left;white-space:pre\">2006</td><td style=\"text-align:left;white-space:pre\">1</td><td style=\"text-align:left;white-space:pre\">NULL</td><td style=\"text-align:left;white-space:pre\">5</td><td style=\"text-align:left;white-space:pre\">2.99</td><td style=\"text-align:left;white-space:pre\">117</td><td style=\"text-align:left;white-space:pre\">26.99</td><td style=\"text-align:left;white-space:pre\">G</td><td style=\"text-align:left;white-space:pre\">Commentaries,Behind the Scenes</td><td style=\"text-align:left;white-space:pre\">2006-02-15 05:03:42</td></tr><tr><td style=\"text-align:left;white-space:pre\">5</td><td style=\"text-align:left;white-space:pre\">AFRICAN EGG</td><td style=\"text-align:left;white-space:pre\">A Fast-Paced Documentary of a Pastry Chef And a Dentist who must Pursue a Forensic Psychologist in The Gulf of Mexico</td><td style=\"text-align:left;white-space:pre\">2006</td><td style=\"text-align:left;white-space:pre\">1</td><td style=\"text-align:left;white-space:pre\">NULL</td><td style=\"text-align:left;white-space:pre\">6</td><td style=\"text-align:left;white-space:pre\">2.99</td><td style=\"text-align:left;white-space:pre\">130</td><td style=\"text-align:left;white-space:pre\">22.99</td><td style=\"text-align:left;white-space:pre\">G</td><td style=\"text-align:left;white-space:pre\">Deleted Scenes</td><td style=\"text-align:left;white-space:pre\">2006-02-15 05:03:42</td></tr><tr><td style=\"text-align:left;white-space:pre\">6</td><td style=\"text-align:left;white-space:pre\">AGENT TRUMAN</td><td style=\"text-align:left;white-space:pre\">A Intrepid Panorama of a Robot And a Boy who must Escape a Sumo Wrestler in Ancient China</td><td style=\"text-align:left;white-space:pre\">2006</td><td style=\"text-align:left;white-space:pre\">1</td><td style=\"text-align:left;white-space:pre\">NULL</td><td style=\"text-align:left;white-space:pre\">3</td><td style=\"text-align:left;white-space:pre\">2.99</td><td style=\"text-align:left;white-space:pre\">169</td><td style=\"text-align:left;white-space:pre\">17.99</td><td style=\"text-align:left;white-space:pre\">PG</td><td style=\"text-align:left;white-space:pre\">Deleted Scenes</td><td style=\"text-align:left;white-space:pre\">2006-02-15 05:03:42</td></tr><tr><td style=\"text-align:left;white-space:pre\">7</td><td style=\"text-align:left;white-space:pre\">AIRPLANE SIERRA</td><td style=\"text-align:left;white-space:pre\">A Touching Saga of a Hunter And a Butler who must Discover a Butler in A Jet Boat</td><td style=\"text-align:left;white-space:pre\">2006</td><td style=\"text-align:left;white-space:pre\">1</td><td style=\"text-align:left;white-space:pre\">NULL</td><td style=\"text-align:left;white-space:pre\">6</td><td style=\"text-align:left;white-space:pre\">4.99</td><td style=\"text-align:left;white-space:pre\">62</td><td style=\"text-align:left;white-space:pre\">28.99</td><td style=\"text-align:left;white-space:pre\">PG-13</td><td style=\"text-align:left;white-space:pre\">Trailers,Deleted Scenes</td><td style=\"text-align:left;white-space:pre\">2006-02-15 05:03:42</td></tr><tr><td style=\"text-align:left;white-space:pre\">8</td><td style=\"text-align:left;white-space:pre\">AIRPORT POLLOCK</td><td style=\"text-align:left;white-space:pre\">A Epic Tale of a Moose And a Girl who must Confront a Monkey in Ancient India</td><td style=\"text-align:left;white-space:pre\">2006</td><td style=\"text-align:left;white-space:pre\">1</td><td style=\"text-align:left;white-space:pre\">NULL</td><td style=\"text-align:left;white-space:pre\">6</td><td style=\"text-align:left;white-space:pre\">4.99</td><td style=\"text-align:left;white-space:pre\">54</td><td style=\"text-align:left;white-space:pre\">15.99</td><td style=\"text-align:left;white-space:pre\">R</td><td style=\"text-align:left;white-space:pre\">Trailers</td><td style=\"text-align:left;white-space:pre\">2006-02-15 05:03:42</td></tr><tr><td style=\"text-align:left;white-space:pre\">9</td><td style=\"text-align:left;white-space:pre\">ALABAMA DEVIL</td><td style=\"text-align:left;white-space:pre\">A Thoughtful Panorama of a Database Administrator And a Mad Scientist who must Outgun a Mad Scientist in A Jet Boat</td><td style=\"text-align:left;white-space:pre\">2006</td><td style=\"text-align:left;white-space:pre\">1</td><td style=\"text-align:left;white-space:pre\">NULL</td><td style=\"text-align:left;white-space:pre\">3</td><td style=\"text-align:left;white-space:pre\">2.99</td><td style=\"text-align:left;white-space:pre\">114</td><td style=\"text-align:left;white-space:pre\">21.99</td><td style=\"text-align:left;white-space:pre\">PG-13</td><td style=\"text-align:left;white-space:pre\">Trailers,Deleted Scenes</td><td style=\"text-align:left;white-space:pre\">2006-02-15 05:03:42</td></tr></table></body></html>"
      ]
     },
     "metadata": {},
     "output_type": "display_data"
    }
   ],
   "source": [
    "SELECT *\n",
    "FROM film\n",
    "WHERE film_id < 10;"
   ]
  },
  {
   "cell_type": "markdown",
   "id": "a1131308",
   "metadata": {},
   "source": [
    "A continuación se crea el procedimiento, se le da por nombre quantities2, y se especifica que recibira un parametro de tipo entero como argumento"
   ]
  },
  {
   "cell_type": "code",
   "execution_count": 46,
   "id": "4f92139b",
   "metadata": {},
   "outputs": [
    {
     "data": {
      "text/html": [
       "Query OK"
      ]
     },
     "metadata": {},
     "output_type": "display_data"
    }
   ],
   "source": [
    "CREATE PROCEDURE quantities2(queri INT)\n",
    "SELECT *\n",
    "FROM film\n",
    "WHERE film_id < queri + 1; "
   ]
  },
  {
   "cell_type": "markdown",
   "id": "fe918a80",
   "metadata": {},
   "source": [
    "Aquí le pasamos como parametro 10, con lo que se nos mostraran todas aquellas peliculas cuyo id sea 10 o menos"
   ]
  },
  {
   "cell_type": "code",
   "execution_count": 47,
   "id": "77589276",
   "metadata": {},
   "outputs": [
    {
     "data": {
      "text/html": [
       "<html><body><table border=\"1\"><tr><th style=\"text-align:left;white-space:pre\">film_id</th><th style=\"text-align:left;white-space:pre\">title</th><th style=\"text-align:left;white-space:pre\">description</th><th style=\"text-align:left;white-space:pre\">release_year</th><th style=\"text-align:left;white-space:pre\">language_id</th><th style=\"text-align:left;white-space:pre\">original_language_id</th><th style=\"text-align:left;white-space:pre\">rental_duration</th><th style=\"text-align:left;white-space:pre\">rental_rate</th><th style=\"text-align:left;white-space:pre\">length</th><th style=\"text-align:left;white-space:pre\">replacement_cost</th><th style=\"text-align:left;white-space:pre\">rating</th><th style=\"text-align:left;white-space:pre\">special_features</th><th style=\"text-align:left;white-space:pre\">last_update</th></tr><tr><td style=\"text-align:left;white-space:pre\">1</td><td style=\"text-align:left;white-space:pre\">ACADEMY DINOSAUR</td><td style=\"text-align:left;white-space:pre\">A Epic Drama of a Feminist And a Mad Scientist who must Battle a Teacher in The Canadian Rockies</td><td style=\"text-align:left;white-space:pre\">2006</td><td style=\"text-align:left;white-space:pre\">1</td><td style=\"text-align:left;white-space:pre\">NULL</td><td style=\"text-align:left;white-space:pre\">6</td><td style=\"text-align:left;white-space:pre\">0.99</td><td style=\"text-align:left;white-space:pre\">86</td><td style=\"text-align:left;white-space:pre\">20.99</td><td style=\"text-align:left;white-space:pre\">PG</td><td style=\"text-align:left;white-space:pre\">Deleted Scenes,Behind the Scenes</td><td style=\"text-align:left;white-space:pre\">2006-02-15 05:03:42</td></tr><tr><td style=\"text-align:left;white-space:pre\">2</td><td style=\"text-align:left;white-space:pre\">ACE GOLDFINGER</td><td style=\"text-align:left;white-space:pre\">A Astounding Epistle of a Database Administrator And a Explorer who must Find a Car in Ancient China</td><td style=\"text-align:left;white-space:pre\">2006</td><td style=\"text-align:left;white-space:pre\">1</td><td style=\"text-align:left;white-space:pre\">NULL</td><td style=\"text-align:left;white-space:pre\">3</td><td style=\"text-align:left;white-space:pre\">4.99</td><td style=\"text-align:left;white-space:pre\">48</td><td style=\"text-align:left;white-space:pre\">12.99</td><td style=\"text-align:left;white-space:pre\">G</td><td style=\"text-align:left;white-space:pre\">Trailers,Deleted Scenes</td><td style=\"text-align:left;white-space:pre\">2006-02-15 05:03:42</td></tr><tr><td style=\"text-align:left;white-space:pre\">3</td><td style=\"text-align:left;white-space:pre\">ADAPTATION HOLES</td><td style=\"text-align:left;white-space:pre\">A Astounding Reflection of a Lumberjack And a Car who must Sink a Lumberjack in A Baloon Factory</td><td style=\"text-align:left;white-space:pre\">2006</td><td style=\"text-align:left;white-space:pre\">1</td><td style=\"text-align:left;white-space:pre\">NULL</td><td style=\"text-align:left;white-space:pre\">7</td><td style=\"text-align:left;white-space:pre\">2.99</td><td style=\"text-align:left;white-space:pre\">50</td><td style=\"text-align:left;white-space:pre\">18.99</td><td style=\"text-align:left;white-space:pre\">NC-17</td><td style=\"text-align:left;white-space:pre\">Trailers,Deleted Scenes</td><td style=\"text-align:left;white-space:pre\">2006-02-15 05:03:42</td></tr><tr><td style=\"text-align:left;white-space:pre\">4</td><td style=\"text-align:left;white-space:pre\">AFFAIR PREJUDICE</td><td style=\"text-align:left;white-space:pre\">A Fanciful Documentary of a Frisbee And a Lumberjack who must Chase a Monkey in A Shark Tank</td><td style=\"text-align:left;white-space:pre\">2006</td><td style=\"text-align:left;white-space:pre\">1</td><td style=\"text-align:left;white-space:pre\">NULL</td><td style=\"text-align:left;white-space:pre\">5</td><td style=\"text-align:left;white-space:pre\">2.99</td><td style=\"text-align:left;white-space:pre\">117</td><td style=\"text-align:left;white-space:pre\">26.99</td><td style=\"text-align:left;white-space:pre\">G</td><td style=\"text-align:left;white-space:pre\">Commentaries,Behind the Scenes</td><td style=\"text-align:left;white-space:pre\">2006-02-15 05:03:42</td></tr><tr><td style=\"text-align:left;white-space:pre\">5</td><td style=\"text-align:left;white-space:pre\">AFRICAN EGG</td><td style=\"text-align:left;white-space:pre\">A Fast-Paced Documentary of a Pastry Chef And a Dentist who must Pursue a Forensic Psychologist in The Gulf of Mexico</td><td style=\"text-align:left;white-space:pre\">2006</td><td style=\"text-align:left;white-space:pre\">1</td><td style=\"text-align:left;white-space:pre\">NULL</td><td style=\"text-align:left;white-space:pre\">6</td><td style=\"text-align:left;white-space:pre\">2.99</td><td style=\"text-align:left;white-space:pre\">130</td><td style=\"text-align:left;white-space:pre\">22.99</td><td style=\"text-align:left;white-space:pre\">G</td><td style=\"text-align:left;white-space:pre\">Deleted Scenes</td><td style=\"text-align:left;white-space:pre\">2006-02-15 05:03:42</td></tr><tr><td style=\"text-align:left;white-space:pre\">6</td><td style=\"text-align:left;white-space:pre\">AGENT TRUMAN</td><td style=\"text-align:left;white-space:pre\">A Intrepid Panorama of a Robot And a Boy who must Escape a Sumo Wrestler in Ancient China</td><td style=\"text-align:left;white-space:pre\">2006</td><td style=\"text-align:left;white-space:pre\">1</td><td style=\"text-align:left;white-space:pre\">NULL</td><td style=\"text-align:left;white-space:pre\">3</td><td style=\"text-align:left;white-space:pre\">2.99</td><td style=\"text-align:left;white-space:pre\">169</td><td style=\"text-align:left;white-space:pre\">17.99</td><td style=\"text-align:left;white-space:pre\">PG</td><td style=\"text-align:left;white-space:pre\">Deleted Scenes</td><td style=\"text-align:left;white-space:pre\">2006-02-15 05:03:42</td></tr><tr><td style=\"text-align:left;white-space:pre\">7</td><td style=\"text-align:left;white-space:pre\">AIRPLANE SIERRA</td><td style=\"text-align:left;white-space:pre\">A Touching Saga of a Hunter And a Butler who must Discover a Butler in A Jet Boat</td><td style=\"text-align:left;white-space:pre\">2006</td><td style=\"text-align:left;white-space:pre\">1</td><td style=\"text-align:left;white-space:pre\">NULL</td><td style=\"text-align:left;white-space:pre\">6</td><td style=\"text-align:left;white-space:pre\">4.99</td><td style=\"text-align:left;white-space:pre\">62</td><td style=\"text-align:left;white-space:pre\">28.99</td><td style=\"text-align:left;white-space:pre\">PG-13</td><td style=\"text-align:left;white-space:pre\">Trailers,Deleted Scenes</td><td style=\"text-align:left;white-space:pre\">2006-02-15 05:03:42</td></tr><tr><td style=\"text-align:left;white-space:pre\">8</td><td style=\"text-align:left;white-space:pre\">AIRPORT POLLOCK</td><td style=\"text-align:left;white-space:pre\">A Epic Tale of a Moose And a Girl who must Confront a Monkey in Ancient India</td><td style=\"text-align:left;white-space:pre\">2006</td><td style=\"text-align:left;white-space:pre\">1</td><td style=\"text-align:left;white-space:pre\">NULL</td><td style=\"text-align:left;white-space:pre\">6</td><td style=\"text-align:left;white-space:pre\">4.99</td><td style=\"text-align:left;white-space:pre\">54</td><td style=\"text-align:left;white-space:pre\">15.99</td><td style=\"text-align:left;white-space:pre\">R</td><td style=\"text-align:left;white-space:pre\">Trailers</td><td style=\"text-align:left;white-space:pre\">2006-02-15 05:03:42</td></tr><tr><td style=\"text-align:left;white-space:pre\">9</td><td style=\"text-align:left;white-space:pre\">ALABAMA DEVIL</td><td style=\"text-align:left;white-space:pre\">A Thoughtful Panorama of a Database Administrator And a Mad Scientist who must Outgun a Mad Scientist in A Jet Boat</td><td style=\"text-align:left;white-space:pre\">2006</td><td style=\"text-align:left;white-space:pre\">1</td><td style=\"text-align:left;white-space:pre\">NULL</td><td style=\"text-align:left;white-space:pre\">3</td><td style=\"text-align:left;white-space:pre\">2.99</td><td style=\"text-align:left;white-space:pre\">114</td><td style=\"text-align:left;white-space:pre\">21.99</td><td style=\"text-align:left;white-space:pre\">PG-13</td><td style=\"text-align:left;white-space:pre\">Trailers,Deleted Scenes</td><td style=\"text-align:left;white-space:pre\">2006-02-15 05:03:42</td></tr><tr><td style=\"text-align:left;white-space:pre\">10</td><td style=\"text-align:left;white-space:pre\">ALADDIN CALENDAR</td><td style=\"text-align:left;white-space:pre\">A Action-Packed Tale of a Man And a Lumberjack who must Reach a Feminist in Ancient China</td><td style=\"text-align:left;white-space:pre\">2006</td><td style=\"text-align:left;white-space:pre\">1</td><td style=\"text-align:left;white-space:pre\">NULL</td><td style=\"text-align:left;white-space:pre\">6</td><td style=\"text-align:left;white-space:pre\">4.99</td><td style=\"text-align:left;white-space:pre\">63</td><td style=\"text-align:left;white-space:pre\">24.99</td><td style=\"text-align:left;white-space:pre\">NC-17</td><td style=\"text-align:left;white-space:pre\">Trailers,Deleted Scenes</td><td style=\"text-align:left;white-space:pre\">2006-02-15 05:03:42</td></tr></table></body></html>"
      ]
     },
     "metadata": {},
     "output_type": "display_data"
    }
   ],
   "source": [
    "CALL quantities2(10);"
   ]
  },
  {
   "cell_type": "markdown",
   "id": "354198d0",
   "metadata": {},
   "source": [
    "## Funciones"
   ]
  },
  {
   "cell_type": "markdown",
   "id": "7a4ac638",
   "metadata": {},
   "source": [
    "Una funcion es un programa almacenado en mariaDB al cual se le pueden pasar parámetros y nos regresa un resultado luego de evaluar los parámetros asignados, existen funciones built-in en mariaDB que son aquellas que vienen programadas por defecto dentro del RDBMS, como también podemos crear nuestras propias funciones si tenemos los permisos suficientes y usarla luego como cualquier otra funcion. Veamos un ejemplo utilizando la BD Menagerie"
   ]
  },
  {
   "cell_type": "code",
   "execution_count": 1,
   "id": "950ccd92",
   "metadata": {},
   "outputs": [
    {
     "data": {
      "text/html": [
       "Query OK"
      ]
     },
     "metadata": {},
     "output_type": "display_data"
    }
   ],
   "source": [
    "USE menagerie;"
   ]
  },
  {
   "cell_type": "code",
   "execution_count": 2,
   "id": "e454e5d1",
   "metadata": {},
   "outputs": [
    {
     "data": {
      "text/html": [
       "<html><body><table border=\"1\"><tr><th style=\"text-align:left;white-space:pre\">Tables_in_menagerie</th></tr><tr><td style=\"text-align:left;white-space:pre\">event</td></tr><tr><td style=\"text-align:left;white-space:pre\">pet</td></tr></table></body></html>"
      ]
     },
     "metadata": {},
     "output_type": "display_data"
    }
   ],
   "source": [
    "SHOW TABLES;"
   ]
  },
  {
   "cell_type": "code",
   "execution_count": 3,
   "id": "5e1f3249",
   "metadata": {},
   "outputs": [
    {
     "data": {
      "text/html": [
       "<html><body><table border=\"1\"><tr><th style=\"text-align:left;white-space:pre\">name</th><th style=\"text-align:left;white-space:pre\">date</th><th style=\"text-align:left;white-space:pre\">type</th><th style=\"text-align:left;white-space:pre\">remark</th></tr><tr><td style=\"text-align:left;white-space:pre\">Fluffy</td><td style=\"text-align:left;white-space:pre\">1995-05-15</td><td style=\"text-align:left;white-space:pre\">litter</td><td style=\"text-align:left;white-space:pre\">4 kittens, 3 female, 1 male</td></tr><tr><td style=\"text-align:left;white-space:pre\">Buffy</td><td style=\"text-align:left;white-space:pre\">1993-06-23</td><td style=\"text-align:left;white-space:pre\">litter</td><td style=\"text-align:left;white-space:pre\">5 puppies, 2 female, 3 male</td></tr><tr><td style=\"text-align:left;white-space:pre\">Buffy</td><td style=\"text-align:left;white-space:pre\">1994-06-19</td><td style=\"text-align:left;white-space:pre\">litter</td><td style=\"text-align:left;white-space:pre\">3 puppies, 3 female</td></tr><tr><td style=\"text-align:left;white-space:pre\">Chirpy</td><td style=\"text-align:left;white-space:pre\">1999-03-21</td><td style=\"text-align:left;white-space:pre\">vet</td><td style=\"text-align:left;white-space:pre\">needed beak straightened</td></tr><tr><td style=\"text-align:left;white-space:pre\">Slim</td><td style=\"text-align:left;white-space:pre\">1997-08-03</td><td style=\"text-align:left;white-space:pre\">vet</td><td style=\"text-align:left;white-space:pre\">broken rib</td></tr><tr><td style=\"text-align:left;white-space:pre\">Bowser</td><td style=\"text-align:left;white-space:pre\">1991-10-12</td><td style=\"text-align:left;white-space:pre\">kennel</td><td style=\"text-align:left;white-space:pre\">NULL</td></tr><tr><td style=\"text-align:left;white-space:pre\">Fang</td><td style=\"text-align:left;white-space:pre\">1991-10-12</td><td style=\"text-align:left;white-space:pre\">kennel</td><td style=\"text-align:left;white-space:pre\">NULL</td></tr><tr><td style=\"text-align:left;white-space:pre\">Fang</td><td style=\"text-align:left;white-space:pre\">1998-08-28</td><td style=\"text-align:left;white-space:pre\">birthday</td><td style=\"text-align:left;white-space:pre\">Gave him a new chew toy</td></tr><tr><td style=\"text-align:left;white-space:pre\">Claws</td><td style=\"text-align:left;white-space:pre\">1998-03-17</td><td style=\"text-align:left;white-space:pre\">birthday</td><td style=\"text-align:left;white-space:pre\">Gave him a new flea collar</td></tr><tr><td style=\"text-align:left;white-space:pre\">Whistler</td><td style=\"text-align:left;white-space:pre\">1998-12-09</td><td style=\"text-align:left;white-space:pre\">birthday</td><td style=\"text-align:left;white-space:pre\">First birthday</td></tr></table></body></html>"
      ]
     },
     "metadata": {},
     "output_type": "display_data"
    }
   ],
   "source": [
    "SELECT * \n",
    "FROM event;"
   ]
  },
  {
   "cell_type": "code",
   "execution_count": 7,
   "id": "f9518098",
   "metadata": {},
   "outputs": [
    {
     "data": {
      "text/html": [
       "<html><body><table border=\"1\"><tr><th style=\"text-align:left;white-space:pre\">COUNT(*)</th></tr><tr><td style=\"text-align:left;white-space:pre\">10</td></tr></table><table border=\"1\"><tr><th style=\"text-align:left;white-space:pre\">COUNT(DISTINCT type)</th></tr><tr><td style=\"text-align:left;white-space:pre\">4</td></tr></table></body></html>"
      ]
     },
     "metadata": {},
     "output_type": "display_data"
    }
   ],
   "source": [
    "SELECT COUNT(*) FROM event;\n",
    "SELECT COUNT(DISTINCT type) FROM event;"
   ]
  },
  {
   "cell_type": "code",
   "execution_count": 32,
   "id": "52d36bba",
   "metadata": {},
   "outputs": [
    {
     "data": {
      "text/html": [
       "<html><body><table border=\"1\"><tr><th style=\"text-align:left;white-space:pre\">Field</th><th style=\"text-align:left;white-space:pre\">Type</th><th style=\"text-align:left;white-space:pre\">Null</th><th style=\"text-align:left;white-space:pre\">Key</th><th style=\"text-align:left;white-space:pre\">Default</th><th style=\"text-align:left;white-space:pre\">Extra</th></tr><tr><td style=\"text-align:left;white-space:pre\">name</td><td style=\"text-align:left;white-space:pre\">varchar(20)</td><td style=\"text-align:left;white-space:pre\">YES</td><td style=\"text-align:left;white-space:pre\"></td><td style=\"text-align:left;white-space:pre\">NULL</td><td style=\"text-align:left;white-space:pre\"></td></tr><tr><td style=\"text-align:left;white-space:pre\">date</td><td style=\"text-align:left;white-space:pre\">date</td><td style=\"text-align:left;white-space:pre\">YES</td><td style=\"text-align:left;white-space:pre\"></td><td style=\"text-align:left;white-space:pre\">NULL</td><td style=\"text-align:left;white-space:pre\"></td></tr><tr><td style=\"text-align:left;white-space:pre\">type</td><td style=\"text-align:left;white-space:pre\">varchar(15)</td><td style=\"text-align:left;white-space:pre\">YES</td><td style=\"text-align:left;white-space:pre\"></td><td style=\"text-align:left;white-space:pre\">NULL</td><td style=\"text-align:left;white-space:pre\"></td></tr><tr><td style=\"text-align:left;white-space:pre\">remark</td><td style=\"text-align:left;white-space:pre\">varchar(255)</td><td style=\"text-align:left;white-space:pre\">YES</td><td style=\"text-align:left;white-space:pre\"></td><td style=\"text-align:left;white-space:pre\">NULL</td><td style=\"text-align:left;white-space:pre\"></td></tr></table></body></html>"
      ]
     },
     "metadata": {},
     "output_type": "display_data"
    }
   ],
   "source": [
    "describe event;"
   ]
  },
  {
   "cell_type": "code",
   "execution_count": 41,
   "id": "50bf751d",
   "metadata": {},
   "outputs": [
    {
     "name": "stderr",
     "output_type": "stream",
     "text": [
      "You have an error in your SQL syntax; check the manual that corresponds to your MariaDB server version for the right syntax to use near 'RETURN name FROM event' at line 2\n",
      "\u0007\u001b(B\u001b[0;7m\u001b(B\u001b[m\n"
     ]
    }
   ],
   "source": [
    "CREATE FUNCTION nombres()\n",
    "RETURNS  FROM event;"
   ]
  },
  {
   "cell_type": "markdown",
   "id": "23921d4c",
   "metadata": {},
   "source": [
    "## Triggers"
   ]
  },
  {
   "cell_type": "markdown",
   "id": "efbd1fea",
   "metadata": {},
   "source": [
    "Un trigger o disparador es un objeto que se crea en una base de datos, como una tabla o una vista, este objeto trigger siempre estará asociado a una tabla o relación de nuestra base, y este objeto desencadenará una acción predeterminada cuando ocurra un evento en esa relación con la cual esta ligado.\n",
    "\n",
    "En una relación pueden ocurrir diferentes eventos, por ejemplo:\n",
    "\n",
    "*  insertar registros\n",
    "*  actualizar registros\n",
    "*  eliminar registros\n",
    "\n",
    "Por lo tanto un trigger es un objeto que desencadenará una acción cuando alguien inserte, actualice o elimine registros en la relación a la cual está asociado, es decir, cuando se utilicen las instrucciones INSERT, UPDATE o DELETE.\n",
    "\n",
    "Ahora bien, ¿cuál es la utilidad de un trigger?\n",
    "\n",
    "Imaginemos que somos los administradores de una base de datos sobre la que trabajan 30 personas y necesitamos llevar un registro de los usuarios que modifican entradas en la relación y cuando lo han hecho, esta tarea puede ser llevada a cabo por un trigger, pues puede desencadenar una acción luego de que algún usuario inserte, modifique o elimine entradas en la tabla. Esta acción puede ser almacenar en otra tabla diferente el nombre del usuario que ejecutó la acción y el momento exacto en que lo hizo.\n",
    "\n",
    "Estos también se pueden utilizar para tener respaldo sobre la información de la base de datos, se puede diseñar un trigger que se dispare al ingresar o modificar información en la tabla que guarde la tabla antigua en una tabla de respaldo para mantener siempre una copia de la tabla antes de las modificaciones hechas por algun usuario. veamos ahora un ejemplo"
   ]
  },
  {
   "cell_type": "markdown",
   "id": "5394b4d3",
   "metadata": {},
   "source": [
    "Usaremos la base de datos world_x para este ejemplo"
   ]
  },
  {
   "cell_type": "code",
   "execution_count": 8,
   "id": "a44786bf",
   "metadata": {},
   "outputs": [
    {
     "data": {
      "text/html": [
       "Query OK"
      ]
     },
     "metadata": {},
     "output_type": "display_data"
    }
   ],
   "source": [
    "USE world_x;"
   ]
  },
  {
   "cell_type": "markdown",
   "id": "d3ea6a3d",
   "metadata": {},
   "source": [
    "Creamos una nueva tabla que llamaremos prueba_trigger donde almacenaremos 2 datos, el nombre de la nueva entrada, y el momento exacto en el que se adicionó la entrada, estas columnas las llamamos nombre y momento."
   ]
  },
  {
   "cell_type": "code",
   "execution_count": 10,
   "id": "c06468a2",
   "metadata": {},
   "outputs": [
    {
     "data": {
      "text/html": [
       "Query OK"
      ]
     },
     "metadata": {},
     "output_type": "display_data"
    }
   ],
   "source": [
    "CREATE TABLE prueba_trigger(\n",
    "    nombre VARCHAR(20),\n",
    "    momento DATETIME\n",
    ");"
   ]
  },
  {
   "cell_type": "markdown",
   "id": "7c852e51",
   "metadata": {},
   "source": [
    "Ahora definimos el disparador, especificando que se ejecutara después de insertar un nuevo registro en la tabla city, además que se realizará cada vez que se inserte un nuevo renglón, también puede realizarse para conjuntos de renglones, en este caso nos interesa que el trigger se dispare por cada nuevo renglón. utilizamos la función NOW() para determinar el momento en el que se realiza el registro y NEW.Name para el nuevo registro de la columna Name en la tabla city."
   ]
  },
  {
   "cell_type": "code",
   "execution_count": 14,
   "id": "808c6054",
   "metadata": {},
   "outputs": [
    {
     "data": {
      "text/html": [
       "Query OK"
      ]
     },
     "metadata": {},
     "output_type": "display_data"
    }
   ],
   "source": [
    "CREATE TRIGGER city_ai \n",
    "AFTER INSERT ON city \n",
    "FOR EACH ROW INSERT INTO prueba_trigger(\n",
    "    nombre, \n",
    "    momento\n",
    ") VALUES(\n",
    "    NEW.Name,\n",
    "    NOW()\n",
    ");"
   ]
  },
  {
   "cell_type": "markdown",
   "id": "1f3b1f78",
   "metadata": {},
   "source": [
    "Ahora insertamos un nuevo registro para verificar si el trigger funciona"
   ]
  },
  {
   "cell_type": "code",
   "execution_count": 22,
   "id": "f25d0235",
   "metadata": {},
   "outputs": [
    {
     "data": {
      "text/html": [
       "Query OK"
      ]
     },
     "metadata": {},
     "output_type": "display_data"
    }
   ],
   "source": [
    "INSERT INTO  city (\n",
    "    Name, CountryCode, District, Info\n",
    ") VALUES(\n",
    "    \"Armenia\", \"COL\", \"Quindio\", \"{\"\"Population\"\": 250000}\"\n",
    ");"
   ]
  },
  {
   "cell_type": "markdown",
   "id": "c0ade22c",
   "metadata": {},
   "source": [
    "Se puede ver que en la nueva tabla ahora hay un registro con el nombre de la nueva ciudad y el momento exacto en el que se creo el registro"
   ]
  },
  {
   "cell_type": "code",
   "execution_count": 23,
   "id": "1dac4d1e",
   "metadata": {},
   "outputs": [
    {
     "data": {
      "text/html": [
       "<html><body><table border=\"1\"><tr><th style=\"text-align:left;white-space:pre\">nombre</th><th style=\"text-align:left;white-space:pre\">momento</th></tr><tr><td style=\"text-align:left;white-space:pre\">Armenia</td><td style=\"text-align:left;white-space:pre\">2021-08-06 18:23:08</td></tr></table></body></html>"
      ]
     },
     "metadata": {},
     "output_type": "display_data"
    }
   ],
   "source": [
    "SELECT * \n",
    "FROM prueba_trigger;"
   ]
  }
 ],
 "metadata": {
  "kernelspec": {
   "display_name": "MariaDB",
   "language": "SQL",
   "name": "mariadb_kernel"
  },
  "language_info": {
   "file_extension": ".sql",
   "mimetype": "text/plain",
   "name": "SQL"
  }
 },
 "nbformat": 4,
 "nbformat_minor": 5
}
