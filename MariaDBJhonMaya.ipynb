{
 "cells": [
  {
   "cell_type": "markdown",
   "metadata": {},
   "source": [
    "# Tarea: Aprendiendo MariaDB"
   ]
  },
  {
   "cell_type": "code",
   "execution_count": 13,
   "metadata": {},
   "outputs": [
    {
     "data": {
      "text/html": [
       "<html><body><table border=\"1\"><tr><th style=\"text-align:left;white-space:pre\">User</th><th style=\"text-align:left;white-space:pre\">Host</th></tr><tr><td style=\"text-align:left;white-space:pre\">asus</td><td style=\"text-align:left;white-space:pre\">localhost</td></tr><tr><td style=\"text-align:left;white-space:pre\">mariadb.sys</td><td style=\"text-align:left;white-space:pre\">localhost</td></tr><tr><td style=\"text-align:left;white-space:pre\">mysql</td><td style=\"text-align:left;white-space:pre\">localhost</td></tr><tr><td style=\"text-align:left;white-space:pre\">root</td><td style=\"text-align:left;white-space:pre\">localhost</td></tr></table></body></html>"
      ]
     },
     "metadata": {},
     "output_type": "display_data"
    }
   ],
   "source": [
    "#seeing users\n",
    "SELECT User,Host FROM mysql.user;"
   ]
  },
  {
   "cell_type": "markdown",
   "metadata": {},
   "source": [
    "#### Creating an user:\n",
    "mysql -u root -p -e \"GRANT USAGE ON \\*.* TO 'user' IDENTIFIED BY 'password\"\n",
    "#### to give a user all privileges, replace SELECT with ALL:\n",
    "mysql -u root -p -e \"GRANT ALL ON *.* TO 'user'@'localhost';\""
   ]
  },
  {
   "cell_type": "markdown",
   "metadata": {},
   "source": [
    "## Chapter 3. The Basics and the mysql Client\n",
    "\n",
    "#### Connecting to the Server: (on command line)\n",
    "mysql -u user -p\n",
    "\n",
    "#### Comandos de ayuda estando adentro de MariaDB: \n",
    "help - help contents - help Data Manipulation - help SHOW DATABASES\n",
    "\n",
    "#### Starting to Explore Databases:"
   ]
  },
  {
   "cell_type": "code",
   "execution_count": 1,
   "metadata": {},
   "outputs": [
    {
     "data": {
      "text/html": [
       "<html><body><table border=\"1\"><tr><th style=\"text-align:left;white-space:pre\">Database</th></tr><tr><td style=\"text-align:left;white-space:pre\">grupos</td></tr><tr><td style=\"text-align:left;white-space:pre\">information_schema</td></tr><tr><td style=\"text-align:left;white-space:pre\">mysql</td></tr><tr><td style=\"text-align:left;white-space:pre\">performance_schema</td></tr><tr><td style=\"text-align:left;white-space:pre\">sakila</td></tr></table></body></html>"
      ]
     },
     "metadata": {},
     "output_type": "display_data"
    }
   ],
   "source": [
    "#pg 62\n",
    "show databases; "
   ]
  },
  {
   "cell_type": "code",
   "execution_count": 2,
   "metadata": {},
   "outputs": [
    {
     "data": {
      "text/html": [
       "Query OK"
      ]
     },
     "metadata": {},
     "output_type": "display_data"
    }
   ],
   "source": [
    "CREATE DATABASE test;\n"
   ]
  },
  {
   "cell_type": "code",
   "execution_count": 3,
   "metadata": {},
   "outputs": [
    {
     "data": {
      "text/html": [
       "Query OK"
      ]
     },
     "metadata": {},
     "output_type": "display_data"
    }
   ],
   "source": [
    "CREATE TABLE test.books (book_id INT, title TEXT, status INT);"
   ]
  },
  {
   "cell_type": "code",
   "execution_count": 4,
   "metadata": {},
   "outputs": [
    {
     "data": {
      "text/html": [
       "<html><body><table border=\"1\"><tr><th style=\"text-align:left;white-space:pre\">Tables_in_test</th></tr><tr><td style=\"text-align:left;white-space:pre\">10_C</td></tr><tr><td style=\"text-align:left;white-space:pre\">10_b</td></tr><tr><td style=\"text-align:left;white-space:pre\">books</td></tr><tr><td style=\"text-align:left;white-space:pre\">status_names</td></tr></table></body></html>"
      ]
     },
     "metadata": {},
     "output_type": "display_data"
    }
   ],
   "source": [
    "SHOW TABLES FROM test;"
   ]
  },
  {
   "cell_type": "code",
   "execution_count": 4,
   "metadata": {},
   "outputs": [
    {
     "data": {
      "text/html": [
       "Query OK"
      ]
     },
     "metadata": {},
     "output_type": "display_data"
    }
   ],
   "source": [
    "USE test;"
   ]
  },
  {
   "cell_type": "code",
   "execution_count": 5,
   "metadata": {},
   "outputs": [
    {
     "data": {
      "text/html": [
       "<html><body><table border=\"1\"><tr><th style=\"text-align:left;white-space:pre\">Tables_in_test</th></tr><tr><td style=\"text-align:left;white-space:pre\">10_C</td></tr><tr><td style=\"text-align:left;white-space:pre\">10_b</td></tr><tr><td style=\"text-align:left;white-space:pre\">books</td></tr><tr><td style=\"text-align:left;white-space:pre\">status_names</td></tr></table></body></html>"
      ]
     },
     "metadata": {},
     "output_type": "display_data"
    }
   ],
   "source": [
    "SHOW TABLES;"
   ]
  },
  {
   "cell_type": "code",
   "execution_count": 6,
   "metadata": {},
   "outputs": [
    {
     "data": {
      "text/html": [
       "<html><body><table border=\"1\"><tr><th style=\"text-align:left;white-space:pre\">Field</th><th style=\"text-align:left;white-space:pre\">Type</th><th style=\"text-align:left;white-space:pre\">Null</th><th style=\"text-align:left;white-space:pre\">Key</th><th style=\"text-align:left;white-space:pre\">Default</th><th style=\"text-align:left;white-space:pre\">Extra</th></tr><tr><td style=\"text-align:left;white-space:pre\">book_id</td><td style=\"text-align:left;white-space:pre\">int(11)</td><td style=\"text-align:left;white-space:pre\">YES</td><td style=\"text-align:left;white-space:pre\"></td><td style=\"text-align:left;white-space:pre\">NULL</td><td style=\"text-align:left;white-space:pre\"></td></tr><tr><td style=\"text-align:left;white-space:pre\">title</td><td style=\"text-align:left;white-space:pre\">text</td><td style=\"text-align:left;white-space:pre\">YES</td><td style=\"text-align:left;white-space:pre\"></td><td style=\"text-align:left;white-space:pre\">NULL</td><td style=\"text-align:left;white-space:pre\"></td></tr><tr><td style=\"text-align:left;white-space:pre\">status</td><td style=\"text-align:left;white-space:pre\">int(11)</td><td style=\"text-align:left;white-space:pre\">YES</td><td style=\"text-align:left;white-space:pre\"></td><td style=\"text-align:left;white-space:pre\">NULL</td><td style=\"text-align:left;white-space:pre\"></td></tr></table></body></html>"
      ]
     },
     "metadata": {},
     "output_type": "display_data"
    }
   ],
   "source": [
    "DESCRIBE books;"
   ]
  },
  {
   "cell_type": "markdown",
   "metadata": {},
   "source": [
    "## INSERTAR Y MANIPULAR DATOS"
   ]
  },
  {
   "cell_type": "code",
   "execution_count": 6,
   "metadata": {},
   "outputs": [
    {
     "data": {
      "text/html": [
       "Query OK"
      ]
     },
     "metadata": {},
     "output_type": "display_data"
    }
   ],
   "source": [
    "INSERT INTO books VALUES(100, 'Heart of Darkness', 0);\n",
    "INSERT INTO books VALUES(101, 'The of the Rye', 1);\n",
    "INSERT INTO books VALUES(102, 'My Antonia', 0);"
   ]
  },
  {
   "cell_type": "code",
   "execution_count": 7,
   "metadata": {},
   "outputs": [
    {
     "data": {
      "text/html": [
       "<html><body><table border=\"1\"><tr><th style=\"text-align:left;white-space:pre\">book_id</th><th style=\"text-align:left;white-space:pre\">title</th><th style=\"text-align:left;white-space:pre\">status</th></tr><tr><td style=\"text-align:left;white-space:pre\">100</td><td style=\"text-align:left;white-space:pre\">Heart of Darkness</td><td style=\"text-align:left;white-space:pre\">0</td></tr><tr><td style=\"text-align:left;white-space:pre\">101</td><td style=\"text-align:left;white-space:pre\">The of the Rye</td><td style=\"text-align:left;white-space:pre\">1</td></tr><tr><td style=\"text-align:left;white-space:pre\">102</td><td style=\"text-align:left;white-space:pre\">My Antonia</td><td style=\"text-align:left;white-space:pre\">0</td></tr></table><table border=\"1\"><tr><th style=\"text-align:left;white-space:pre\">book_id</th><th style=\"text-align:left;white-space:pre\">title</th><th style=\"text-align:left;white-space:pre\">status</th></tr><tr><td style=\"text-align:left;white-space:pre\">101</td><td style=\"text-align:left;white-space:pre\">The of the Rye</td><td style=\"text-align:left;white-space:pre\">1</td></tr></table></body></html>"
      ]
     },
     "metadata": {},
     "output_type": "display_data"
    }
   ],
   "source": [
    "SELECT * FROM books;\n",
    "SELECT * FROM books WHERE status = 1; "
   ]
  },
  {
   "cell_type": "code",
   "execution_count": 8,
   "metadata": {},
   "outputs": [
    {
     "data": {
      "text/html": [
       "<html><body><table border=\"1\"><tr><th style=\"text-align:left;white-space:pre\">book_id</th><th style=\"text-align:left;white-space:pre\">title</th><th style=\"text-align:left;white-space:pre\">status</th></tr><tr><td style=\"text-align:left;white-space:pre\">100</td><td style=\"text-align:left;white-space:pre\">Heart of Darkness</td><td style=\"text-align:left;white-space:pre\">0</td></tr><tr><td style=\"text-align:left;white-space:pre\">102</td><td style=\"text-align:left;white-space:pre\">My Antonia</td><td style=\"text-align:left;white-space:pre\">0</td></tr></table><table border=\"1\"><tr><th style=\"text-align:left;white-space:pre\">book_id</th><th style=\"text-align:left;white-space:pre\">title</th><th style=\"text-align:left;white-space:pre\">status</th></tr><tr><td style=\"text-align:left;white-space:pre\">100</td><td style=\"text-align:left;white-space:pre\">Heart of Darkness</td><td style=\"text-align:left;white-space:pre\">0</td></tr><tr><td style=\"text-align:left;white-space:pre\">101</td><td style=\"text-align:left;white-space:pre\">The of the Rye</td><td style=\"text-align:left;white-space:pre\">1</td></tr><tr><td style=\"text-align:left;white-space:pre\">102</td><td style=\"text-align:left;white-space:pre\">My Antonia</td><td style=\"text-align:left;white-space:pre\">1</td></tr></table></body></html>"
      ]
     },
     "metadata": {},
     "output_type": "display_data"
    }
   ],
   "source": [
    "SELECT * FROM books WHERE status = 0 ;\n",
    "UPDATE books SET status = 1 WHERE book_id = 102;\n",
    "SELECT * FROM books;"
   ]
  },
  {
   "cell_type": "code",
   "execution_count": 9,
   "metadata": {},
   "outputs": [
    {
     "data": {
      "text/html": [
       "<html><body><table border=\"1\"><tr><th style=\"text-align:left;white-space:pre\">book_id</th><th style=\"text-align:left;white-space:pre\">title</th><th style=\"text-align:left;white-space:pre\">status</th></tr><tr><td style=\"text-align:left;white-space:pre\">101</td><td style=\"text-align:left;white-space:pre\">The of the Rye</td><td style=\"text-align:left;white-space:pre\">1</td></tr><tr><td style=\"text-align:left;white-space:pre\">102</td><td style=\"text-align:left;white-space:pre\">My Antonia</td><td style=\"text-align:left;white-space:pre\">1</td></tr></table><table border=\"1\"><tr><th style=\"text-align:left;white-space:pre\">book_id</th><th style=\"text-align:left;white-space:pre\">title</th><th style=\"text-align:left;white-space:pre\">status</th></tr><tr><td style=\"text-align:left;white-space:pre\">100</td><td style=\"text-align:left;white-space:pre\">Heart of Darkness</td><td style=\"text-align:left;white-space:pre\">0</td></tr><tr><td style=\"text-align:left;white-space:pre\">101</td><td style=\"text-align:left;white-space:pre\">The of the Rye</td><td style=\"text-align:left;white-space:pre\">0</td></tr></table></body></html>"
      ]
     },
     "metadata": {},
     "output_type": "display_data"
    }
   ],
   "source": [
    "SELECT * FROM books WHERE status = 1;\n",
    "UPDATE books SET status = 0 WHERE book_id = 101;\n",
    "SELECT * FROM books WHERE status = 0;"
   ]
  },
  {
   "cell_type": "markdown",
   "metadata": {},
   "source": [
    "## Un poco de complejidad"
   ]
  },
  {
   "cell_type": "code",
   "execution_count": 32,
   "metadata": {},
   "outputs": [
    {
     "data": {
      "text/html": [
       "Query OK"
      ]
     },
     "metadata": {},
     "output_type": "display_data"
    }
   ],
   "source": [
    "CREATE TABLE status_names (status_id INT, status_name CHAR(8));\n",
    "INSERT INTO status_names VALUES(0, 'Inactive'), (1, 'Active');"
   ]
  },
  {
   "cell_type": "code",
   "execution_count": 33,
   "metadata": {},
   "outputs": [
    {
     "data": {
      "text/html": [
       "<html><body><table border=\"1\"><tr><th style=\"text-align:left;white-space:pre\">status_id</th><th style=\"text-align:left;white-space:pre\">status_name</th></tr><tr><td style=\"text-align:left;white-space:pre\">0</td><td style=\"text-align:left;white-space:pre\">Inactive</td></tr><tr><td style=\"text-align:left;white-space:pre\">1</td><td style=\"text-align:left;white-space:pre\">Active</td></tr></table></body></html>"
      ]
     },
     "metadata": {},
     "output_type": "display_data"
    }
   ],
   "source": [
    "SELECT * FROM status_names;"
   ]
  },
  {
   "cell_type": "code",
   "execution_count": 14,
   "metadata": {},
   "outputs": [
    {
     "data": {
      "text/html": [
       "<html><body><table border=\"1\"><tr><th style=\"text-align:left;white-space:pre\">book_id</th><th style=\"text-align:left;white-space:pre\">title</th><th style=\"text-align:left;white-space:pre\">status_name</th></tr><tr><td style=\"text-align:left;white-space:pre\">100</td><td style=\"text-align:left;white-space:pre\">Heart of Darkness</td><td style=\"text-align:left;white-space:pre\">Inactive</td></tr><tr><td style=\"text-align:left;white-space:pre\">101</td><td style=\"text-align:left;white-space:pre\">The of the Rye</td><td style=\"text-align:left;white-space:pre\">Inactive</td></tr><tr><td style=\"text-align:left;white-space:pre\">102</td><td style=\"text-align:left;white-space:pre\">My Antonia</td><td style=\"text-align:left;white-space:pre\">Active</td></tr></table></body></html>"
      ]
     },
     "metadata": {},
     "output_type": "display_data"
    }
   ],
   "source": [
    "SELECT book_id, title, status_name \n",
    "FROM books JOIN status_names \n",
    "WHERE status_id = status;"
   ]
  },
  {
   "cell_type": "markdown",
   "metadata": {},
   "source": [
    "## Chapter 4. Creating Databases and Tables"
   ]
  },
  {
   "cell_type": "code",
   "execution_count": 15,
   "metadata": {},
   "outputs": [
    {
     "name": "stderr",
     "output_type": "stream",
     "text": [
      "Can't drop database 'rooker'; database doesn't exist\n",
      "\u0007\u001b(B\u001b[0;7m\u001b(B\u001b[m\n"
     ]
    }
   ],
   "source": [
    "\n",
    "\n",
    "create database rookery\n",
    "character set latin1\n",
    "collate latin1_bin;\n"
   ]
  },
  {
   "cell_type": "code",
   "execution_count": 18,
   "metadata": {},
   "outputs": [
    {
     "data": {
      "text/html": [
       "<html><body><table border=\"1\"><tr><th style=\"text-align:left;white-space:pre\">Database</th></tr><tr><td style=\"text-align:left;white-space:pre\">grupos</td></tr><tr><td style=\"text-align:left;white-space:pre\">information_schema</td></tr><tr><td style=\"text-align:left;white-space:pre\">mysql</td></tr><tr><td style=\"text-align:left;white-space:pre\">performance_schema</td></tr><tr><td style=\"text-align:left;white-space:pre\">rookery</td></tr><tr><td style=\"text-align:left;white-space:pre\">sakila</td></tr><tr><td style=\"text-align:left;white-space:pre\">test</td></tr></table></body></html>"
      ]
     },
     "metadata": {},
     "output_type": "display_data"
    }
   ],
   "source": [
    "show databases;\n",
    "use rookery;"
   ]
  },
  {
   "cell_type": "code",
   "execution_count": 19,
   "metadata": {},
   "outputs": [
    {
     "data": {
      "text/html": [
       "Query OK"
      ]
     },
     "metadata": {},
     "output_type": "display_data"
    }
   ],
   "source": [
    "show tables;"
   ]
  },
  {
   "cell_type": "code",
   "execution_count": 20,
   "metadata": {},
   "outputs": [
    {
     "data": {
      "text/html": [
       "Query OK"
      ]
     },
     "metadata": {},
     "output_type": "display_data"
    }
   ],
   "source": [
    "create table birds (\n",
    "bird_id int auto_increment primary key,\n",
    "scientific_name varchar(255) unique,\n",
    "common_name varchar(50),\n",
    "famyly_id INT,\n",
    "description TEXT);"
   ]
  },
  {
   "cell_type": "code",
   "execution_count": 21,
   "metadata": {},
   "outputs": [
    {
     "data": {
      "text/html": [
       "<html><body><table border=\"1\"><tr><th style=\"text-align:left;white-space:pre\">Field</th><th style=\"text-align:left;white-space:pre\">Type</th><th style=\"text-align:left;white-space:pre\">Null</th><th style=\"text-align:left;white-space:pre\">Key</th><th style=\"text-align:left;white-space:pre\">Default</th><th style=\"text-align:left;white-space:pre\">Extra</th></tr><tr><td style=\"text-align:left;white-space:pre\">bird_id</td><td style=\"text-align:left;white-space:pre\">int(11)</td><td style=\"text-align:left;white-space:pre\">NO</td><td style=\"text-align:left;white-space:pre\">PRI</td><td style=\"text-align:left;white-space:pre\">NULL</td><td style=\"text-align:left;white-space:pre\">auto_increment</td></tr><tr><td style=\"text-align:left;white-space:pre\">scientific_name</td><td style=\"text-align:left;white-space:pre\">varchar(255)</td><td style=\"text-align:left;white-space:pre\">YES</td><td style=\"text-align:left;white-space:pre\">UNI</td><td style=\"text-align:left;white-space:pre\">NULL</td><td style=\"text-align:left;white-space:pre\"></td></tr><tr><td style=\"text-align:left;white-space:pre\">common_name</td><td style=\"text-align:left;white-space:pre\">varchar(50)</td><td style=\"text-align:left;white-space:pre\">YES</td><td style=\"text-align:left;white-space:pre\"></td><td style=\"text-align:left;white-space:pre\">NULL</td><td style=\"text-align:left;white-space:pre\"></td></tr><tr><td style=\"text-align:left;white-space:pre\">famyly_id</td><td style=\"text-align:left;white-space:pre\">int(11)</td><td style=\"text-align:left;white-space:pre\">YES</td><td style=\"text-align:left;white-space:pre\"></td><td style=\"text-align:left;white-space:pre\">NULL</td><td style=\"text-align:left;white-space:pre\"></td></tr><tr><td style=\"text-align:left;white-space:pre\">description</td><td style=\"text-align:left;white-space:pre\">text</td><td style=\"text-align:left;white-space:pre\">YES</td><td style=\"text-align:left;white-space:pre\"></td><td style=\"text-align:left;white-space:pre\">NULL</td><td style=\"text-align:left;white-space:pre\"></td></tr></table></body></html>"
      ]
     },
     "metadata": {},
     "output_type": "display_data"
    }
   ],
   "source": [
    "describe birds;"
   ]
  },
  {
   "cell_type": "code",
   "execution_count": 22,
   "metadata": {},
   "outputs": [
    {
     "data": {
      "text/html": [
       "Query OK"
      ]
     },
     "metadata": {},
     "output_type": "display_data"
    }
   ],
   "source": [
    "Insert into birds (scientific_name, common_name)\n",
    "values('Charadrius vociferus', 'Killdeer'),\n",
    "('Gavia immer', 'Great Northern Loon'),\n",
    "('Aix sponsa', 'Wood Duck'),\n",
    "('Chordeiles minor', 'Common Nighthawk'),\n",
    "('Sitta carolinensis', ' White-breasted Nuthatch'),\n",
    "('Apteryx mantelli', 'North Island Brown Kiwi');"
   ]
  },
  {
   "cell_type": "code",
   "execution_count": 23,
   "metadata": {},
   "outputs": [
    {
     "data": {
      "text/html": [
       "<html><body><table border=\"1\"><tr><th style=\"text-align:left;white-space:pre\">bird_id</th><th style=\"text-align:left;white-space:pre\">scientific_name</th><th style=\"text-align:left;white-space:pre\">common_name</th><th style=\"text-align:left;white-space:pre\">famyly_id</th><th style=\"text-align:left;white-space:pre\">description</th></tr><tr><td style=\"text-align:left;white-space:pre\">1</td><td style=\"text-align:left;white-space:pre\">Charadrius vociferus</td><td style=\"text-align:left;white-space:pre\">Killdeer</td><td style=\"text-align:left;white-space:pre\">NULL</td><td style=\"text-align:left;white-space:pre\">NULL</td></tr><tr><td style=\"text-align:left;white-space:pre\">2</td><td style=\"text-align:left;white-space:pre\">Gavia immer</td><td style=\"text-align:left;white-space:pre\">Great Northern Loon</td><td style=\"text-align:left;white-space:pre\">NULL</td><td style=\"text-align:left;white-space:pre\">NULL</td></tr><tr><td style=\"text-align:left;white-space:pre\">3</td><td style=\"text-align:left;white-space:pre\">Aix sponsa</td><td style=\"text-align:left;white-space:pre\">Wood Duck</td><td style=\"text-align:left;white-space:pre\">NULL</td><td style=\"text-align:left;white-space:pre\">NULL</td></tr><tr><td style=\"text-align:left;white-space:pre\">4</td><td style=\"text-align:left;white-space:pre\">Chordeiles minor</td><td style=\"text-align:left;white-space:pre\">Common Nighthawk</td><td style=\"text-align:left;white-space:pre\">NULL</td><td style=\"text-align:left;white-space:pre\">NULL</td></tr><tr><td style=\"text-align:left;white-space:pre\">5</td><td style=\"text-align:left;white-space:pre\">Sitta carolinensis</td><td style=\"text-align:left;white-space:pre\"> White-breasted Nuthatch</td><td style=\"text-align:left;white-space:pre\">NULL</td><td style=\"text-align:left;white-space:pre\">NULL</td></tr><tr><td style=\"text-align:left;white-space:pre\">6</td><td style=\"text-align:left;white-space:pre\">Apteryx mantelli</td><td style=\"text-align:left;white-space:pre\">North Island Brown Kiwi</td><td style=\"text-align:left;white-space:pre\">NULL</td><td style=\"text-align:left;white-space:pre\">NULL</td></tr></table></body></html>"
      ]
     },
     "metadata": {},
     "output_type": "display_data"
    }
   ],
   "source": [
    "select * from birds;"
   ]
  },
  {
   "cell_type": "code",
   "execution_count": 25,
   "metadata": {},
   "outputs": [
    {
     "data": {
      "text/html": [
       "Query OK"
      ]
     },
     "metadata": {},
     "output_type": "display_data"
    }
   ],
   "source": [
    "create database birdwatchers;\n",
    "create table birdwatchers.humans(\n",
    "human_id int auto_increment primary key,\n",
    "formal_title varchar(25),\n",
    "name_first varchar(25),\n",
    "name_last varchar(25),\n",
    "email_adress varchar(50));"
   ]
  },
  {
   "cell_type": "code",
   "execution_count": 29,
   "metadata": {},
   "outputs": [
    {
     "data": {
      "text/html": [
       "Query OK"
      ]
     },
     "metadata": {},
     "output_type": "display_data"
    }
   ],
   "source": [
    "INSERT INTO birdwatchers.humans\n",
    "(formal_title, name_first, name_last, email_adress)\n",
    "VALUES\n",
    "('Mr.', 'Russell', 'Dyer', 'russell@mysqlresources.com'),\n",
    "('Mr.', 'Richard', 'Stringer', 'richard@mysqlresources.com'),\n",
    "('Ms.', 'Rusty', 'Osborne', 'rusty@mysqlresources.com'),\n",
    "('Ms.', 'Lexi', 'Hollar', 'alexandra@mysqlresources.com');"
   ]
  },
  {
   "cell_type": "code",
   "execution_count": 30,
   "metadata": {},
   "outputs": [
    {
     "data": {
      "text/html": [
       "<html><body><table border=\"1\"><tr><th style=\"text-align:left;white-space:pre\">Tables_in_birdwatchers</th></tr><tr><td style=\"text-align:left;white-space:pre\">humans</td></tr></table></body></html>"
      ]
     },
     "metadata": {},
     "output_type": "display_data"
    }
   ],
   "source": [
    "show tables from birdwatchers;"
   ]
  },
  {
   "cell_type": "code",
   "execution_count": 31,
   "metadata": {},
   "outputs": [
    {
     "data": {
      "text/html": [
       "Query OK"
      ]
     },
     "metadata": {},
     "output_type": "display_data"
    }
   ],
   "source": [
    "Create table bird_families(\n",
    "family_id int auto_increment primary key,\n",
    "scientific_name varchar(50) unique,\n",
    "brief_description varchar(255));"
   ]
  },
  {
   "cell_type": "code",
   "execution_count": 33,
   "metadata": {},
   "outputs": [
    {
     "data": {
      "text/html": [
       "Query OK"
      ]
     },
     "metadata": {},
     "output_type": "display_data"
    }
   ],
   "source": [
    "create table bird_orders (\n",
    "order_id int auto_increment primary key,\n",
    "scientific_name varchar(255) unique,\n",
    "brief_description varchar(255),\n",
    "order_image blob\n",
    ") default charset = utf8 collate = utf8_general_ci;"
   ]
  },
  {
   "cell_type": "markdown",
   "metadata": {},
   "source": [
    "# Capitulo 5"
   ]
  },
  {
   "cell_type": "code",
   "execution_count": 3,
   "metadata": {},
   "outputs": [
    {
     "data": {
      "text/html": [
       "Query OK"
      ]
     },
     "metadata": {},
     "output_type": "display_data"
    }
   ],
   "source": [
    "use rookery;\n",
    "alter table bird_families\n",
    "add column order_id INT;"
   ]
  },
  {
   "cell_type": "code",
   "execution_count": 4,
   "metadata": {},
   "outputs": [
    {
     "data": {
      "text/html": [
       "<html><body><table border=\"1\"><tr><th style=\"text-align:left;white-space:pre\">Field</th><th style=\"text-align:left;white-space:pre\">Type</th><th style=\"text-align:left;white-space:pre\">Null</th><th style=\"text-align:left;white-space:pre\">Key</th><th style=\"text-align:left;white-space:pre\">Default</th><th style=\"text-align:left;white-space:pre\">Extra</th></tr><tr><td style=\"text-align:left;white-space:pre\">family_id</td><td style=\"text-align:left;white-space:pre\">int(11)</td><td style=\"text-align:left;white-space:pre\">NO</td><td style=\"text-align:left;white-space:pre\">PRI</td><td style=\"text-align:left;white-space:pre\">NULL</td><td style=\"text-align:left;white-space:pre\">auto_increment</td></tr><tr><td style=\"text-align:left;white-space:pre\">scientific_name</td><td style=\"text-align:left;white-space:pre\">varchar(50)</td><td style=\"text-align:left;white-space:pre\">YES</td><td style=\"text-align:left;white-space:pre\">UNI</td><td style=\"text-align:left;white-space:pre\">NULL</td><td style=\"text-align:left;white-space:pre\"></td></tr><tr><td style=\"text-align:left;white-space:pre\">brief_description</td><td style=\"text-align:left;white-space:pre\">varchar(255)</td><td style=\"text-align:left;white-space:pre\">YES</td><td style=\"text-align:left;white-space:pre\"></td><td style=\"text-align:left;white-space:pre\">NULL</td><td style=\"text-align:left;white-space:pre\"></td></tr><tr><td style=\"text-align:left;white-space:pre\">order_id</td><td style=\"text-align:left;white-space:pre\">int(11)</td><td style=\"text-align:left;white-space:pre\">YES</td><td style=\"text-align:left;white-space:pre\"></td><td style=\"text-align:left;white-space:pre\">NULL</td><td style=\"text-align:left;white-space:pre\"></td></tr></table></body></html>"
      ]
     },
     "metadata": {},
     "output_type": "display_data"
    }
   ],
   "source": [
    "describe bird_families;"
   ]
  },
  {
   "cell_type": "code",
   "execution_count": 5,
   "metadata": {},
   "outputs": [
    {
     "data": {
      "text/html": [
       "Query OK"
      ]
     },
     "metadata": {},
     "output_type": "display_data"
    }
   ],
   "source": [
    "create table test.bird_new like birds;"
   ]
  },
  {
   "cell_type": "code",
   "execution_count": 6,
   "metadata": {},
   "outputs": [
    {
     "data": {
      "text/html": [
       "Query OK"
      ]
     },
     "metadata": {},
     "output_type": "display_data"
    }
   ],
   "source": [
    "use test;"
   ]
  },
  {
   "cell_type": "code",
   "execution_count": 7,
   "metadata": {},
   "outputs": [
    {
     "data": {
      "text/html": [
       "<html><body><table border=\"1\"><tr><th style=\"text-align:left;white-space:pre\">Tables_in_test</th></tr><tr><td style=\"text-align:left;white-space:pre\">bird_new</td></tr><tr><td style=\"text-align:left;white-space:pre\">books</td></tr><tr><td style=\"text-align:left;white-space:pre\">status_names</td></tr></table></body></html>"
      ]
     },
     "metadata": {},
     "output_type": "display_data"
    }
   ],
   "source": [
    "show tables;"
   ]
  },
  {
   "cell_type": "code",
   "execution_count": 9,
   "metadata": {},
   "outputs": [
    {
     "data": {
      "text/html": [
       "<html><body><table border=\"1\"><tr><th style=\"text-align:left;white-space:pre\">Field</th><th style=\"text-align:left;white-space:pre\">Type</th><th style=\"text-align:left;white-space:pre\">Null</th><th style=\"text-align:left;white-space:pre\">Key</th><th style=\"text-align:left;white-space:pre\">Default</th><th style=\"text-align:left;white-space:pre\">Extra</th></tr><tr><td style=\"text-align:left;white-space:pre\">bird_id</td><td style=\"text-align:left;white-space:pre\">int(11)</td><td style=\"text-align:left;white-space:pre\">NO</td><td style=\"text-align:left;white-space:pre\">PRI</td><td style=\"text-align:left;white-space:pre\">NULL</td><td style=\"text-align:left;white-space:pre\">auto_increment</td></tr><tr><td style=\"text-align:left;white-space:pre\">scientific_name</td><td style=\"text-align:left;white-space:pre\">varchar(255)</td><td style=\"text-align:left;white-space:pre\">YES</td><td style=\"text-align:left;white-space:pre\">UNI</td><td style=\"text-align:left;white-space:pre\">NULL</td><td style=\"text-align:left;white-space:pre\"></td></tr><tr><td style=\"text-align:left;white-space:pre\">common_name</td><td style=\"text-align:left;white-space:pre\">varchar(50)</td><td style=\"text-align:left;white-space:pre\">YES</td><td style=\"text-align:left;white-space:pre\"></td><td style=\"text-align:left;white-space:pre\">NULL</td><td style=\"text-align:left;white-space:pre\"></td></tr><tr><td style=\"text-align:left;white-space:pre\">famyly_id</td><td style=\"text-align:left;white-space:pre\">int(11)</td><td style=\"text-align:left;white-space:pre\">YES</td><td style=\"text-align:left;white-space:pre\"></td><td style=\"text-align:left;white-space:pre\">NULL</td><td style=\"text-align:left;white-space:pre\"></td></tr><tr><td style=\"text-align:left;white-space:pre\">description</td><td style=\"text-align:left;white-space:pre\">text</td><td style=\"text-align:left;white-space:pre\">YES</td><td style=\"text-align:left;white-space:pre\"></td><td style=\"text-align:left;white-space:pre\">NULL</td><td style=\"text-align:left;white-space:pre\"></td></tr></table></body></html>"
      ]
     },
     "metadata": {},
     "output_type": "display_data"
    }
   ],
   "source": [
    "describe bird_new;"
   ]
  },
  {
   "cell_type": "code",
   "execution_count": 10,
   "metadata": {},
   "outputs": [
    {
     "data": {
      "text/html": [
       "Query OK"
      ]
     },
     "metadata": {},
     "output_type": "display_data"
    }
   ],
   "source": [
    "insert into bird_new\n",
    "select * from rookery.birds;"
   ]
  },
  {
   "cell_type": "code",
   "execution_count": 13,
   "metadata": {},
   "outputs": [
    {
     "data": {
      "text/html": [
       "<html><body><table border=\"1\"><tr><th style=\"text-align:left;white-space:pre\">bird_id</th><th style=\"text-align:left;white-space:pre\">scientific_name</th><th style=\"text-align:left;white-space:pre\">common_name</th><th style=\"text-align:left;white-space:pre\">famyly_id</th><th style=\"text-align:left;white-space:pre\">description</th></tr><tr><td style=\"text-align:left;white-space:pre\">1</td><td style=\"text-align:left;white-space:pre\">Charadrius vociferus</td><td style=\"text-align:left;white-space:pre\">Killdeer</td><td style=\"text-align:left;white-space:pre\">NULL</td><td style=\"text-align:left;white-space:pre\">NULL</td></tr><tr><td style=\"text-align:left;white-space:pre\">2</td><td style=\"text-align:left;white-space:pre\">Gavia immer</td><td style=\"text-align:left;white-space:pre\">Great Northern Loon</td><td style=\"text-align:left;white-space:pre\">NULL</td><td style=\"text-align:left;white-space:pre\">NULL</td></tr><tr><td style=\"text-align:left;white-space:pre\">3</td><td style=\"text-align:left;white-space:pre\">Aix sponsa</td><td style=\"text-align:left;white-space:pre\">Wood Duck</td><td style=\"text-align:left;white-space:pre\">NULL</td><td style=\"text-align:left;white-space:pre\">NULL</td></tr><tr><td style=\"text-align:left;white-space:pre\">4</td><td style=\"text-align:left;white-space:pre\">Chordeiles minor</td><td style=\"text-align:left;white-space:pre\">Common Nighthawk</td><td style=\"text-align:left;white-space:pre\">NULL</td><td style=\"text-align:left;white-space:pre\">NULL</td></tr><tr><td style=\"text-align:left;white-space:pre\">5</td><td style=\"text-align:left;white-space:pre\">Sitta carolinensis</td><td style=\"text-align:left;white-space:pre\"> White-breasted Nuthatch</td><td style=\"text-align:left;white-space:pre\">NULL</td><td style=\"text-align:left;white-space:pre\">NULL</td></tr><tr><td style=\"text-align:left;white-space:pre\">6</td><td style=\"text-align:left;white-space:pre\">Apteryx mantelli</td><td style=\"text-align:left;white-space:pre\">North Island Brown Kiwi</td><td style=\"text-align:left;white-space:pre\">NULL</td><td style=\"text-align:left;white-space:pre\">NULL</td></tr></table><table border=\"1\"><tr><th style=\"text-align:left;white-space:pre\">bird_id</th><th style=\"text-align:left;white-space:pre\">scientific_name</th><th style=\"text-align:left;white-space:pre\">common_name</th><th style=\"text-align:left;white-space:pre\">famyly_id</th><th style=\"text-align:left;white-space:pre\">description</th></tr><tr><td style=\"text-align:left;white-space:pre\">1</td><td style=\"text-align:left;white-space:pre\">Charadrius vociferus</td><td style=\"text-align:left;white-space:pre\">Killdeer</td><td style=\"text-align:left;white-space:pre\">NULL</td><td style=\"text-align:left;white-space:pre\">NULL</td></tr><tr><td style=\"text-align:left;white-space:pre\">2</td><td style=\"text-align:left;white-space:pre\">Gavia immer</td><td style=\"text-align:left;white-space:pre\">Great Northern Loon</td><td style=\"text-align:left;white-space:pre\">NULL</td><td style=\"text-align:left;white-space:pre\">NULL</td></tr><tr><td style=\"text-align:left;white-space:pre\">3</td><td style=\"text-align:left;white-space:pre\">Aix sponsa</td><td style=\"text-align:left;white-space:pre\">Wood Duck</td><td style=\"text-align:left;white-space:pre\">NULL</td><td style=\"text-align:left;white-space:pre\">NULL</td></tr><tr><td style=\"text-align:left;white-space:pre\">4</td><td style=\"text-align:left;white-space:pre\">Chordeiles minor</td><td style=\"text-align:left;white-space:pre\">Common Nighthawk</td><td style=\"text-align:left;white-space:pre\">NULL</td><td style=\"text-align:left;white-space:pre\">NULL</td></tr><tr><td style=\"text-align:left;white-space:pre\">5</td><td style=\"text-align:left;white-space:pre\">Sitta carolinensis</td><td style=\"text-align:left;white-space:pre\"> White-breasted Nuthatch</td><td style=\"text-align:left;white-space:pre\">NULL</td><td style=\"text-align:left;white-space:pre\">NULL</td></tr><tr><td style=\"text-align:left;white-space:pre\">6</td><td style=\"text-align:left;white-space:pre\">Apteryx mantelli</td><td style=\"text-align:left;white-space:pre\">North Island Brown Kiwi</td><td style=\"text-align:left;white-space:pre\">NULL</td><td style=\"text-align:left;white-space:pre\">NULL</td></tr></table></body></html>"
      ]
     },
     "metadata": {},
     "output_type": "display_data"
    }
   ],
   "source": [
    "select * from bird_new;\n",
    "select * from rookery.birds;"
   ]
  },
  {
   "cell_type": "code",
   "execution_count": 14,
   "metadata": {},
   "outputs": [
    {
     "data": {
      "text/html": [
       "Query OK"
      ]
     },
     "metadata": {},
     "output_type": "display_data"
    }
   ],
   "source": [
    "create table birds_new_alternative\n",
    "select * from rookery.birds;"
   ]
  },
  {
   "cell_type": "code",
   "execution_count": 15,
   "metadata": {},
   "outputs": [
    {
     "data": {
      "text/html": [
       "Query OK"
      ]
     },
     "metadata": {},
     "output_type": "display_data"
    }
   ],
   "source": [
    "DROP TABLE birds_new_alternative;"
   ]
  },
  {
   "cell_type": "code",
   "execution_count": 17,
   "metadata": {},
   "outputs": [
    {
     "name": "stderr",
     "output_type": "stream",
     "text": [
      "Duplicate column name 'wing_id'\n",
      "\u0007\u001b(B\u001b[0;7m\u001b(B\u001b[m<TABLE BORDER=1><TR><TH>Field</TH><TH>Type</TH><TH>Null</TH><TH>Key</TH><TH>Default</TH><TH>Extra</TH></TR><TR><TD>bird_id</TD><TD>int(11)</TD><TD>NO</TD><TD>PRI</TD><TD>NULL</TD><TD>auto_increment</TD></TR><TR><TD>scientific_name</TD><TD>varchar(255)</TD><TD>YES</TD><TD>UNI</TD><TD>NULL</TD><TD></TD></TR><TR><TD>common_name</TD><TD>varchar(50)</TD><TD>YES</TD><TD></TD><TD>NULL</TD><TD></TD></TR><TR><TD>famyly_id</TD><TD>int(11)</TD><TD>YES</TD><TD></TD><TD>NULL</TD><TD></TD></TR><TR><TD>description</TD><TD>text</TD><TD>YES</TD><TD></TD><TD>NULL</TD><TD></TD></TR><TR><TD>wing_id</TD><TD>char(2)</TD><TD>YES</TD><TD></TD><TD>NULL</TD><TD></TD></TR></TABLE>\n"
     ]
    }
   ],
   "source": [
    "alter table bird_new\n",
    "add column wing_id char(2);"
   ]
  },
  {
   "cell_type": "code",
   "execution_count": 19,
   "metadata": {},
   "outputs": [
    {
     "data": {
      "text/html": [
       "<html><body><table border=\"1\"><tr><th style=\"text-align:left;white-space:pre\">Field</th><th style=\"text-align:left;white-space:pre\">Type</th><th style=\"text-align:left;white-space:pre\">Null</th><th style=\"text-align:left;white-space:pre\">Key</th><th style=\"text-align:left;white-space:pre\">Default</th><th style=\"text-align:left;white-space:pre\">Extra</th></tr><tr><td style=\"text-align:left;white-space:pre\">bird_id</td><td style=\"text-align:left;white-space:pre\">int(11)</td><td style=\"text-align:left;white-space:pre\">NO</td><td style=\"text-align:left;white-space:pre\">PRI</td><td style=\"text-align:left;white-space:pre\">NULL</td><td style=\"text-align:left;white-space:pre\">auto_increment</td></tr><tr><td style=\"text-align:left;white-space:pre\">scientific_name</td><td style=\"text-align:left;white-space:pre\">varchar(255)</td><td style=\"text-align:left;white-space:pre\">YES</td><td style=\"text-align:left;white-space:pre\">UNI</td><td style=\"text-align:left;white-space:pre\">NULL</td><td style=\"text-align:left;white-space:pre\"></td></tr><tr><td style=\"text-align:left;white-space:pre\">common_name</td><td style=\"text-align:left;white-space:pre\">varchar(50)</td><td style=\"text-align:left;white-space:pre\">YES</td><td style=\"text-align:left;white-space:pre\"></td><td style=\"text-align:left;white-space:pre\">NULL</td><td style=\"text-align:left;white-space:pre\"></td></tr><tr><td style=\"text-align:left;white-space:pre\">famyly_id</td><td style=\"text-align:left;white-space:pre\">int(11)</td><td style=\"text-align:left;white-space:pre\">YES</td><td style=\"text-align:left;white-space:pre\"></td><td style=\"text-align:left;white-space:pre\">NULL</td><td style=\"text-align:left;white-space:pre\"></td></tr><tr><td style=\"text-align:left;white-space:pre\">description</td><td style=\"text-align:left;white-space:pre\">text</td><td style=\"text-align:left;white-space:pre\">YES</td><td style=\"text-align:left;white-space:pre\"></td><td style=\"text-align:left;white-space:pre\">NULL</td><td style=\"text-align:left;white-space:pre\"></td></tr><tr><td style=\"text-align:left;white-space:pre\">wing_id</td><td style=\"text-align:left;white-space:pre\">char(2)</td><td style=\"text-align:left;white-space:pre\">YES</td><td style=\"text-align:left;white-space:pre\"></td><td style=\"text-align:left;white-space:pre\">NULL</td><td style=\"text-align:left;white-space:pre\"></td></tr></table></body></html>"
      ]
     },
     "metadata": {},
     "output_type": "display_data"
    }
   ],
   "source": [
    "describe bird_new;"
   ]
  },
  {
   "cell_type": "code",
   "execution_count": 20,
   "metadata": {},
   "outputs": [
    {
     "data": {
      "text/html": [
       "<html><body><table border=\"1\"><tr><th style=\"text-align:left;white-space:pre\">Field</th><th style=\"text-align:left;white-space:pre\">Type</th><th style=\"text-align:left;white-space:pre\">Null</th><th style=\"text-align:left;white-space:pre\">Key</th><th style=\"text-align:left;white-space:pre\">Default</th><th style=\"text-align:left;white-space:pre\">Extra</th></tr><tr><td style=\"text-align:left;white-space:pre\">bird_id</td><td style=\"text-align:left;white-space:pre\">int(11)</td><td style=\"text-align:left;white-space:pre\">NO</td><td style=\"text-align:left;white-space:pre\">PRI</td><td style=\"text-align:left;white-space:pre\">NULL</td><td style=\"text-align:left;white-space:pre\">auto_increment</td></tr><tr><td style=\"text-align:left;white-space:pre\">scientific_name</td><td style=\"text-align:left;white-space:pre\">varchar(255)</td><td style=\"text-align:left;white-space:pre\">YES</td><td style=\"text-align:left;white-space:pre\">UNI</td><td style=\"text-align:left;white-space:pre\">NULL</td><td style=\"text-align:left;white-space:pre\"></td></tr><tr><td style=\"text-align:left;white-space:pre\">common_name</td><td style=\"text-align:left;white-space:pre\">varchar(50)</td><td style=\"text-align:left;white-space:pre\">YES</td><td style=\"text-align:left;white-space:pre\"></td><td style=\"text-align:left;white-space:pre\">NULL</td><td style=\"text-align:left;white-space:pre\"></td></tr><tr><td style=\"text-align:left;white-space:pre\">famyly_id</td><td style=\"text-align:left;white-space:pre\">int(11)</td><td style=\"text-align:left;white-space:pre\">YES</td><td style=\"text-align:left;white-space:pre\"></td><td style=\"text-align:left;white-space:pre\">NULL</td><td style=\"text-align:left;white-space:pre\"></td></tr><tr><td style=\"text-align:left;white-space:pre\">description</td><td style=\"text-align:left;white-space:pre\">text</td><td style=\"text-align:left;white-space:pre\">YES</td><td style=\"text-align:left;white-space:pre\"></td><td style=\"text-align:left;white-space:pre\">NULL</td><td style=\"text-align:left;white-space:pre\"></td></tr></table></body></html>"
      ]
     },
     "metadata": {},
     "output_type": "display_data"
    }
   ],
   "source": [
    "alter table bird_new\n",
    "drop column wing_id;\n",
    "describe bird_new;"
   ]
  },
  {
   "cell_type": "code",
   "execution_count": 22,
   "metadata": {},
   "outputs": [
    {
     "data": {
      "text/html": [
       "Query OK"
      ]
     },
     "metadata": {},
     "output_type": "display_data"
    }
   ],
   "source": [
    "alter table bird_new\n",
    "add column wing_id char(2) after famyly_id;"
   ]
  },
  {
   "cell_type": "code",
   "execution_count": 23,
   "metadata": {},
   "outputs": [
    {
     "data": {
      "text/html": [
       "<html><body><table border=\"1\"><tr><th style=\"text-align:left;white-space:pre\">Field</th><th style=\"text-align:left;white-space:pre\">Type</th><th style=\"text-align:left;white-space:pre\">Null</th><th style=\"text-align:left;white-space:pre\">Key</th><th style=\"text-align:left;white-space:pre\">Default</th><th style=\"text-align:left;white-space:pre\">Extra</th></tr><tr><td style=\"text-align:left;white-space:pre\">bird_id</td><td style=\"text-align:left;white-space:pre\">int(11)</td><td style=\"text-align:left;white-space:pre\">NO</td><td style=\"text-align:left;white-space:pre\">PRI</td><td style=\"text-align:left;white-space:pre\">NULL</td><td style=\"text-align:left;white-space:pre\">auto_increment</td></tr><tr><td style=\"text-align:left;white-space:pre\">scientific_name</td><td style=\"text-align:left;white-space:pre\">varchar(255)</td><td style=\"text-align:left;white-space:pre\">YES</td><td style=\"text-align:left;white-space:pre\">UNI</td><td style=\"text-align:left;white-space:pre\">NULL</td><td style=\"text-align:left;white-space:pre\"></td></tr><tr><td style=\"text-align:left;white-space:pre\">common_name</td><td style=\"text-align:left;white-space:pre\">varchar(50)</td><td style=\"text-align:left;white-space:pre\">YES</td><td style=\"text-align:left;white-space:pre\"></td><td style=\"text-align:left;white-space:pre\">NULL</td><td style=\"text-align:left;white-space:pre\"></td></tr><tr><td style=\"text-align:left;white-space:pre\">famyly_id</td><td style=\"text-align:left;white-space:pre\">int(11)</td><td style=\"text-align:left;white-space:pre\">YES</td><td style=\"text-align:left;white-space:pre\"></td><td style=\"text-align:left;white-space:pre\">NULL</td><td style=\"text-align:left;white-space:pre\"></td></tr><tr><td style=\"text-align:left;white-space:pre\">wing_id</td><td style=\"text-align:left;white-space:pre\">char(2)</td><td style=\"text-align:left;white-space:pre\">YES</td><td style=\"text-align:left;white-space:pre\"></td><td style=\"text-align:left;white-space:pre\">NULL</td><td style=\"text-align:left;white-space:pre\"></td></tr><tr><td style=\"text-align:left;white-space:pre\">description</td><td style=\"text-align:left;white-space:pre\">text</td><td style=\"text-align:left;white-space:pre\">YES</td><td style=\"text-align:left;white-space:pre\"></td><td style=\"text-align:left;white-space:pre\">NULL</td><td style=\"text-align:left;white-space:pre\"></td></tr></table></body></html>"
      ]
     },
     "metadata": {},
     "output_type": "display_data"
    }
   ],
   "source": [
    "describe bird_new;"
   ]
  },
  {
   "cell_type": "code",
   "execution_count": 24,
   "metadata": {},
   "outputs": [
    {
     "data": {
      "text/html": [
       "Query OK"
      ]
     },
     "metadata": {},
     "output_type": "display_data"
    }
   ],
   "source": [
    "alter table bird_new\n",
    "add column body_id char(2) after wing_id,\n",
    "add column bill_id char(2) after body_id,\n",
    "add column endangered bit default b'1' after bill_id,\n",
    "change column common_name common_name varchar(255);\n"
   ]
  },
  {
   "cell_type": "code",
   "execution_count": 26,
   "metadata": {},
   "outputs": [
    {
     "data": {
      "text/html": [
       "Query OK"
      ]
     },
     "metadata": {},
     "output_type": "display_data"
    }
   ],
   "source": [
    "update bird_new set endangered = 0\n",
    "where bird_id in(1,2,4,5);"
   ]
  },
  {
   "cell_type": "code",
   "execution_count": 27,
   "metadata": {},
   "outputs": [
    {
     "data": {
      "text/html": [
       "<html><body><table border=\"1\"><tr><th style=\"text-align:left;white-space:pre\">bird_id</th><th style=\"text-align:left;white-space:pre\">scientific_name</th><th style=\"text-align:left;white-space:pre\">common_name</th></tr><tr><td style=\"text-align:left;white-space:pre\">3</td><td style=\"text-align:left;white-space:pre\">Aix sponsa</td><td style=\"text-align:left;white-space:pre\">Wood Duck</td></tr><tr><td style=\"text-align:left;white-space:pre\">6</td><td style=\"text-align:left;white-space:pre\">Apteryx mantelli</td><td style=\"text-align:left;white-space:pre\">North Island Brown Kiwi</td></tr></table></body></html>"
      ]
     },
     "metadata": {},
     "output_type": "display_data"
    }
   ],
   "source": [
    "SELECT bird_id, scientific_name, common_name\n",
    "FROM bird_new\n",
    "WHERE endangered;"
   ]
  },
  {
   "cell_type": "code",
   "execution_count": 28,
   "metadata": {},
   "outputs": [
    {
     "data": {
      "text/html": [
       "<html><body><table border=\"1\"><tr><th style=\"text-align:left;white-space:pre\">bird_id</th><th style=\"text-align:left;white-space:pre\">scientific_name</th><th style=\"text-align:left;white-space:pre\">common_name</th><th style=\"text-align:left;white-space:pre\">famyly_id</th><th style=\"text-align:left;white-space:pre\">wing_id</th><th style=\"text-align:left;white-space:pre\">body_id</th><th style=\"text-align:left;white-space:pre\">bill_id</th><th style=\"text-align:left;white-space:pre\">endangered</th><th style=\"text-align:left;white-space:pre\">description</th></tr><tr><td style=\"text-align:left;white-space:pre\">1</td><td style=\"text-align:left;white-space:pre\">Charadrius vociferus</td><td style=\"text-align:left;white-space:pre\">Killdeer</td><td style=\"text-align:left;white-space:pre\">NULL</td><td style=\"text-align:left;white-space:pre\">NULL</td><td style=\"text-align:left;white-space:pre\">NULL</td><td style=\"text-align:left;white-space:pre\">NULL</td><td style=\"text-align:left;white-space:pre\"> </td><td style=\"text-align:left;white-space:pre\">NULL</td></tr><tr><td style=\"text-align:left;white-space:pre\">2</td><td style=\"text-align:left;white-space:pre\">Gavia immer</td><td style=\"text-align:left;white-space:pre\">Great Northern Loon</td><td style=\"text-align:left;white-space:pre\">NULL</td><td style=\"text-align:left;white-space:pre\">NULL</td><td style=\"text-align:left;white-space:pre\">NULL</td><td style=\"text-align:left;white-space:pre\">NULL</td><td style=\"text-align:left;white-space:pre\"> </td><td style=\"text-align:left;white-space:pre\">NULL</td></tr><tr><td style=\"text-align:left;white-space:pre\">3</td><td style=\"text-align:left;white-space:pre\">Aix sponsa</td><td style=\"text-align:left;white-space:pre\">Wood Duck</td><td style=\"text-align:left;white-space:pre\">NULL</td><td style=\"text-align:left;white-space:pre\">NULL</td><td style=\"text-align:left;white-space:pre\">NULL</td><td style=\"text-align:left;white-space:pre\">NULL</td><td style=\"text-align:left;white-space:pre\"></td><td style=\"text-align:left;white-space:pre\">NULL</td></tr><tr><td style=\"text-align:left;white-space:pre\">4</td><td style=\"text-align:left;white-space:pre\">Chordeiles minor</td><td style=\"text-align:left;white-space:pre\">Common Nighthawk</td><td style=\"text-align:left;white-space:pre\">NULL</td><td style=\"text-align:left;white-space:pre\">NULL</td><td style=\"text-align:left;white-space:pre\">NULL</td><td style=\"text-align:left;white-space:pre\">NULL</td><td style=\"text-align:left;white-space:pre\"> </td><td style=\"text-align:left;white-space:pre\">NULL</td></tr><tr><td style=\"text-align:left;white-space:pre\">5</td><td style=\"text-align:left;white-space:pre\">Sitta carolinensis</td><td style=\"text-align:left;white-space:pre\"> White-breasted Nuthatch</td><td style=\"text-align:left;white-space:pre\">NULL</td><td style=\"text-align:left;white-space:pre\">NULL</td><td style=\"text-align:left;white-space:pre\">NULL</td><td style=\"text-align:left;white-space:pre\">NULL</td><td style=\"text-align:left;white-space:pre\"> </td><td style=\"text-align:left;white-space:pre\">NULL</td></tr><tr><td style=\"text-align:left;white-space:pre\">6</td><td style=\"text-align:left;white-space:pre\">Apteryx mantelli</td><td style=\"text-align:left;white-space:pre\">North Island Brown Kiwi</td><td style=\"text-align:left;white-space:pre\">NULL</td><td style=\"text-align:left;white-space:pre\">NULL</td><td style=\"text-align:left;white-space:pre\">NULL</td><td style=\"text-align:left;white-space:pre\">NULL</td><td style=\"text-align:left;white-space:pre\"></td><td style=\"text-align:left;white-space:pre\">NULL</td></tr></table></body></html>"
      ]
     },
     "metadata": {},
     "output_type": "display_data"
    }
   ],
   "source": [
    "select * from bird_new;"
   ]
  },
  {
   "cell_type": "code",
   "execution_count": 29,
   "metadata": {},
   "outputs": [
    {
     "data": {
      "text/html": [
       "<html><body><table border=\"1\"><tr><th style=\"text-align:left;white-space:pre\">bird_id</th><th style=\"text-align:left;white-space:pre\">scientific_name</th><th style=\"text-align:left;white-space:pre\">common_name</th><th style=\"text-align:left;white-space:pre\">famyly_id</th><th style=\"text-align:left;white-space:pre\">wing_id</th><th style=\"text-align:left;white-space:pre\">body_id</th><th style=\"text-align:left;white-space:pre\">bill_id</th><th style=\"text-align:left;white-space:pre\">endangered</th><th style=\"text-align:left;white-space:pre\">description</th></tr><tr><td style=\"text-align:left;white-space:pre\">1</td><td style=\"text-align:left;white-space:pre\">Charadrius vociferus</td><td style=\"text-align:left;white-space:pre\">Killdeer</td><td style=\"text-align:left;white-space:pre\">NULL</td><td style=\"text-align:left;white-space:pre\">NULL</td><td style=\"text-align:left;white-space:pre\">NULL</td><td style=\"text-align:left;white-space:pre\">NULL</td><td style=\"text-align:left;white-space:pre\"> </td><td style=\"text-align:left;white-space:pre\">NULL</td></tr><tr><td style=\"text-align:left;white-space:pre\">2</td><td style=\"text-align:left;white-space:pre\">Gavia immer</td><td style=\"text-align:left;white-space:pre\">Great Northern Loon</td><td style=\"text-align:left;white-space:pre\">NULL</td><td style=\"text-align:left;white-space:pre\">NULL</td><td style=\"text-align:left;white-space:pre\">NULL</td><td style=\"text-align:left;white-space:pre\">NULL</td><td style=\"text-align:left;white-space:pre\"> </td><td style=\"text-align:left;white-space:pre\">NULL</td></tr><tr><td style=\"text-align:left;white-space:pre\">4</td><td style=\"text-align:left;white-space:pre\">Chordeiles minor</td><td style=\"text-align:left;white-space:pre\">Common Nighthawk</td><td style=\"text-align:left;white-space:pre\">NULL</td><td style=\"text-align:left;white-space:pre\">NULL</td><td style=\"text-align:left;white-space:pre\">NULL</td><td style=\"text-align:left;white-space:pre\">NULL</td><td style=\"text-align:left;white-space:pre\"> </td><td style=\"text-align:left;white-space:pre\">NULL</td></tr><tr><td style=\"text-align:left;white-space:pre\">5</td><td style=\"text-align:left;white-space:pre\">Sitta carolinensis</td><td style=\"text-align:left;white-space:pre\"> White-breasted Nuthatch</td><td style=\"text-align:left;white-space:pre\">NULL</td><td style=\"text-align:left;white-space:pre\">NULL</td><td style=\"text-align:left;white-space:pre\">NULL</td><td style=\"text-align:left;white-space:pre\">NULL</td><td style=\"text-align:left;white-space:pre\"> </td><td style=\"text-align:left;white-space:pre\">NULL</td></tr></table></body></html>"
      ]
     },
     "metadata": {},
     "output_type": "display_data"
    }
   ],
   "source": [
    "select * from bird_new\n",
    "where not endangered;"
   ]
  },
  {
   "cell_type": "code",
   "execution_count": 34,
   "metadata": {},
   "outputs": [
    {
     "data": {
      "text/html": [
       "Query OK"
      ]
     },
     "metadata": {},
     "output_type": "display_data"
    }
   ],
   "source": [
    "alter table bird_new\n",
    "drop column endangered;"
   ]
  },
  {
   "cell_type": "code",
   "execution_count": 35,
   "metadata": {},
   "outputs": [
    {
     "data": {
      "text/html": [
       "Query OK"
      ]
     },
     "metadata": {},
     "output_type": "display_data"
    }
   ],
   "source": [
    "alter table bird_new\n",
    "add column endangered\n",
    "enum('Extinct',\n",
    "'Extinct in Wild',\n",
    "'Threatened - Critically Endangered',\n",
    "'Threatened - Endangered',\n",
    "'Threatened - Vulnerable',\n",
    "'Lower Risk - Conservation Dependent',\n",
    "'Lower Risk - Near Threatened',\n",
    "'Lower Risk - Least Concern')\n",
    "after famyly_id;"
   ]
  },
  {
   "cell_type": "code",
   "execution_count": 36,
   "metadata": {},
   "outputs": [
    {
     "data": {
      "text/html": [
       "<html><body><table border=\"1\"><tr><th style=\"text-align:left;white-space:pre\">Field</th><th style=\"text-align:left;white-space:pre\">Type</th><th style=\"text-align:left;white-space:pre\">Null</th><th style=\"text-align:left;white-space:pre\">Key</th><th style=\"text-align:left;white-space:pre\">Default</th><th style=\"text-align:left;white-space:pre\">Extra</th></tr><tr><td style=\"text-align:left;white-space:pre\">bird_id</td><td style=\"text-align:left;white-space:pre\">int(11)</td><td style=\"text-align:left;white-space:pre\">NO</td><td style=\"text-align:left;white-space:pre\">PRI</td><td style=\"text-align:left;white-space:pre\">NULL</td><td style=\"text-align:left;white-space:pre\">auto_increment</td></tr><tr><td style=\"text-align:left;white-space:pre\">scientific_name</td><td style=\"text-align:left;white-space:pre\">varchar(255)</td><td style=\"text-align:left;white-space:pre\">YES</td><td style=\"text-align:left;white-space:pre\">UNI</td><td style=\"text-align:left;white-space:pre\">NULL</td><td style=\"text-align:left;white-space:pre\"></td></tr><tr><td style=\"text-align:left;white-space:pre\">common_name</td><td style=\"text-align:left;white-space:pre\">varchar(255)</td><td style=\"text-align:left;white-space:pre\">YES</td><td style=\"text-align:left;white-space:pre\"></td><td style=\"text-align:left;white-space:pre\">NULL</td><td style=\"text-align:left;white-space:pre\"></td></tr><tr><td style=\"text-align:left;white-space:pre\">famyly_id</td><td style=\"text-align:left;white-space:pre\">int(11)</td><td style=\"text-align:left;white-space:pre\">YES</td><td style=\"text-align:left;white-space:pre\"></td><td style=\"text-align:left;white-space:pre\">NULL</td><td style=\"text-align:left;white-space:pre\"></td></tr><tr><td style=\"text-align:left;white-space:pre\">endangered</td><td style=\"text-align:left;white-space:pre\">enum('Extinct','Extinct in Wild','Threatened - Critically Endangered','Threatened - Endangered','Threatened - Vulnerable','Lower Risk - Conservation Dependent','Lower Risk - Near Threatened','Lower Risk - Least Concern')</td><td style=\"text-align:left;white-space:pre\">YES</td><td style=\"text-align:left;white-space:pre\"></td><td style=\"text-align:left;white-space:pre\">NULL</td><td style=\"text-align:left;white-space:pre\"></td></tr><tr><td style=\"text-align:left;white-space:pre\">wing_id</td><td style=\"text-align:left;white-space:pre\">char(2)</td><td style=\"text-align:left;white-space:pre\">YES</td><td style=\"text-align:left;white-space:pre\"></td><td style=\"text-align:left;white-space:pre\">NULL</td><td style=\"text-align:left;white-space:pre\"></td></tr><tr><td style=\"text-align:left;white-space:pre\">body_id</td><td style=\"text-align:left;white-space:pre\">char(2)</td><td style=\"text-align:left;white-space:pre\">YES</td><td style=\"text-align:left;white-space:pre\"></td><td style=\"text-align:left;white-space:pre\">NULL</td><td style=\"text-align:left;white-space:pre\"></td></tr><tr><td style=\"text-align:left;white-space:pre\">bill_id</td><td style=\"text-align:left;white-space:pre\">char(2)</td><td style=\"text-align:left;white-space:pre\">YES</td><td style=\"text-align:left;white-space:pre\"></td><td style=\"text-align:left;white-space:pre\">NULL</td><td style=\"text-align:left;white-space:pre\"></td></tr><tr><td style=\"text-align:left;white-space:pre\">description</td><td style=\"text-align:left;white-space:pre\">text</td><td style=\"text-align:left;white-space:pre\">YES</td><td style=\"text-align:left;white-space:pre\"></td><td style=\"text-align:left;white-space:pre\">NULL</td><td style=\"text-align:left;white-space:pre\"></td></tr></table></body></html>"
      ]
     },
     "metadata": {},
     "output_type": "display_data"
    }
   ],
   "source": [
    "describe bird_new;"
   ]
  },
  {
   "cell_type": "code",
   "execution_count": 38,
   "metadata": {},
   "outputs": [
    {
     "data": {
      "text/html": [
       "Query OK"
      ]
     },
     "metadata": {},
     "output_type": "display_data"
    }
   ],
   "source": [
    "update bird_new\n",
    "set endangered = 7;"
   ]
  },
  {
   "cell_type": "code",
   "execution_count": 39,
   "metadata": {},
   "outputs": [
    {
     "data": {
      "text/html": [
       "Query OK"
      ]
     },
     "metadata": {},
     "output_type": "display_data"
    }
   ],
   "source": [
    "update bird_new\n",
    "set endangered = 1\n",
    "where bird_id in (1,2);"
   ]
  },
  {
   "cell_type": "code",
   "execution_count": 41,
   "metadata": {},
   "outputs": [
    {
     "data": {
      "text/html": [
       "<html><body><table border=\"1\"><tr><th style=\"text-align:left;white-space:pre\">bird_id</th><th style=\"text-align:left;white-space:pre\">scientific_name</th><th style=\"text-align:left;white-space:pre\">common_name</th><th style=\"text-align:left;white-space:pre\">famyly_id</th><th style=\"text-align:left;white-space:pre\">endangered</th><th style=\"text-align:left;white-space:pre\">wing_id</th><th style=\"text-align:left;white-space:pre\">body_id</th><th style=\"text-align:left;white-space:pre\">bill_id</th><th style=\"text-align:left;white-space:pre\">description</th></tr><tr><td style=\"text-align:left;white-space:pre\">1</td><td style=\"text-align:left;white-space:pre\">Charadrius vociferus</td><td style=\"text-align:left;white-space:pre\">Killdeer</td><td style=\"text-align:left;white-space:pre\">NULL</td><td style=\"text-align:left;white-space:pre\">Extinct</td><td style=\"text-align:left;white-space:pre\">NULL</td><td style=\"text-align:left;white-space:pre\">NULL</td><td style=\"text-align:left;white-space:pre\">NULL</td><td style=\"text-align:left;white-space:pre\">NULL</td></tr><tr><td style=\"text-align:left;white-space:pre\">2</td><td style=\"text-align:left;white-space:pre\">Gavia immer</td><td style=\"text-align:left;white-space:pre\">Great Northern Loon</td><td style=\"text-align:left;white-space:pre\">NULL</td><td style=\"text-align:left;white-space:pre\">Extinct</td><td style=\"text-align:left;white-space:pre\">NULL</td><td style=\"text-align:left;white-space:pre\">NULL</td><td style=\"text-align:left;white-space:pre\">NULL</td><td style=\"text-align:left;white-space:pre\">NULL</td></tr><tr><td style=\"text-align:left;white-space:pre\">3</td><td style=\"text-align:left;white-space:pre\">Aix sponsa</td><td style=\"text-align:left;white-space:pre\">Wood Duck</td><td style=\"text-align:left;white-space:pre\">NULL</td><td style=\"text-align:left;white-space:pre\">Lower Risk - Near Threatened</td><td style=\"text-align:left;white-space:pre\">NULL</td><td style=\"text-align:left;white-space:pre\">NULL</td><td style=\"text-align:left;white-space:pre\">NULL</td><td style=\"text-align:left;white-space:pre\">NULL</td></tr><tr><td style=\"text-align:left;white-space:pre\">4</td><td style=\"text-align:left;white-space:pre\">Chordeiles minor</td><td style=\"text-align:left;white-space:pre\">Common Nighthawk</td><td style=\"text-align:left;white-space:pre\">NULL</td><td style=\"text-align:left;white-space:pre\">Lower Risk - Near Threatened</td><td style=\"text-align:left;white-space:pre\">NULL</td><td style=\"text-align:left;white-space:pre\">NULL</td><td style=\"text-align:left;white-space:pre\">NULL</td><td style=\"text-align:left;white-space:pre\">NULL</td></tr><tr><td style=\"text-align:left;white-space:pre\">5</td><td style=\"text-align:left;white-space:pre\">Sitta carolinensis</td><td style=\"text-align:left;white-space:pre\"> White-breasted Nuthatch</td><td style=\"text-align:left;white-space:pre\">NULL</td><td style=\"text-align:left;white-space:pre\">Lower Risk - Near Threatened</td><td style=\"text-align:left;white-space:pre\">NULL</td><td style=\"text-align:left;white-space:pre\">NULL</td><td style=\"text-align:left;white-space:pre\">NULL</td><td style=\"text-align:left;white-space:pre\">NULL</td></tr><tr><td style=\"text-align:left;white-space:pre\">6</td><td style=\"text-align:left;white-space:pre\">Apteryx mantelli</td><td style=\"text-align:left;white-space:pre\">North Island Brown Kiwi</td><td style=\"text-align:left;white-space:pre\">NULL</td><td style=\"text-align:left;white-space:pre\">Lower Risk - Near Threatened</td><td style=\"text-align:left;white-space:pre\">NULL</td><td style=\"text-align:left;white-space:pre\">NULL</td><td style=\"text-align:left;white-space:pre\">NULL</td><td style=\"text-align:left;white-space:pre\">NULL</td></tr></table></body></html>"
      ]
     },
     "metadata": {},
     "output_type": "display_data"
    }
   ],
   "source": [
    "select * from bird_new;"
   ]
  },
  {
   "cell_type": "code",
   "execution_count": 47,
   "metadata": {},
   "outputs": [
    {
     "data": {
      "text/html": [
       "Query OK"
      ]
     },
     "metadata": {},
     "output_type": "display_data"
    }
   ],
   "source": [
    "use birdwatchers;\n",
    "create table surveys\n",
    "(survey_id int auto_increment key,\n",
    "survey_name varchar(255));\n",
    "\n",
    "create table survey_questions\n",
    "(question_id int auto_increment key,\n",
    "survey_id int, \n",
    "question varchar(255),\n",
    "choices blob);\n",
    "\n",
    "create table survey_answers\n",
    "(answer_id int auto_increment key,\n",
    "human_id int,\n",
    "question_id int,\n",
    "date_answered datetime,\n",
    "answer varchar(255));\n"
   ]
  },
  {
   "cell_type": "code",
   "execution_count": 43,
   "metadata": {},
   "outputs": [
    {
     "data": {
      "text/html": [
       "Query OK"
      ]
     },
     "metadata": {},
     "output_type": "display_data"
    }
   ],
   "source": [
    "insert into surveys (survey_name)\n",
    "values(\"favorite birding location\");\n",
    "\n",
    "insert into survey_questions\n",
    "(survey_id, question, choices)\n",
    "values(last_insert_id(),\n",
    "      \"what's your favorite setting for bird-watching?\",\n",
    "      column_create('1', 'forest', '2', 'shore', '3', 'backyard'));\n",
    "\n",
    "insert into surveys(survey_name)\n",
    "values(\"preferred birds\");\n",
    "\n",
    "insert into survey_questions\n",
    "(survey_id, question, choices)\n",
    "values(last_insert_id(),\n",
    "      \"which type of birds do you like best?\",\n",
    "      column_create ('1', 'perching', '2', 'shore', '3', 'fowl', '4', 'rapture'));\n"
   ]
  },
  {
   "cell_type": "markdown",
   "metadata": {},
   "source": [
    "## Optional Changes"
   ]
  },
  {
   "cell_type": "code",
   "execution_count": 2,
   "metadata": {},
   "outputs": [
    {
     "data": {
      "text/html": [
       "Query OK"
      ]
     },
     "metadata": {},
     "output_type": "display_data"
    }
   ],
   "source": [
    "CREATE TABLE rookery.conservation_status\n",
    "(status_id INT AUTO_INCREMENT PRIMARY KEY,\n",
    "conservation_category CHAR(10),\n",
    "conservation_state CHAR(25) );"
   ]
  },
  {
   "cell_type": "code",
   "execution_count": 3,
   "metadata": {},
   "outputs": [
    {
     "data": {
      "text/html": [
       "Query OK"
      ]
     },
     "metadata": {},
     "output_type": "display_data"
    }
   ],
   "source": [
    "INSERT INTO rookery.conservation_status\n",
    "(conservation_category, conservation_state)\n",
    "VALUES('Extinct','Extinct'),\n",
    "('Extinct','Extinct in Wild'),\n",
    "('Threatened','Critically Endangered'),\n",
    "('Threatened','Endangered'),\n",
    "('Threatened','Vulnerable'),\n",
    "('Lower Risk','Conservation Dependent'),\n",
    "('Lower Risk','Near Threatened'),('Lower Risk','Least Concern');"
   ]
  },
  {
   "cell_type": "code",
   "execution_count": 4,
   "metadata": {},
   "outputs": [
    {
     "data": {
      "text/html": [
       "<html><body><table border=\"1\"><tr><th style=\"text-align:left;white-space:pre\">status_id</th><th style=\"text-align:left;white-space:pre\">conservation_category</th><th style=\"text-align:left;white-space:pre\">conservation_state</th></tr><tr><td style=\"text-align:left;white-space:pre\">1</td><td style=\"text-align:left;white-space:pre\">Extinct</td><td style=\"text-align:left;white-space:pre\">Extinct</td></tr><tr><td style=\"text-align:left;white-space:pre\">2</td><td style=\"text-align:left;white-space:pre\">Extinct</td><td style=\"text-align:left;white-space:pre\">Extinct in Wild</td></tr><tr><td style=\"text-align:left;white-space:pre\">3</td><td style=\"text-align:left;white-space:pre\">Threatened</td><td style=\"text-align:left;white-space:pre\">Critically Endangered</td></tr><tr><td style=\"text-align:left;white-space:pre\">4</td><td style=\"text-align:left;white-space:pre\">Threatened</td><td style=\"text-align:left;white-space:pre\">Endangered</td></tr><tr><td style=\"text-align:left;white-space:pre\">5</td><td style=\"text-align:left;white-space:pre\">Threatened</td><td style=\"text-align:left;white-space:pre\">Vulnerable</td></tr><tr><td style=\"text-align:left;white-space:pre\">6</td><td style=\"text-align:left;white-space:pre\">Lower Risk</td><td style=\"text-align:left;white-space:pre\">Conservation Dependent</td></tr><tr><td style=\"text-align:left;white-space:pre\">7</td><td style=\"text-align:left;white-space:pre\">Lower Risk</td><td style=\"text-align:left;white-space:pre\">Near Threatened</td></tr><tr><td style=\"text-align:left;white-space:pre\">8</td><td style=\"text-align:left;white-space:pre\">Lower Risk</td><td style=\"text-align:left;white-space:pre\">Least Concern</td></tr></table></body></html>"
      ]
     },
     "metadata": {},
     "output_type": "display_data"
    }
   ],
   "source": [
    "SELECT * FROM rookery.conservation_status;"
   ]
  },
  {
   "cell_type": "code",
   "execution_count": 11,
   "metadata": {},
   "outputs": [
    {
     "data": {
      "text/html": [
       "Query OK"
      ]
     },
     "metadata": {},
     "output_type": "display_data"
    }
   ],
   "source": [
    "use test;"
   ]
  },
  {
   "cell_type": "code",
   "execution_count": 12,
   "metadata": {},
   "outputs": [
    {
     "data": {
      "text/html": [
       "Stage: 2 of 2 'Enabling keys'      0% of stage done\r",
       "                                                   \r"
      ]
     },
     "metadata": {},
     "output_type": "display_data"
    }
   ],
   "source": [
    "ALTER TABLE bird_new\n",
    "CHANGE COLUMN endangered conservation_status_id INT DEFAULT 8;"
   ]
  },
  {
   "cell_type": "code",
   "execution_count": 14,
   "metadata": {},
   "outputs": [
    {
     "data": {
      "text/html": [
       "<html><body><table border=\"1\"><tr><th style=\"text-align:left;white-space:pre\">bird_id</th><th style=\"text-align:left;white-space:pre\">scientific_name</th><th style=\"text-align:left;white-space:pre\">common_name</th><th style=\"text-align:left;white-space:pre\">famyly_id</th><th style=\"text-align:left;white-space:pre\">conservation_status_id</th><th style=\"text-align:left;white-space:pre\">wing_id</th><th style=\"text-align:left;white-space:pre\">body_id</th><th style=\"text-align:left;white-space:pre\">bill_id</th><th style=\"text-align:left;white-space:pre\">description</th></tr><tr><td style=\"text-align:left;white-space:pre\">1</td><td style=\"text-align:left;white-space:pre\">Charadrius vociferus</td><td style=\"text-align:left;white-space:pre\">Killdeer</td><td style=\"text-align:left;white-space:pre\">NULL</td><td style=\"text-align:left;white-space:pre\">1</td><td style=\"text-align:left;white-space:pre\">NULL</td><td style=\"text-align:left;white-space:pre\">NULL</td><td style=\"text-align:left;white-space:pre\">NULL</td><td style=\"text-align:left;white-space:pre\">NULL</td></tr><tr><td style=\"text-align:left;white-space:pre\">2</td><td style=\"text-align:left;white-space:pre\">Gavia immer</td><td style=\"text-align:left;white-space:pre\">Great Northern Loon</td><td style=\"text-align:left;white-space:pre\">NULL</td><td style=\"text-align:left;white-space:pre\">1</td><td style=\"text-align:left;white-space:pre\">NULL</td><td style=\"text-align:left;white-space:pre\">NULL</td><td style=\"text-align:left;white-space:pre\">NULL</td><td style=\"text-align:left;white-space:pre\">NULL</td></tr><tr><td style=\"text-align:left;white-space:pre\">3</td><td style=\"text-align:left;white-space:pre\">Aix sponsa</td><td style=\"text-align:left;white-space:pre\">Wood Duck</td><td style=\"text-align:left;white-space:pre\">NULL</td><td style=\"text-align:left;white-space:pre\">7</td><td style=\"text-align:left;white-space:pre\">NULL</td><td style=\"text-align:left;white-space:pre\">NULL</td><td style=\"text-align:left;white-space:pre\">NULL</td><td style=\"text-align:left;white-space:pre\">NULL</td></tr><tr><td style=\"text-align:left;white-space:pre\">4</td><td style=\"text-align:left;white-space:pre\">Chordeiles minor</td><td style=\"text-align:left;white-space:pre\">Common Nighthawk</td><td style=\"text-align:left;white-space:pre\">NULL</td><td style=\"text-align:left;white-space:pre\">7</td><td style=\"text-align:left;white-space:pre\">NULL</td><td style=\"text-align:left;white-space:pre\">NULL</td><td style=\"text-align:left;white-space:pre\">NULL</td><td style=\"text-align:left;white-space:pre\">NULL</td></tr><tr><td style=\"text-align:left;white-space:pre\">5</td><td style=\"text-align:left;white-space:pre\">Sitta carolinensis</td><td style=\"text-align:left;white-space:pre\"> White-breasted Nuthatch</td><td style=\"text-align:left;white-space:pre\">NULL</td><td style=\"text-align:left;white-space:pre\">7</td><td style=\"text-align:left;white-space:pre\">NULL</td><td style=\"text-align:left;white-space:pre\">NULL</td><td style=\"text-align:left;white-space:pre\">NULL</td><td style=\"text-align:left;white-space:pre\">NULL</td></tr><tr><td style=\"text-align:left;white-space:pre\">6</td><td style=\"text-align:left;white-space:pre\">Apteryx mantelli</td><td style=\"text-align:left;white-space:pre\">North Island Brown Kiwi</td><td style=\"text-align:left;white-space:pre\">NULL</td><td style=\"text-align:left;white-space:pre\">7</td><td style=\"text-align:left;white-space:pre\">NULL</td><td style=\"text-align:left;white-space:pre\">NULL</td><td style=\"text-align:left;white-space:pre\">NULL</td><td style=\"text-align:left;white-space:pre\">NULL</td></tr></table></body></html>"
      ]
     },
     "metadata": {},
     "output_type": "display_data"
    }
   ],
   "source": [
    "select * from bird_new;"
   ]
  },
  {
   "cell_type": "code",
   "execution_count": 15,
   "metadata": {},
   "outputs": [
    {
     "data": {
      "text/html": [
       "Query OK"
      ]
     },
     "metadata": {},
     "output_type": "display_data"
    }
   ],
   "source": [
    "ALTER TABLE bird_new\n",
    "ALTER conservation_status_id SET DEFAULT 7;"
   ]
  },
  {
   "cell_type": "code",
   "execution_count": 17,
   "metadata": {},
   "outputs": [
    {
     "data": {
      "text/html": [
       "<html><body><table border=\"1\"><tr><th style=\"text-align:left;white-space:pre\">Field</th><th style=\"text-align:left;white-space:pre\">Type</th><th style=\"text-align:left;white-space:pre\">Null</th><th style=\"text-align:left;white-space:pre\">Key</th><th style=\"text-align:left;white-space:pre\">Default</th><th style=\"text-align:left;white-space:pre\">Extra</th></tr><tr><td style=\"text-align:left;white-space:pre\">conservation_status_id</td><td style=\"text-align:left;white-space:pre\">int(11)</td><td style=\"text-align:left;white-space:pre\">YES</td><td style=\"text-align:left;white-space:pre\"></td><td style=\"text-align:left;white-space:pre\">7</td><td style=\"text-align:left;white-space:pre\"></td></tr></table></body></html>"
      ]
     },
     "metadata": {},
     "output_type": "display_data"
    }
   ],
   "source": [
    "SHOW COLUMNS FROM bird_new LIKE 'conservation_status_id';"
   ]
  },
  {
   "cell_type": "code",
   "execution_count": 19,
   "metadata": {},
   "outputs": [
    {
     "data": {
      "text/html": [
       "Query OK"
      ]
     },
     "metadata": {},
     "output_type": "display_data"
    }
   ],
   "source": [
    "ALTER TABLE bird_new\n",
    "ALTER conservation_status_id DROP DEFAULT;"
   ]
  },
  {
   "cell_type": "code",
   "execution_count": 20,
   "metadata": {},
   "outputs": [
    {
     "data": {
      "text/html": [
       "<html><body><table border=\"1\"><tr><th style=\"text-align:left;white-space:pre\">bird_id</th><th style=\"text-align:left;white-space:pre\">scientific_name</th><th style=\"text-align:left;white-space:pre\">common_name</th><th style=\"text-align:left;white-space:pre\">famyly_id</th><th style=\"text-align:left;white-space:pre\">conservation_status_id</th><th style=\"text-align:left;white-space:pre\">wing_id</th><th style=\"text-align:left;white-space:pre\">body_id</th><th style=\"text-align:left;white-space:pre\">bill_id</th><th style=\"text-align:left;white-space:pre\">description</th></tr><tr><td style=\"text-align:left;white-space:pre\">1</td><td style=\"text-align:left;white-space:pre\">Charadrius vociferus</td><td style=\"text-align:left;white-space:pre\">Killdeer</td><td style=\"text-align:left;white-space:pre\">NULL</td><td style=\"text-align:left;white-space:pre\">1</td><td style=\"text-align:left;white-space:pre\">NULL</td><td style=\"text-align:left;white-space:pre\">NULL</td><td style=\"text-align:left;white-space:pre\">NULL</td><td style=\"text-align:left;white-space:pre\">NULL</td></tr><tr><td style=\"text-align:left;white-space:pre\">2</td><td style=\"text-align:left;white-space:pre\">Gavia immer</td><td style=\"text-align:left;white-space:pre\">Great Northern Loon</td><td style=\"text-align:left;white-space:pre\">NULL</td><td style=\"text-align:left;white-space:pre\">1</td><td style=\"text-align:left;white-space:pre\">NULL</td><td style=\"text-align:left;white-space:pre\">NULL</td><td style=\"text-align:left;white-space:pre\">NULL</td><td style=\"text-align:left;white-space:pre\">NULL</td></tr><tr><td style=\"text-align:left;white-space:pre\">3</td><td style=\"text-align:left;white-space:pre\">Aix sponsa</td><td style=\"text-align:left;white-space:pre\">Wood Duck</td><td style=\"text-align:left;white-space:pre\">NULL</td><td style=\"text-align:left;white-space:pre\">7</td><td style=\"text-align:left;white-space:pre\">NULL</td><td style=\"text-align:left;white-space:pre\">NULL</td><td style=\"text-align:left;white-space:pre\">NULL</td><td style=\"text-align:left;white-space:pre\">NULL</td></tr><tr><td style=\"text-align:left;white-space:pre\">4</td><td style=\"text-align:left;white-space:pre\">Chordeiles minor</td><td style=\"text-align:left;white-space:pre\">Common Nighthawk</td><td style=\"text-align:left;white-space:pre\">NULL</td><td style=\"text-align:left;white-space:pre\">7</td><td style=\"text-align:left;white-space:pre\">NULL</td><td style=\"text-align:left;white-space:pre\">NULL</td><td style=\"text-align:left;white-space:pre\">NULL</td><td style=\"text-align:left;white-space:pre\">NULL</td></tr><tr><td style=\"text-align:left;white-space:pre\">5</td><td style=\"text-align:left;white-space:pre\">Sitta carolinensis</td><td style=\"text-align:left;white-space:pre\"> White-breasted Nuthatch</td><td style=\"text-align:left;white-space:pre\">NULL</td><td style=\"text-align:left;white-space:pre\">7</td><td style=\"text-align:left;white-space:pre\">NULL</td><td style=\"text-align:left;white-space:pre\">NULL</td><td style=\"text-align:left;white-space:pre\">NULL</td><td style=\"text-align:left;white-space:pre\">NULL</td></tr><tr><td style=\"text-align:left;white-space:pre\">6</td><td style=\"text-align:left;white-space:pre\">Apteryx mantelli</td><td style=\"text-align:left;white-space:pre\">North Island Brown Kiwi</td><td style=\"text-align:left;white-space:pre\">NULL</td><td style=\"text-align:left;white-space:pre\">7</td><td style=\"text-align:left;white-space:pre\">NULL</td><td style=\"text-align:left;white-space:pre\">NULL</td><td style=\"text-align:left;white-space:pre\">NULL</td><td style=\"text-align:left;white-space:pre\">NULL</td></tr></table></body></html>"
      ]
     },
     "metadata": {},
     "output_type": "display_data"
    }
   ],
   "source": [
    "select * from bird_new;"
   ]
  },
  {
   "cell_type": "code",
   "execution_count": 21,
   "metadata": {},
   "outputs": [
    {
     "data": {
      "text/html": [
       "<html><body><table border=\"1\"><tr><th style=\"text-align:left;white-space:pre\">Field</th><th style=\"text-align:left;white-space:pre\">Type</th><th style=\"text-align:left;white-space:pre\">Null</th><th style=\"text-align:left;white-space:pre\">Key</th><th style=\"text-align:left;white-space:pre\">Default</th><th style=\"text-align:left;white-space:pre\">Extra</th></tr><tr><td style=\"text-align:left;white-space:pre\">conservation_status_id</td><td style=\"text-align:left;white-space:pre\">int(11)</td><td style=\"text-align:left;white-space:pre\">YES</td><td style=\"text-align:left;white-space:pre\"></td><td style=\"text-align:left;white-space:pre\">NULL</td><td style=\"text-align:left;white-space:pre\"></td></tr></table></body></html>"
      ]
     },
     "metadata": {},
     "output_type": "display_data"
    }
   ],
   "source": [
    "SHOW COLUMNS FROM bird_new LIKE 'conservation_status_id';"
   ]
  },
  {
   "cell_type": "markdown",
   "metadata": {},
   "source": [
    "### Setting the Value of AUTO_INCREMENT"
   ]
  },
  {
   "cell_type": "code",
   "execution_count": 22,
   "metadata": {},
   "outputs": [
    {
     "data": {
      "text/html": [
       "<html><body><table border=\"1\"><tr><th style=\"text-align:left;white-space:pre\">auto_increment</th></tr><tr><td style=\"text-align:left;white-space:pre\">7</td></tr></table></body></html>"
      ]
     },
     "metadata": {},
     "output_type": "display_data"
    }
   ],
   "source": [
    "SELECT auto_increment\n",
    "FROM information_schema.tables\n",
    "WHERE table_name = 'birds';"
   ]
  },
  {
   "cell_type": "code",
   "execution_count": 23,
   "metadata": {},
   "outputs": [
    {
     "data": {
      "text/html": [
       "Query OK"
      ]
     },
     "metadata": {},
     "output_type": "display_data"
    }
   ],
   "source": [
    "USE rookery\n",
    "ALTER TABLE birds\n",
    "AUTO_INCREMENT = 10;"
   ]
  },
  {
   "cell_type": "markdown",
   "metadata": {},
   "source": [
    "### Another Method to Alter and Create a Table"
   ]
  },
  {
   "cell_type": "code",
   "execution_count": 24,
   "metadata": {},
   "outputs": [
    {
     "data": {
      "text/html": [
       "Query OK"
      ]
     },
     "metadata": {},
     "output_type": "display_data"
    }
   ],
   "source": [
    "CREATE TABLE birds_new LIKE birds;"
   ]
  },
  {
   "cell_type": "code",
   "execution_count": 25,
   "metadata": {},
   "outputs": [
    {
     "data": {
      "text/html": [
       "<html><body><table border=\"1\"><tr><th style=\"text-align:left;white-space:pre\">Field</th><th style=\"text-align:left;white-space:pre\">Type</th><th style=\"text-align:left;white-space:pre\">Null</th><th style=\"text-align:left;white-space:pre\">Key</th><th style=\"text-align:left;white-space:pre\">Default</th><th style=\"text-align:left;white-space:pre\">Extra</th></tr><tr><td style=\"text-align:left;white-space:pre\">bird_id</td><td style=\"text-align:left;white-space:pre\">int(11)</td><td style=\"text-align:left;white-space:pre\">NO</td><td style=\"text-align:left;white-space:pre\">PRI</td><td style=\"text-align:left;white-space:pre\">NULL</td><td style=\"text-align:left;white-space:pre\">auto_increment</td></tr><tr><td style=\"text-align:left;white-space:pre\">scientific_name</td><td style=\"text-align:left;white-space:pre\">varchar(255)</td><td style=\"text-align:left;white-space:pre\">YES</td><td style=\"text-align:left;white-space:pre\">UNI</td><td style=\"text-align:left;white-space:pre\">NULL</td><td style=\"text-align:left;white-space:pre\"></td></tr><tr><td style=\"text-align:left;white-space:pre\">common_name</td><td style=\"text-align:left;white-space:pre\">varchar(50)</td><td style=\"text-align:left;white-space:pre\">YES</td><td style=\"text-align:left;white-space:pre\"></td><td style=\"text-align:left;white-space:pre\">NULL</td><td style=\"text-align:left;white-space:pre\"></td></tr><tr><td style=\"text-align:left;white-space:pre\">famyly_id</td><td style=\"text-align:left;white-space:pre\">int(11)</td><td style=\"text-align:left;white-space:pre\">YES</td><td style=\"text-align:left;white-space:pre\"></td><td style=\"text-align:left;white-space:pre\">NULL</td><td style=\"text-align:left;white-space:pre\"></td></tr><tr><td style=\"text-align:left;white-space:pre\">description</td><td style=\"text-align:left;white-space:pre\">text</td><td style=\"text-align:left;white-space:pre\">YES</td><td style=\"text-align:left;white-space:pre\"></td><td style=\"text-align:left;white-space:pre\">NULL</td><td style=\"text-align:left;white-space:pre\"></td></tr></table><table border=\"1\"><tr><th style=\"text-align:left;white-space:pre\">Field</th><th style=\"text-align:left;white-space:pre\">Type</th><th style=\"text-align:left;white-space:pre\">Null</th><th style=\"text-align:left;white-space:pre\">Key</th><th style=\"text-align:left;white-space:pre\">Default</th><th style=\"text-align:left;white-space:pre\">Extra</th></tr><tr><td style=\"text-align:left;white-space:pre\">bird_id</td><td style=\"text-align:left;white-space:pre\">int(11)</td><td style=\"text-align:left;white-space:pre\">NO</td><td style=\"text-align:left;white-space:pre\">PRI</td><td style=\"text-align:left;white-space:pre\">NULL</td><td style=\"text-align:left;white-space:pre\">auto_increment</td></tr><tr><td style=\"text-align:left;white-space:pre\">scientific_name</td><td style=\"text-align:left;white-space:pre\">varchar(255)</td><td style=\"text-align:left;white-space:pre\">YES</td><td style=\"text-align:left;white-space:pre\">UNI</td><td style=\"text-align:left;white-space:pre\">NULL</td><td style=\"text-align:left;white-space:pre\"></td></tr><tr><td style=\"text-align:left;white-space:pre\">common_name</td><td style=\"text-align:left;white-space:pre\">varchar(50)</td><td style=\"text-align:left;white-space:pre\">YES</td><td style=\"text-align:left;white-space:pre\"></td><td style=\"text-align:left;white-space:pre\">NULL</td><td style=\"text-align:left;white-space:pre\"></td></tr><tr><td style=\"text-align:left;white-space:pre\">famyly_id</td><td style=\"text-align:left;white-space:pre\">int(11)</td><td style=\"text-align:left;white-space:pre\">YES</td><td style=\"text-align:left;white-space:pre\"></td><td style=\"text-align:left;white-space:pre\">NULL</td><td style=\"text-align:left;white-space:pre\"></td></tr><tr><td style=\"text-align:left;white-space:pre\">description</td><td style=\"text-align:left;white-space:pre\">text</td><td style=\"text-align:left;white-space:pre\">YES</td><td style=\"text-align:left;white-space:pre\"></td><td style=\"text-align:left;white-space:pre\">NULL</td><td style=\"text-align:left;white-space:pre\"></td></tr></table></body></html>"
      ]
     },
     "metadata": {},
     "output_type": "display_data"
    }
   ],
   "source": [
    "DESCRIBE birds;\n",
    "DESCRIBE birds_new;\n",
    "SELECT * FROM birds_new;"
   ]
  },
  {
   "cell_type": "code",
   "execution_count": 27,
   "metadata": {},
   "outputs": [
    {
     "data": {
      "text/html": [
       "<html><body><table border=\"1\"><tr><th style=\"text-align:left;white-space:pre\">Table</th><th style=\"text-align:left;white-space:pre\">Create Table</th></tr><tr><td style=\"text-align:left;white-space:pre\">birds</td><td style=\"text-align:left;white-space:pre\">CREATE TABLE `birds` (\r\n",
       "  `bird_id` int(11) NOT NULL AUTO_INCREMENT,\r\n",
       "  `scientific_name` varchar(255) COLLATE latin1_bin DEFAULT NULL,\r\n",
       "  `common_name` varchar(50) COLLATE latin1_bin DEFAULT NULL,\r\n",
       "  `famyly_id` int(11) DEFAULT NULL,\r\n",
       "  `description` text COLLATE latin1_bin DEFAULT NULL,\r\n",
       "  PRIMARY KEY (`bird_id`),\r\n",
       "  UNIQUE KEY `scientific_name` (`scientific_name`)\r\n",
       ") ENGINE=InnoDB AUTO_INCREMENT=10 DEFAULT CHARSET=latin1 COLLATE=latin1_bin</td></tr></table></body></html>"
      ]
     },
     "metadata": {},
     "output_type": "display_data"
    }
   ],
   "source": [
    "SHOW CREATE TABLE birds;"
   ]
  },
  {
   "cell_type": "code",
   "execution_count": 28,
   "metadata": {},
   "outputs": [
    {
     "data": {
      "text/html": [
       "Query OK"
      ]
     },
     "metadata": {},
     "output_type": "display_data"
    }
   ],
   "source": [
    "ALTER TABLE birds_new\n",
    "AUTO_INCREMENT = 6;"
   ]
  },
  {
   "cell_type": "code",
   "execution_count": 29,
   "metadata": {},
   "outputs": [
    {
     "data": {
      "text/html": [
       "Query OK"
      ]
     },
     "metadata": {},
     "output_type": "display_data"
    }
   ],
   "source": [
    "CREATE TABLE birds_details\n",
    "SELECT bird_id, description\n",
    "FROM birds;"
   ]
  },
  {
   "cell_type": "code",
   "execution_count": 30,
   "metadata": {},
   "outputs": [
    {
     "data": {
      "text/html": [
       "<html><body><table border=\"1\"><tr><th style=\"text-align:left;white-space:pre\">Field</th><th style=\"text-align:left;white-space:pre\">Type</th><th style=\"text-align:left;white-space:pre\">Null</th><th style=\"text-align:left;white-space:pre\">Key</th><th style=\"text-align:left;white-space:pre\">Default</th><th style=\"text-align:left;white-space:pre\">Extra</th></tr><tr><td style=\"text-align:left;white-space:pre\">bird_id</td><td style=\"text-align:left;white-space:pre\">int(11)</td><td style=\"text-align:left;white-space:pre\">NO</td><td style=\"text-align:left;white-space:pre\"></td><td style=\"text-align:left;white-space:pre\">0</td><td style=\"text-align:left;white-space:pre\"></td></tr><tr><td style=\"text-align:left;white-space:pre\">description</td><td style=\"text-align:left;white-space:pre\">text</td><td style=\"text-align:left;white-space:pre\">YES</td><td style=\"text-align:left;white-space:pre\"></td><td style=\"text-align:left;white-space:pre\">NULL</td><td style=\"text-align:left;white-space:pre\"></td></tr></table></body></html>"
      ]
     },
     "metadata": {},
     "output_type": "display_data"
    }
   ],
   "source": [
    "DESCRIBE birds_details;"
   ]
  },
  {
   "cell_type": "code",
   "execution_count": 31,
   "metadata": {},
   "outputs": [
    {
     "data": {
      "text/html": [
       "Query OK"
      ]
     },
     "metadata": {},
     "output_type": "display_data"
    }
   ],
   "source": [
    "ALTER TABLE birds\n",
    "DROP COLUMN description;"
   ]
  },
  {
   "cell_type": "code",
   "execution_count": 32,
   "metadata": {},
   "outputs": [
    {
     "data": {
      "text/html": [
       "<html><body><table border=\"1\"><tr><th style=\"text-align:left;white-space:pre\">Field</th><th style=\"text-align:left;white-space:pre\">Type</th><th style=\"text-align:left;white-space:pre\">Null</th><th style=\"text-align:left;white-space:pre\">Key</th><th style=\"text-align:left;white-space:pre\">Default</th><th style=\"text-align:left;white-space:pre\">Extra</th></tr><tr><td style=\"text-align:left;white-space:pre\">bird_id</td><td style=\"text-align:left;white-space:pre\">int(11)</td><td style=\"text-align:left;white-space:pre\">NO</td><td style=\"text-align:left;white-space:pre\">PRI</td><td style=\"text-align:left;white-space:pre\">NULL</td><td style=\"text-align:left;white-space:pre\">auto_increment</td></tr><tr><td style=\"text-align:left;white-space:pre\">scientific_name</td><td style=\"text-align:left;white-space:pre\">varchar(255)</td><td style=\"text-align:left;white-space:pre\">YES</td><td style=\"text-align:left;white-space:pre\">UNI</td><td style=\"text-align:left;white-space:pre\">NULL</td><td style=\"text-align:left;white-space:pre\"></td></tr><tr><td style=\"text-align:left;white-space:pre\">common_name</td><td style=\"text-align:left;white-space:pre\">varchar(50)</td><td style=\"text-align:left;white-space:pre\">YES</td><td style=\"text-align:left;white-space:pre\"></td><td style=\"text-align:left;white-space:pre\">NULL</td><td style=\"text-align:left;white-space:pre\"></td></tr><tr><td style=\"text-align:left;white-space:pre\">famyly_id</td><td style=\"text-align:left;white-space:pre\">int(11)</td><td style=\"text-align:left;white-space:pre\">YES</td><td style=\"text-align:left;white-space:pre\"></td><td style=\"text-align:left;white-space:pre\">NULL</td><td style=\"text-align:left;white-space:pre\"></td></tr></table></body></html>"
      ]
     },
     "metadata": {},
     "output_type": "display_data"
    }
   ],
   "source": [
    "DESCRIBE birds;"
   ]
  },
  {
   "cell_type": "markdown",
   "metadata": {},
   "source": [
    "### Renaming a Table"
   ]
  },
  {
   "cell_type": "code",
   "execution_count": 35,
   "metadata": {},
   "outputs": [
    {
     "name": "stderr",
     "output_type": "stream",
     "text": [
      "Table 'rookery.table1_altered' doesn't exist\n",
      "\u0007\u001b(B\u001b[0;7m\u001b(B\u001b[m\n"
     ]
    }
   ],
   "source": [
    "RENAME TABLE table1_altered\n",
    "TO table1;"
   ]
  },
  {
   "cell_type": "code",
   "execution_count": 34,
   "metadata": {},
   "outputs": [
    {
     "data": {
      "text/html": [
       "Query OK"
      ]
     },
     "metadata": {},
     "output_type": "display_data"
    }
   ],
   "source": [
    "RENAME TABLE rookery.birds TO rookery.birds_old,\n",
    "test.bird_new TO rookery.birds;"
   ]
  },
  {
   "cell_type": "code",
   "execution_count": 36,
   "metadata": {},
   "outputs": [
    {
     "data": {
      "text/html": [
       "<html><body><table border=\"1\"><tr><th style=\"text-align:left;white-space:pre\">Tables_in_rookery (birds%)</th></tr><tr><td style=\"text-align:left;white-space:pre\">birds</td></tr><tr><td style=\"text-align:left;white-space:pre\">birds_details</td></tr><tr><td style=\"text-align:left;white-space:pre\">birds_new</td></tr><tr><td style=\"text-align:left;white-space:pre\">birds_old</td></tr></table></body></html>"
      ]
     },
     "metadata": {},
     "output_type": "display_data"
    }
   ],
   "source": [
    "SHOW TABLES IN rookery LIKE 'birds%';"
   ]
  },
  {
   "cell_type": "code",
   "execution_count": 37,
   "metadata": {},
   "outputs": [
    {
     "data": {
      "text/html": [
       "Query OK"
      ]
     },
     "metadata": {},
     "output_type": "display_data"
    }
   ],
   "source": [
    "DROP TABLE birds_old;"
   ]
  },
  {
   "cell_type": "code",
   "execution_count": 38,
   "metadata": {},
   "outputs": [
    {
     "data": {
      "text/html": [
       "<html><body><table border=\"1\"><tr><th style=\"text-align:left;white-space:pre\">Tables_in_rookery (birds%)</th></tr><tr><td style=\"text-align:left;white-space:pre\">birds</td></tr><tr><td style=\"text-align:left;white-space:pre\">birds_details</td></tr><tr><td style=\"text-align:left;white-space:pre\">birds_new</td></tr></table></body></html>"
      ]
     },
     "metadata": {},
     "output_type": "display_data"
    }
   ],
   "source": [
    "SHOW TABLES IN rookery LIKE 'birds%';"
   ]
  },
  {
   "cell_type": "markdown",
   "metadata": {},
   "source": [
    "### Reordering a Table"
   ]
  },
  {
   "cell_type": "markdown",
   "metadata": {},
   "source": [
    "descargar base de datos"
   ]
  },
  {
   "cell_type": "code",
   "execution_count": null,
   "metadata": {},
   "outputs": [],
   "source": [
    "ALTER TABLE country_codes\n",
    "ORDER BY country_code;"
   ]
  },
  {
   "cell_type": "code",
   "execution_count": null,
   "metadata": {},
   "outputs": [],
   "source": [
    "SELECT * FROM\n",
    "country_codes LIMIT 5;"
   ]
  },
  {
   "cell_type": "code",
   "execution_count": null,
   "metadata": {},
   "outputs": [],
   "source": [
    "SELECT * FROM country_codes\n",
    "ORDER BY country_name\n",
    "LIMIT 5;"
   ]
  },
  {
   "cell_type": "markdown",
   "metadata": {},
   "source": [
    "## Indexes"
   ]
  },
  {
   "cell_type": "code",
   "execution_count": 40,
   "metadata": {},
   "outputs": [
    {
     "name": "stderr",
     "output_type": "stream",
     "text": [
      "Multiple primary key defined\n",
      "\u0007\u001b(B\u001b[0;7m\u001b(B\u001b[m\n"
     ]
    }
   ],
   "source": [
    "ALTER TABLE conservation_status\n",
    "CHANGE status_id conservation_status_id INT AUTO_INCREMENT PRIMARY KEY;"
   ]
  },
  {
   "cell_type": "code",
   "execution_count": 42,
   "metadata": {},
   "outputs": [
    {
     "data": {
      "text/html": [
       "<html><body><table border=\"1\"><tr><th style=\"text-align:left;white-space:pre\">Field</th><th style=\"text-align:left;white-space:pre\">Type</th><th style=\"text-align:left;white-space:pre\">Null</th><th style=\"text-align:left;white-space:pre\">Key</th><th style=\"text-align:left;white-space:pre\">Default</th><th style=\"text-align:left;white-space:pre\">Extra</th></tr><tr><td style=\"text-align:left;white-space:pre\">status_id</td><td style=\"text-align:left;white-space:pre\">int(11)</td><td style=\"text-align:left;white-space:pre\">NO</td><td style=\"text-align:left;white-space:pre\">PRI</td><td style=\"text-align:left;white-space:pre\">NULL</td><td style=\"text-align:left;white-space:pre\">auto_increment</td></tr><tr><td style=\"text-align:left;white-space:pre\">conservation_category</td><td style=\"text-align:left;white-space:pre\">char(10)</td><td style=\"text-align:left;white-space:pre\">YES</td><td style=\"text-align:left;white-space:pre\"></td><td style=\"text-align:left;white-space:pre\">NULL</td><td style=\"text-align:left;white-space:pre\"></td></tr><tr><td style=\"text-align:left;white-space:pre\">conservation_state</td><td style=\"text-align:left;white-space:pre\">char(25)</td><td style=\"text-align:left;white-space:pre\">YES</td><td style=\"text-align:left;white-space:pre\"></td><td style=\"text-align:left;white-space:pre\">NULL</td><td style=\"text-align:left;white-space:pre\"></td></tr></table></body></html>"
      ]
     },
     "metadata": {},
     "output_type": "display_data"
    }
   ],
   "source": [
    "describe conservation_status;"
   ]
  },
  {
   "cell_type": "code",
   "execution_count": 43,
   "metadata": {},
   "outputs": [
    {
     "data": {
      "text/html": [
       "<html><body><table border=\"1\"><tr><th style=\"text-align:left;white-space:pre\">Table</th><th style=\"text-align:left;white-space:pre\">Non_unique</th><th style=\"text-align:left;white-space:pre\">Key_name</th><th style=\"text-align:left;white-space:pre\">Seq_in_index</th><th style=\"text-align:left;white-space:pre\">Column_name</th><th style=\"text-align:left;white-space:pre\">Collation</th><th style=\"text-align:left;white-space:pre\">Cardinality</th><th style=\"text-align:left;white-space:pre\">Sub_part</th><th style=\"text-align:left;white-space:pre\">Packed</th><th style=\"text-align:left;white-space:pre\">Null</th><th style=\"text-align:left;white-space:pre\">Index_type</th><th style=\"text-align:left;white-space:pre\">Comment</th><th style=\"text-align:left;white-space:pre\">Index_comment</th></tr><tr><td style=\"text-align:left;white-space:pre\">humans</td><td style=\"text-align:left;white-space:pre\">0</td><td style=\"text-align:left;white-space:pre\">PRIMARY</td><td style=\"text-align:left;white-space:pre\">1</td><td style=\"text-align:left;white-space:pre\">human_id</td><td style=\"text-align:left;white-space:pre\">A</td><td style=\"text-align:left;white-space:pre\">4</td><td style=\"text-align:left;white-space:pre\">NULL</td><td style=\"text-align:left;white-space:pre\">NULL</td><td style=\"text-align:left;white-space:pre\"></td><td style=\"text-align:left;white-space:pre\">BTREE</td><td style=\"text-align:left;white-space:pre\"></td><td style=\"text-align:left;white-space:pre\"></td></tr></table></body></html>"
      ]
     },
     "metadata": {},
     "output_type": "display_data"
    }
   ],
   "source": [
    "SHOW INDEX FROM birdwatchers.humans;"
   ]
  },
  {
   "cell_type": "code",
   "execution_count": 44,
   "metadata": {},
   "outputs": [
    {
     "data": {
      "text/html": [
       "<html><body><table border=\"1\"><tr><th style=\"text-align:left;white-space:pre\">id</th><th style=\"text-align:left;white-space:pre\">select_type</th><th style=\"text-align:left;white-space:pre\">table</th><th style=\"text-align:left;white-space:pre\">type</th><th style=\"text-align:left;white-space:pre\">possible_keys</th><th style=\"text-align:left;white-space:pre\">key</th><th style=\"text-align:left;white-space:pre\">key_len</th><th style=\"text-align:left;white-space:pre\">ref</th><th style=\"text-align:left;white-space:pre\">rows</th><th style=\"text-align:left;white-space:pre\">Extra</th></tr><tr><td style=\"text-align:left;white-space:pre\">1</td><td style=\"text-align:left;white-space:pre\">SIMPLE</td><td style=\"text-align:left;white-space:pre\">humans</td><td style=\"text-align:left;white-space:pre\">ALL</td><td style=\"text-align:left;white-space:pre\">NULL</td><td style=\"text-align:left;white-space:pre\">NULL</td><td style=\"text-align:left;white-space:pre\">NULL</td><td style=\"text-align:left;white-space:pre\">NULL</td><td style=\"text-align:left;white-space:pre\">4</td><td style=\"text-align:left;white-space:pre\">Using where</td></tr></table></body></html>"
      ]
     },
     "metadata": {},
     "output_type": "display_data"
    }
   ],
   "source": [
    "EXPLAIN SELECT * FROM birdwatchers.humans\n",
    "WHERE name_last = 'Hollar';"
   ]
  },
  {
   "cell_type": "code",
   "execution_count": 45,
   "metadata": {},
   "outputs": [
    {
     "data": {
      "text/html": [
       "Query OK"
      ]
     },
     "metadata": {},
     "output_type": "display_data"
    }
   ],
   "source": [
    "ALTER TABLE birdwatchers.humans\n",
    "ADD INDEX human_names (name_last, name_first);"
   ]
  },
  {
   "cell_type": "code",
   "execution_count": 46,
   "metadata": {},
   "outputs": [
    {
     "data": {
      "text/html": [
       "<html><body><table border=\"1\"><tr><th style=\"text-align:left;white-space:pre\">Table</th><th style=\"text-align:left;white-space:pre\">Create Table</th></tr><tr><td style=\"text-align:left;white-space:pre\">humans</td><td style=\"text-align:left;white-space:pre\">CREATE TABLE `humans` (\r\n",
       "  `human_id` int(11) NOT NULL AUTO_INCREMENT,\r\n",
       "  `formal_title` varchar(25) DEFAULT NULL,\r\n",
       "  `name_first` varchar(25) DEFAULT NULL,\r\n",
       "  `name_last` varchar(25) DEFAULT NULL,\r\n",
       "  `email_adress` varchar(50) DEFAULT NULL,\r\n",
       "  PRIMARY KEY (`human_id`),\r\n",
       "  KEY `human_names` (`name_last`,`name_first`)\r\n",
       ") ENGINE=InnoDB AUTO_INCREMENT=5 DEFAULT CHARSET=utf8mb4</td></tr></table></body></html>"
      ]
     },
     "metadata": {},
     "output_type": "display_data"
    }
   ],
   "source": [
    "SHOW CREATE TABLE birdwatchers.humans;"
   ]
  },
  {
   "cell_type": "code",
   "execution_count": 47,
   "metadata": {},
   "outputs": [
    {
     "data": {
      "text/html": [
       "<html><body><table border=\"1\"><tr><th style=\"text-align:left;white-space:pre\">Table</th><th style=\"text-align:left;white-space:pre\">Non_unique</th><th style=\"text-align:left;white-space:pre\">Key_name</th><th style=\"text-align:left;white-space:pre\">Seq_in_index</th><th style=\"text-align:left;white-space:pre\">Column_name</th><th style=\"text-align:left;white-space:pre\">Collation</th><th style=\"text-align:left;white-space:pre\">Cardinality</th><th style=\"text-align:left;white-space:pre\">Sub_part</th><th style=\"text-align:left;white-space:pre\">Packed</th><th style=\"text-align:left;white-space:pre\">Null</th><th style=\"text-align:left;white-space:pre\">Index_type</th><th style=\"text-align:left;white-space:pre\">Comment</th><th style=\"text-align:left;white-space:pre\">Index_comment</th></tr><tr><td style=\"text-align:left;white-space:pre\">humans</td><td style=\"text-align:left;white-space:pre\">1</td><td style=\"text-align:left;white-space:pre\">human_names</td><td style=\"text-align:left;white-space:pre\">1</td><td style=\"text-align:left;white-space:pre\">name_last</td><td style=\"text-align:left;white-space:pre\">A</td><td style=\"text-align:left;white-space:pre\">4</td><td style=\"text-align:left;white-space:pre\">NULL</td><td style=\"text-align:left;white-space:pre\">NULL</td><td style=\"text-align:left;white-space:pre\">YES</td><td style=\"text-align:left;white-space:pre\">BTREE</td><td style=\"text-align:left;white-space:pre\"></td><td style=\"text-align:left;white-space:pre\"></td></tr><tr><td style=\"text-align:left;white-space:pre\">humans</td><td style=\"text-align:left;white-space:pre\">1</td><td style=\"text-align:left;white-space:pre\">human_names</td><td style=\"text-align:left;white-space:pre\">2</td><td style=\"text-align:left;white-space:pre\">name_first</td><td style=\"text-align:left;white-space:pre\">A</td><td style=\"text-align:left;white-space:pre\">4</td><td style=\"text-align:left;white-space:pre\">NULL</td><td style=\"text-align:left;white-space:pre\">NULL</td><td style=\"text-align:left;white-space:pre\">YES</td><td style=\"text-align:left;white-space:pre\">BTREE</td><td style=\"text-align:left;white-space:pre\"></td><td style=\"text-align:left;white-space:pre\"></td></tr></table></body></html>"
      ]
     },
     "metadata": {},
     "output_type": "display_data"
    }
   ],
   "source": [
    "SHOW INDEX FROM birdwatchers.humans\n",
    "WHERE Key_name = 'human_names';"
   ]
  },
  {
   "cell_type": "code",
   "execution_count": 48,
   "metadata": {},
   "outputs": [
    {
     "data": {
      "text/html": [
       "<html><body><table border=\"1\"><tr><th style=\"text-align:left;white-space:pre\">id</th><th style=\"text-align:left;white-space:pre\">select_type</th><th style=\"text-align:left;white-space:pre\">table</th><th style=\"text-align:left;white-space:pre\">type</th><th style=\"text-align:left;white-space:pre\">possible_keys</th><th style=\"text-align:left;white-space:pre\">key</th><th style=\"text-align:left;white-space:pre\">key_len</th><th style=\"text-align:left;white-space:pre\">ref</th><th style=\"text-align:left;white-space:pre\">rows</th><th style=\"text-align:left;white-space:pre\">Extra</th></tr><tr><td style=\"text-align:left;white-space:pre\">1</td><td style=\"text-align:left;white-space:pre\">SIMPLE</td><td style=\"text-align:left;white-space:pre\">humans</td><td style=\"text-align:left;white-space:pre\">ref</td><td style=\"text-align:left;white-space:pre\">human_names</td><td style=\"text-align:left;white-space:pre\">human_names</td><td style=\"text-align:left;white-space:pre\">103</td><td style=\"text-align:left;white-space:pre\">const</td><td style=\"text-align:left;white-space:pre\">1</td><td style=\"text-align:left;white-space:pre\">Using index condition</td></tr></table></body></html>"
      ]
     },
     "metadata": {},
     "output_type": "display_data"
    }
   ],
   "source": [
    "EXPLAIN SELECT * FROM birdwatchers.humans\n",
    "WHERE name_last = 'Hollar';"
   ]
  },
  {
   "cell_type": "code",
   "execution_count": 49,
   "metadata": {},
   "outputs": [
    {
     "data": {
      "text/html": [
       "Query OK"
      ]
     },
     "metadata": {},
     "output_type": "display_data"
    }
   ],
   "source": [
    "ALTER TABLE conservation_status\n",
    "DROP PRIMARY KEY,\n",
    "CHANGE status_id conservation_status_id INT PRIMARY KEY AUTO_INCREMENT;"
   ]
  },
  {
   "cell_type": "markdown",
   "metadata": {},
   "source": [
    "# Part III. Basics of Handling Data"
   ]
  },
  {
   "cell_type": "markdown",
   "metadata": {},
   "source": [
    "# Chapter 6. Inserting Data"
   ]
  },
  {
   "cell_type": "markdown",
   "metadata": {},
   "source": [
    "## The Syntax"
   ]
  },
  {
   "cell_type": "code",
   "execution_count": null,
   "metadata": {},
   "outputs": [],
   "source": [
    "INSERT INTO books\n",
    "VALUES('The Big Sleep', 'Raymond Chandler', '1934');"
   ]
  },
  {
   "cell_type": "code",
   "execution_count": null,
   "metadata": {},
   "outputs": [],
   "source": [
    "INSERT INTO books\n",
    "VALUES('The Thirty-Nine Steps', 'John Buchan', DEFAULT);"
   ]
  },
  {
   "cell_type": "code",
   "execution_count": null,
   "metadata": {},
   "outputs": [],
   "source": [
    "INSERT INTO books\n",
    "(author, title)\n",
    "VALUES('Evelyn Waugh','Brideshead Revisited');"
   ]
  },
  {
   "cell_type": "code",
   "execution_count": null,
   "metadata": {},
   "outputs": [],
   "source": [
    "INSERT INTO books\n",
    "(title, author, year)\n",
    "VALUES('Visitation of Spirits','Randall Kenan','1989'),\n",
    "('Heart of Darkness','Joseph Conrad','1902'),\n",
    "('The Idiot','Fyodor Dostoevsky','1871');"
   ]
  },
  {
   "cell_type": "markdown",
   "metadata": {},
   "source": [
    "## Practical Examples"
   ]
  },
  {
   "cell_type": "code",
   "execution_count": 56,
   "metadata": {},
   "outputs": [
    {
     "data": {
      "text/html": [
       "Query OK"
      ]
     },
     "metadata": {},
     "output_type": "display_data"
    }
   ],
   "source": [
    "use rookery;"
   ]
  },
  {
   "cell_type": "code",
   "execution_count": 57,
   "metadata": {},
   "outputs": [
    {
     "data": {
      "text/html": [
       "<html><body><table border=\"1\"><tr><th style=\"text-align:left;white-space:pre\">Field</th><th style=\"text-align:left;white-space:pre\">Type</th><th style=\"text-align:left;white-space:pre\">Null</th><th style=\"text-align:left;white-space:pre\">Key</th><th style=\"text-align:left;white-space:pre\">Default</th><th style=\"text-align:left;white-space:pre\">Extra</th></tr><tr><td style=\"text-align:left;white-space:pre\">order_id</td><td style=\"text-align:left;white-space:pre\">int(11)</td><td style=\"text-align:left;white-space:pre\">NO</td><td style=\"text-align:left;white-space:pre\">PRI</td><td style=\"text-align:left;white-space:pre\">NULL</td><td style=\"text-align:left;white-space:pre\">auto_increment</td></tr><tr><td style=\"text-align:left;white-space:pre\">scientific_name</td><td style=\"text-align:left;white-space:pre\">varchar(255)</td><td style=\"text-align:left;white-space:pre\">YES</td><td style=\"text-align:left;white-space:pre\">UNI</td><td style=\"text-align:left;white-space:pre\">NULL</td><td style=\"text-align:left;white-space:pre\"></td></tr><tr><td style=\"text-align:left;white-space:pre\">brief_description</td><td style=\"text-align:left;white-space:pre\">varchar(255)</td><td style=\"text-align:left;white-space:pre\">YES</td><td style=\"text-align:left;white-space:pre\"></td><td style=\"text-align:left;white-space:pre\">NULL</td><td style=\"text-align:left;white-space:pre\"></td></tr><tr><td style=\"text-align:left;white-space:pre\">order_image</td><td style=\"text-align:left;white-space:pre\">blob</td><td style=\"text-align:left;white-space:pre\">YES</td><td style=\"text-align:left;white-space:pre\"></td><td style=\"text-align:left;white-space:pre\">NULL</td><td style=\"text-align:left;white-space:pre\"></td></tr></table></body></html>"
      ]
     },
     "metadata": {},
     "output_type": "display_data"
    }
   ],
   "source": [
    "DESCRIBE bird_orders;"
   ]
  },
  {
   "cell_type": "code",
   "execution_count": 58,
   "metadata": {},
   "outputs": [
    {
     "data": {
      "text/html": [
       "Query OK"
      ]
     },
     "metadata": {},
     "output_type": "display_data"
    }
   ],
   "source": [
    "ALTER TABLE bird_orders\n",
    "AUTO_INCREMENT = 100;"
   ]
  },
  {
   "cell_type": "code",
   "execution_count": 59,
   "metadata": {},
   "outputs": [
    {
     "data": {
      "text/html": [
       "Query OK"
      ]
     },
     "metadata": {},
     "output_type": "display_data"
    }
   ],
   "source": [
    "INSERT INTO bird_orders (scientific_name, brief_description)\n",
    "VALUES('Anseriformes', \"Waterfowl\"),\n",
    "('Galliformes', \"Fowl\"),\n",
    "('Charadriiformes', \"Gulls, Button Quails, Plovers\"),\n",
    "('Gaviiformes', \"Loons\"),\n",
    "('Podicipediformes', \"Grebes\"),\n",
    "('Procellariiformes', \"Albatrosses, Petrels\"),\n",
    "('Sphenisciformes', \"Penguins\"),\n",
    "('Pelecaniformes', \"Pelicans\"),\n",
    "('Phaethontiformes', \"Tropicbirds\"),\n",
    "('Ciconiiformes', \"Storks\"),\n",
    "('Cathartiformes', \"New-World Vultures\"),\n",
    "('Phoenicopteriformes', \"Flamingos\"),\n",
    "('Falconiformes', \"Falcons, Eagles, Hawks\"),\n",
    "('Gruiformes', \"Cranes\"),\n",
    "('Pteroclidiformes', \"Sandgrouse\"),\n",
    "('Columbiformes', \"Doves and Pigeons\"),\n",
    "('Psittaciformes', \"Parrots\"),\n",
    "('Cuculiformes', \"Cuckoos and Turacos\"),\n",
    "('Opisthocomiformes', \"Hoatzin\"),\n",
    "('Strigiformes', \"Owls\"),\n",
    "('Struthioniformes', \"Ostriches, Emus, Kiwis\"),\n",
    "('Tinamiformes', \"Tinamous\"),\n",
    "('Caprimulgiformes', \"Nightjars\"),\n",
    "('Apodiformes', \"Swifts and Hummingbirds\"),\n",
    "('Coraciiformes', \"Kingfishers\"),\n",
    "('Piciformes', \"Woodpeckers\"),\n",
    "('Trogoniformes', \"Trogons\"),\n",
    "('Coliiformes', \"Mousebirds\"),\n",
    "('Passeriformes', \"Passerines\");"
   ]
  },
  {
   "cell_type": "markdown",
   "metadata": {},
   "source": [
    "## The Table for Bird Families"
   ]
  },
  {
   "cell_type": "code",
   "execution_count": 60,
   "metadata": {},
   "outputs": [
    {
     "data": {
      "text/html": [
       "<html><body><table border=\"1\"><tr><th style=\"text-align:left;white-space:pre\">Field</th><th style=\"text-align:left;white-space:pre\">Type</th><th style=\"text-align:left;white-space:pre\">Null</th><th style=\"text-align:left;white-space:pre\">Key</th><th style=\"text-align:left;white-space:pre\">Default</th><th style=\"text-align:left;white-space:pre\">Extra</th></tr><tr><td style=\"text-align:left;white-space:pre\">family_id</td><td style=\"text-align:left;white-space:pre\">int(11)</td><td style=\"text-align:left;white-space:pre\">NO</td><td style=\"text-align:left;white-space:pre\">PRI</td><td style=\"text-align:left;white-space:pre\">NULL</td><td style=\"text-align:left;white-space:pre\">auto_increment</td></tr><tr><td style=\"text-align:left;white-space:pre\">scientific_name</td><td style=\"text-align:left;white-space:pre\">varchar(50)</td><td style=\"text-align:left;white-space:pre\">YES</td><td style=\"text-align:left;white-space:pre\">UNI</td><td style=\"text-align:left;white-space:pre\">NULL</td><td style=\"text-align:left;white-space:pre\"></td></tr><tr><td style=\"text-align:left;white-space:pre\">brief_description</td><td style=\"text-align:left;white-space:pre\">varchar(255)</td><td style=\"text-align:left;white-space:pre\">YES</td><td style=\"text-align:left;white-space:pre\"></td><td style=\"text-align:left;white-space:pre\">NULL</td><td style=\"text-align:left;white-space:pre\"></td></tr><tr><td style=\"text-align:left;white-space:pre\">order_id</td><td style=\"text-align:left;white-space:pre\">int(11)</td><td style=\"text-align:left;white-space:pre\">YES</td><td style=\"text-align:left;white-space:pre\"></td><td style=\"text-align:left;white-space:pre\">NULL</td><td style=\"text-align:left;white-space:pre\"></td></tr></table></body></html>"
      ]
     },
     "metadata": {},
     "output_type": "display_data"
    }
   ],
   "source": [
    "DESCRIBE bird_families;"
   ]
  },
  {
   "cell_type": "code",
   "execution_count": 61,
   "metadata": {},
   "outputs": [
    {
     "data": {
      "text/html": [
       "<html><body><table border=\"1\"><tr><th style=\"text-align:left;white-space:pre\">order_id</th></tr><tr><td style=\"text-align:left;white-space:pre\">103</td></tr></table></body></html>"
      ]
     },
     "metadata": {},
     "output_type": "display_data"
    }
   ],
   "source": [
    "SELECT order_id FROM bird_orders\n",
    "WHERE scientific_name = 'Gaviiformes';"
   ]
  },
  {
   "cell_type": "code",
   "execution_count": 62,
   "metadata": {},
   "outputs": [
    {
     "data": {
      "text/html": [
       "Query OK"
      ]
     },
     "metadata": {},
     "output_type": "display_data"
    }
   ],
   "source": [
    "INSERT INTO bird_families\n",
    "VALUES(100, 'Gaviidae',\n",
    "\"Loons or divers are aquatic birds found mainly in the Northern Hemisphere.\",\n",
    "103);"
   ]
  },
  {
   "cell_type": "code",
   "execution_count": 63,
   "metadata": {},
   "outputs": [
    {
     "name": "stderr",
     "output_type": "stream",
     "text": [
      "Incorrect integer value: 'Anatidae' for column `rookery`.`bird_families`.`family_id` at row 1\n",
      "\u0007\u001b(B\u001b[0;7m\u001b(B\u001b[m\n"
     ]
    }
   ],
   "source": [
    "INSERT INTO bird_families\n",
    "VALUES('Anatidae', \"This family includes ducks, geese and swans.\", NULL, 103);"
   ]
  },
  {
   "cell_type": "code",
   "execution_count": 64,
   "metadata": {},
   "outputs": [
    {
     "data": {
      "text/html": [
       "<html><body><table border=\"1\"><tr><th style=\"text-align:left;white-space:pre\">family_id</th><th style=\"text-align:left;white-space:pre\">scientific_name</th><th style=\"text-align:left;white-space:pre\">brief_description</th><th style=\"text-align:left;white-space:pre\">order_id</th></tr><tr><td style=\"text-align:left;white-space:pre\">100</td><td style=\"text-align:left;white-space:pre\">Gaviidae</td><td style=\"text-align:left;white-space:pre\">Loons or divers are aquatic birds found mainly in the Northern Hemisphere.</td><td style=\"text-align:left;white-space:pre\">103</td></tr></table></body></html>"
      ]
     },
     "metadata": {},
     "output_type": "display_data"
    }
   ],
   "source": [
    "SELECT * FROM bird_families;"
   ]
  },
  {
   "cell_type": "code",
   "execution_count": 65,
   "metadata": {},
   "outputs": [
    {
     "data": {
      "text/html": [
       "Query OK"
      ]
     },
     "metadata": {},
     "output_type": "display_data"
    }
   ],
   "source": [
    "DELETE FROM bird_families\n",
    "WHERE family_id = 101;"
   ]
  },
  {
   "cell_type": "code",
   "execution_count": 66,
   "metadata": {},
   "outputs": [
    {
     "data": {
      "text/html": [
       "Query OK"
      ]
     },
     "metadata": {},
     "output_type": "display_data"
    }
   ],
   "source": [
    "INSERT INTO bird_families\n",
    "(scientific_name, order_id, brief_description)\n",
    "VALUES('Anatidae', 103, \"This family includes ducks, geese and swans.\");"
   ]
  },
  {
   "cell_type": "code",
   "execution_count": 67,
   "metadata": {},
   "outputs": [
    {
     "data": {
      "text/html": [
       "<html><body><table border=\"1\"><tr><th style=\"text-align:left;white-space:pre\">family_id</th><th style=\"text-align:left;white-space:pre\">scientific_name</th><th style=\"text-align:left;white-space:pre\">brief_description</th><th style=\"text-align:left;white-space:pre\">order_id</th></tr><tr><td style=\"text-align:left;white-space:pre\">100</td><td style=\"text-align:left;white-space:pre\">Gaviidae</td><td style=\"text-align:left;white-space:pre\">Loons or divers are aquatic birds found mainly in the Northern Hemisphere.</td><td style=\"text-align:left;white-space:pre\">103</td></tr><tr><td style=\"text-align:left;white-space:pre\">101</td><td style=\"text-align:left;white-space:pre\">Anatidae</td><td style=\"text-align:left;white-space:pre\">This family includes ducks, geese and swans.</td><td style=\"text-align:left;white-space:pre\">103</td></tr></table></body></html>"
      ]
     },
     "metadata": {},
     "output_type": "display_data"
    }
   ],
   "source": [
    "SELECT * FROM bird_families;"
   ]
  },
  {
   "cell_type": "code",
   "execution_count": 68,
   "metadata": {},
   "outputs": [
    {
     "data": {
      "text/html": [
       "<html><body><table border=\"1\"><tr><th style=\"text-align:left;white-space:pre\">order_id</th><th style=\"text-align:left;white-space:pre\">scientific_name</th></tr><tr><td style=\"text-align:left;white-space:pre\">100</td><td style=\"text-align:left;white-space:pre\">Anseriformes</td></tr><tr><td style=\"text-align:left;white-space:pre\">123</td><td style=\"text-align:left;white-space:pre\">Apodiformes</td></tr><tr><td style=\"text-align:left;white-space:pre\">122</td><td style=\"text-align:left;white-space:pre\">Caprimulgiformes</td></tr><tr><td style=\"text-align:left;white-space:pre\">110</td><td style=\"text-align:left;white-space:pre\">Cathartiformes</td></tr><tr><td style=\"text-align:left;white-space:pre\">102</td><td style=\"text-align:left;white-space:pre\">Charadriiformes</td></tr><tr><td style=\"text-align:left;white-space:pre\">109</td><td style=\"text-align:left;white-space:pre\">Ciconiiformes</td></tr><tr><td style=\"text-align:left;white-space:pre\">127</td><td style=\"text-align:left;white-space:pre\">Coliiformes</td></tr><tr><td style=\"text-align:left;white-space:pre\">115</td><td style=\"text-align:left;white-space:pre\">Columbiformes</td></tr><tr><td style=\"text-align:left;white-space:pre\">124</td><td style=\"text-align:left;white-space:pre\">Coraciiformes</td></tr><tr><td style=\"text-align:left;white-space:pre\">117</td><td style=\"text-align:left;white-space:pre\">Cuculiformes</td></tr><tr><td style=\"text-align:left;white-space:pre\">112</td><td style=\"text-align:left;white-space:pre\">Falconiformes</td></tr><tr><td style=\"text-align:left;white-space:pre\">101</td><td style=\"text-align:left;white-space:pre\">Galliformes</td></tr><tr><td style=\"text-align:left;white-space:pre\">103</td><td style=\"text-align:left;white-space:pre\">Gaviiformes</td></tr><tr><td style=\"text-align:left;white-space:pre\">113</td><td style=\"text-align:left;white-space:pre\">Gruiformes</td></tr><tr><td style=\"text-align:left;white-space:pre\">118</td><td style=\"text-align:left;white-space:pre\">Opisthocomiformes</td></tr><tr><td style=\"text-align:left;white-space:pre\">128</td><td style=\"text-align:left;white-space:pre\">Passeriformes</td></tr><tr><td style=\"text-align:left;white-space:pre\">107</td><td style=\"text-align:left;white-space:pre\">Pelecaniformes</td></tr><tr><td style=\"text-align:left;white-space:pre\">108</td><td style=\"text-align:left;white-space:pre\">Phaethontiformes</td></tr><tr><td style=\"text-align:left;white-space:pre\">111</td><td style=\"text-align:left;white-space:pre\">Phoenicopteriformes</td></tr><tr><td style=\"text-align:left;white-space:pre\">125</td><td style=\"text-align:left;white-space:pre\">Piciformes</td></tr><tr><td style=\"text-align:left;white-space:pre\">104</td><td style=\"text-align:left;white-space:pre\">Podicipediformes</td></tr><tr><td style=\"text-align:left;white-space:pre\">105</td><td style=\"text-align:left;white-space:pre\">Procellariiformes</td></tr><tr><td style=\"text-align:left;white-space:pre\">116</td><td style=\"text-align:left;white-space:pre\">Psittaciformes</td></tr><tr><td style=\"text-align:left;white-space:pre\">114</td><td style=\"text-align:left;white-space:pre\">Pteroclidiformes</td></tr><tr><td style=\"text-align:left;white-space:pre\">106</td><td style=\"text-align:left;white-space:pre\">Sphenisciformes</td></tr><tr><td style=\"text-align:left;white-space:pre\">119</td><td style=\"text-align:left;white-space:pre\">Strigiformes</td></tr><tr><td style=\"text-align:left;white-space:pre\">120</td><td style=\"text-align:left;white-space:pre\">Struthioniformes</td></tr><tr><td style=\"text-align:left;white-space:pre\">121</td><td style=\"text-align:left;white-space:pre\">Tinamiformes</td></tr><tr><td style=\"text-align:left;white-space:pre\">126</td><td style=\"text-align:left;white-space:pre\">Trogoniformes</td></tr></table></body></html>"
      ]
     },
     "metadata": {},
     "output_type": "display_data"
    }
   ],
   "source": [
    "SELECT order_id, scientific_name FROM bird_orders;"
   ]
  },
  {
   "cell_type": "code",
   "execution_count": 69,
   "metadata": {},
   "outputs": [
    {
     "data": {
      "text/html": [
       "Query OK"
      ]
     },
     "metadata": {},
     "output_type": "display_data"
    }
   ],
   "source": [
    "INSERT INTO bird_families\n",
    "(scientific_name, order_id)\n",
    "VALUES('Charadriidae', 109),\n",
    "('Laridae', 102),\n",
    "('Sternidae', 102),\n",
    "('Caprimulgidae', 122),\n",
    "('Sittidae', 128),\n",
    "('Picidae', 125),\n",
    "('Accipitridae', 112),\n",
    "('Tyrannidae', 128),\n",
    "('Formicariidae', 128),\n",
    "('Laniidae', 128);"
   ]
  },
  {
   "cell_type": "code",
   "execution_count": 70,
   "metadata": {},
   "outputs": [
    {
     "data": {
      "text/html": [
       "<html><body><table border=\"1\"><tr><th style=\"text-align:left;white-space:pre\">family_id</th><th style=\"text-align:left;white-space:pre\">scientific_name</th></tr><tr><td style=\"text-align:left;white-space:pre\">108</td><td style=\"text-align:left;white-space:pre\">Accipitridae</td></tr><tr><td style=\"text-align:left;white-space:pre\">101</td><td style=\"text-align:left;white-space:pre\">Anatidae</td></tr><tr><td style=\"text-align:left;white-space:pre\">105</td><td style=\"text-align:left;white-space:pre\">Caprimulgidae</td></tr><tr><td style=\"text-align:left;white-space:pre\">102</td><td style=\"text-align:left;white-space:pre\">Charadriidae</td></tr><tr><td style=\"text-align:left;white-space:pre\">110</td><td style=\"text-align:left;white-space:pre\">Formicariidae</td></tr><tr><td style=\"text-align:left;white-space:pre\">100</td><td style=\"text-align:left;white-space:pre\">Gaviidae</td></tr><tr><td style=\"text-align:left;white-space:pre\">111</td><td style=\"text-align:left;white-space:pre\">Laniidae</td></tr><tr><td style=\"text-align:left;white-space:pre\">103</td><td style=\"text-align:left;white-space:pre\">Laridae</td></tr><tr><td style=\"text-align:left;white-space:pre\">107</td><td style=\"text-align:left;white-space:pre\">Picidae</td></tr><tr><td style=\"text-align:left;white-space:pre\">106</td><td style=\"text-align:left;white-space:pre\">Sittidae</td></tr><tr><td style=\"text-align:left;white-space:pre\">104</td><td style=\"text-align:left;white-space:pre\">Sternidae</td></tr><tr><td style=\"text-align:left;white-space:pre\">109</td><td style=\"text-align:left;white-space:pre\">Tyrannidae</td></tr></table></body></html>"
      ]
     },
     "metadata": {},
     "output_type": "display_data"
    }
   ],
   "source": [
    "SELECT family_id, scientific_name\n",
    "FROM bird_families\n",
    "ORDER BY scientific_name;"
   ]
  },
  {
   "cell_type": "code",
   "execution_count": 71,
   "metadata": {},
   "outputs": [
    {
     "data": {
      "text/html": [
       "<html><body><table border=\"1\"><tr><th style=\"text-align:left;white-space:pre\">Field</th><th style=\"text-align:left;white-space:pre\">Type</th><th style=\"text-align:left;white-space:pre\">Null</th><th style=\"text-align:left;white-space:pre\">Key</th><th style=\"text-align:left;white-space:pre\">Default</th><th style=\"text-align:left;white-space:pre\">Extra</th></tr><tr><td style=\"text-align:left;white-space:pre\">bird_id</td><td style=\"text-align:left;white-space:pre\">int(11)</td><td style=\"text-align:left;white-space:pre\">NO</td><td style=\"text-align:left;white-space:pre\">PRI</td><td style=\"text-align:left;white-space:pre\">NULL</td><td style=\"text-align:left;white-space:pre\">auto_increment</td></tr><tr><td style=\"text-align:left;white-space:pre\">scientific_name</td><td style=\"text-align:left;white-space:pre\">varchar(255)</td><td style=\"text-align:left;white-space:pre\">YES</td><td style=\"text-align:left;white-space:pre\">UNI</td><td style=\"text-align:left;white-space:pre\">NULL</td><td style=\"text-align:left;white-space:pre\"></td></tr><tr><td style=\"text-align:left;white-space:pre\">common_name</td><td style=\"text-align:left;white-space:pre\">varchar(255)</td><td style=\"text-align:left;white-space:pre\">YES</td><td style=\"text-align:left;white-space:pre\"></td><td style=\"text-align:left;white-space:pre\">NULL</td><td style=\"text-align:left;white-space:pre\"></td></tr><tr><td style=\"text-align:left;white-space:pre\">famyly_id</td><td style=\"text-align:left;white-space:pre\">int(11)</td><td style=\"text-align:left;white-space:pre\">YES</td><td style=\"text-align:left;white-space:pre\"></td><td style=\"text-align:left;white-space:pre\">NULL</td><td style=\"text-align:left;white-space:pre\"></td></tr><tr><td style=\"text-align:left;white-space:pre\">conservation_status_id</td><td style=\"text-align:left;white-space:pre\">int(11)</td><td style=\"text-align:left;white-space:pre\">YES</td><td style=\"text-align:left;white-space:pre\"></td><td style=\"text-align:left;white-space:pre\">NULL</td><td style=\"text-align:left;white-space:pre\"></td></tr><tr><td style=\"text-align:left;white-space:pre\">wing_id</td><td style=\"text-align:left;white-space:pre\">char(2)</td><td style=\"text-align:left;white-space:pre\">YES</td><td style=\"text-align:left;white-space:pre\"></td><td style=\"text-align:left;white-space:pre\">NULL</td><td style=\"text-align:left;white-space:pre\"></td></tr><tr><td style=\"text-align:left;white-space:pre\">body_id</td><td style=\"text-align:left;white-space:pre\">char(2)</td><td style=\"text-align:left;white-space:pre\">YES</td><td style=\"text-align:left;white-space:pre\"></td><td style=\"text-align:left;white-space:pre\">NULL</td><td style=\"text-align:left;white-space:pre\"></td></tr><tr><td style=\"text-align:left;white-space:pre\">bill_id</td><td style=\"text-align:left;white-space:pre\">char(2)</td><td style=\"text-align:left;white-space:pre\">YES</td><td style=\"text-align:left;white-space:pre\"></td><td style=\"text-align:left;white-space:pre\">NULL</td><td style=\"text-align:left;white-space:pre\"></td></tr><tr><td style=\"text-align:left;white-space:pre\">description</td><td style=\"text-align:left;white-space:pre\">text</td><td style=\"text-align:left;white-space:pre\">YES</td><td style=\"text-align:left;white-space:pre\"></td><td style=\"text-align:left;white-space:pre\">NULL</td><td style=\"text-align:left;white-space:pre\"></td></tr></table></body></html>"
      ]
     },
     "metadata": {},
     "output_type": "display_data"
    }
   ],
   "source": [
    "SHOW COLUMNS FROM birds;"
   ]
  },
  {
   "cell_type": "code",
   "execution_count": 72,
   "metadata": {},
   "outputs": [
    {
     "data": {
      "text/html": [
       "<html><body><table border=\"1\"><tr><th style=\"text-align:left;white-space:pre\">Field</th><th style=\"text-align:left;white-space:pre\">Type</th><th style=\"text-align:left;white-space:pre\">Null</th><th style=\"text-align:left;white-space:pre\">Key</th><th style=\"text-align:left;white-space:pre\">Default</th><th style=\"text-align:left;white-space:pre\">Extra</th></tr><tr><td style=\"text-align:left;white-space:pre\">bird_id</td><td style=\"text-align:left;white-space:pre\">int(11)</td><td style=\"text-align:left;white-space:pre\">NO</td><td style=\"text-align:left;white-space:pre\">PRI</td><td style=\"text-align:left;white-space:pre\">NULL</td><td style=\"text-align:left;white-space:pre\">auto_increment</td></tr><tr><td style=\"text-align:left;white-space:pre\">famyly_id</td><td style=\"text-align:left;white-space:pre\">int(11)</td><td style=\"text-align:left;white-space:pre\">YES</td><td style=\"text-align:left;white-space:pre\"></td><td style=\"text-align:left;white-space:pre\">NULL</td><td style=\"text-align:left;white-space:pre\"></td></tr><tr><td style=\"text-align:left;white-space:pre\">conservation_status_id</td><td style=\"text-align:left;white-space:pre\">int(11)</td><td style=\"text-align:left;white-space:pre\">YES</td><td style=\"text-align:left;white-space:pre\"></td><td style=\"text-align:left;white-space:pre\">NULL</td><td style=\"text-align:left;white-space:pre\"></td></tr><tr><td style=\"text-align:left;white-space:pre\">wing_id</td><td style=\"text-align:left;white-space:pre\">char(2)</td><td style=\"text-align:left;white-space:pre\">YES</td><td style=\"text-align:left;white-space:pre\"></td><td style=\"text-align:left;white-space:pre\">NULL</td><td style=\"text-align:left;white-space:pre\"></td></tr><tr><td style=\"text-align:left;white-space:pre\">body_id</td><td style=\"text-align:left;white-space:pre\">char(2)</td><td style=\"text-align:left;white-space:pre\">YES</td><td style=\"text-align:left;white-space:pre\"></td><td style=\"text-align:left;white-space:pre\">NULL</td><td style=\"text-align:left;white-space:pre\"></td></tr><tr><td style=\"text-align:left;white-space:pre\">bill_id</td><td style=\"text-align:left;white-space:pre\">char(2)</td><td style=\"text-align:left;white-space:pre\">YES</td><td style=\"text-align:left;white-space:pre\"></td><td style=\"text-align:left;white-space:pre\">NULL</td><td style=\"text-align:left;white-space:pre\"></td></tr></table></body></html>"
      ]
     },
     "metadata": {},
     "output_type": "display_data"
    }
   ],
   "source": [
    "SHOW COLUMNS FROM birds LIKE '%id';"
   ]
  },
  {
   "cell_type": "markdown",
   "metadata": {},
   "source": [
    "## The Table for Birds"
   ]
  },
  {
   "cell_type": "code",
   "execution_count": 75,
   "metadata": {},
   "outputs": [
    {
     "name": "stderr",
     "output_type": "stream",
     "text": [
      "Field 'conservation_status_id' doesn't have a default value\n",
      "\u0007\u001b(B\u001b[0;7m\u001b(B\u001b[m\n"
     ]
    }
   ],
   "source": [
    "INSERT INTO birds\n",
    "(common_name, scientific_name, famyly_id)\n",
    "VALUES('Mountain Plover', 'Charadrius montanus', 103);"
   ]
  },
  {
   "cell_type": "code",
   "execution_count": 76,
   "metadata": {},
   "outputs": [
    {
     "name": "stderr",
     "output_type": "stream",
     "text": [
      "Field 'conservation_status_id' doesn't have a default value\n",
      "\u0007\u001b(B\u001b[0;7m\u001b(B\u001b[m\n"
     ]
    }
   ],
   "source": [
    "INSERT INTO birds\n",
    "(common_name, scientific_name, famyly_id)\n",
    "VALUES('Snowy Plover', 'Charadrius alexandrinus', 103),\n",
    "('Black-bellied Plover', 'Pluvialis squatarola', 103),\n",
    "('Pacific Golden Plover', 'Pluvialis fulva', 103);"
   ]
  },
  {
   "cell_type": "code",
   "execution_count": 79,
   "metadata": {},
   "outputs": [
    {
     "data": {
      "text/html": [
       "Query OK"
      ]
     },
     "metadata": {},
     "output_type": "display_data"
    }
   ],
   "source": [
    "SELECT common_name AS 'Bird',\n",
    "birds.scientific_name AS 'Scientific Name',\n",
    "bird_families.scientific_name AS 'Family',\n",
    "bird_orders.scientific_name AS 'Order'\n",
    "FROM birds,\n",
    "bird_families,\n",
    "bird_orders\n",
    "WHERE birds.famyly_id = bird_families.family_id\n",
    "AND bird_families.order_id = bird_orders.order_id;"
   ]
  },
  {
   "cell_type": "markdown",
   "metadata": {},
   "source": [
    "## Other posibilities"
   ]
  },
  {
   "cell_type": "code",
   "execution_count": 2,
   "metadata": {},
   "outputs": [
    {
     "data": {
      "text/html": [
       "Query OK"
      ]
     },
     "metadata": {},
     "output_type": "display_data"
    }
   ],
   "source": [
    "use rookery;"
   ]
  },
  {
   "cell_type": "code",
   "execution_count": 3,
   "metadata": {},
   "outputs": [
    {
     "data": {
      "text/html": [
       "Query OK"
      ]
     },
     "metadata": {},
     "output_type": "display_data"
    }
   ],
   "source": [
    "INSERT INTO bird_families\n",
    "SET scientific_name = 'Rallidae',\n",
    "order_id = 113;"
   ]
  },
  {
   "cell_type": "markdown",
   "metadata": {},
   "source": [
    "## Replacing data"
   ]
  },
  {
   "cell_type": "code",
   "execution_count": 7,
   "metadata": {},
   "outputs": [
    {
     "data": {
      "text/html": [
       "Query OK"
      ]
     },
     "metadata": {},
     "output_type": "display_data"
    }
   ],
   "source": [
    "REPLACE INTO bird_families\n",
    "(scientific_name, brief_description, order_id)\n",
    "VALUES('Viduidae', 'Indigobirds & Whydahs', 128),\n",
    "('Estrildidae', 'Waxbills, Weaver Finches, & Allies', 128),\n",
    "('Ploceidae', 'Weavers, Malimbe, & Bishops', 128);\n"
   ]
  },
  {
   "cell_type": "code",
   "execution_count": 10,
   "metadata": {},
   "outputs": [
    {
     "data": {
      "text/html": [
       "<html><body><table border=\"1\"><tr><th style=\"text-align:left;white-space:pre\">family_id</th><th style=\"text-align:left;white-space:pre\">scientific_name</th><th style=\"text-align:left;white-space:pre\">brief_description</th><th style=\"text-align:left;white-space:pre\">order_id</th></tr><tr><td style=\"text-align:left;white-space:pre\">116</td><td style=\"text-align:left;white-space:pre\">Viduidae</td><td style=\"text-align:left;white-space:pre\">Indigobirds &amp; Whydahs</td><td style=\"text-align:left;white-space:pre\">128</td></tr></table></body></html>"
      ]
     },
     "metadata": {},
     "output_type": "display_data"
    }
   ],
   "source": [
    "SELECT * FROM bird_families\n",
    "WHERE scientific_name = 'Viduidae';"
   ]
  },
  {
   "cell_type": "markdown",
   "metadata": {},
   "source": [
    "## priorities when inserting data"
   ]
  },
  {
   "cell_type": "code",
   "execution_count": 12,
   "metadata": {},
   "outputs": [
    {
     "name": "stderr",
     "output_type": "stream",
     "text": [
      "You have an error in your SQL syntax; check the manual that corresponds to your MariaDB server version for the right syntax to use near '' at line 1\n",
      "\u0007\u001b(B\u001b[0;7m\u001b(B\u001b[m\n"
     ]
    }
   ],
   "source": [
    "INSERT LOW_PRIORITY INTO bird_sightings;"
   ]
  },
  {
   "cell_type": "code",
   "execution_count": 13,
   "metadata": {},
   "outputs": [
    {
     "data": {
      "text/html": [
       "<html><body><table border=\"1\"><tr><th style=\"text-align:left;white-space:pre\">Tables_in_rookery</th></tr><tr><td style=\"text-align:left;white-space:pre\">bird_families</td></tr><tr><td style=\"text-align:left;white-space:pre\">bird_orders</td></tr><tr><td style=\"text-align:left;white-space:pre\">birds</td></tr><tr><td style=\"text-align:left;white-space:pre\">birds_details</td></tr><tr><td style=\"text-align:left;white-space:pre\">birds_new</td></tr><tr><td style=\"text-align:left;white-space:pre\">conservation_status</td></tr></table></body></html>"
      ]
     },
     "metadata": {},
     "output_type": "display_data"
    }
   ],
   "source": [
    "show tables;"
   ]
  },
  {
   "cell_type": "markdown",
   "metadata": {},
   "source": [
    "# Chapter 7: Selecting Data"
   ]
  },
  {
   "cell_type": "code",
   "execution_count": 14,
   "metadata": {},
   "outputs": [
    {
     "data": {
      "text/html": [
       "<html><body><table border=\"1\"><tr><th style=\"text-align:left;white-space:pre\">bird_id</th><th style=\"text-align:left;white-space:pre\">scientific_name</th><th style=\"text-align:left;white-space:pre\">common_name</th><th style=\"text-align:left;white-space:pre\">famyly_id</th><th style=\"text-align:left;white-space:pre\">conservation_status_id</th><th style=\"text-align:left;white-space:pre\">wing_id</th><th style=\"text-align:left;white-space:pre\">body_id</th><th style=\"text-align:left;white-space:pre\">bill_id</th><th style=\"text-align:left;white-space:pre\">description</th></tr><tr><td style=\"text-align:left;white-space:pre\">1</td><td style=\"text-align:left;white-space:pre\">Charadrius vociferus</td><td style=\"text-align:left;white-space:pre\">Killdeer</td><td style=\"text-align:left;white-space:pre\">NULL</td><td style=\"text-align:left;white-space:pre\">1</td><td style=\"text-align:left;white-space:pre\">NULL</td><td style=\"text-align:left;white-space:pre\">NULL</td><td style=\"text-align:left;white-space:pre\">NULL</td><td style=\"text-align:left;white-space:pre\">NULL</td></tr><tr><td style=\"text-align:left;white-space:pre\">2</td><td style=\"text-align:left;white-space:pre\">Gavia immer</td><td style=\"text-align:left;white-space:pre\">Great Northern Loon</td><td style=\"text-align:left;white-space:pre\">NULL</td><td style=\"text-align:left;white-space:pre\">1</td><td style=\"text-align:left;white-space:pre\">NULL</td><td style=\"text-align:left;white-space:pre\">NULL</td><td style=\"text-align:left;white-space:pre\">NULL</td><td style=\"text-align:left;white-space:pre\">NULL</td></tr><tr><td style=\"text-align:left;white-space:pre\">3</td><td style=\"text-align:left;white-space:pre\">Aix sponsa</td><td style=\"text-align:left;white-space:pre\">Wood Duck</td><td style=\"text-align:left;white-space:pre\">NULL</td><td style=\"text-align:left;white-space:pre\">7</td><td style=\"text-align:left;white-space:pre\">NULL</td><td style=\"text-align:left;white-space:pre\">NULL</td><td style=\"text-align:left;white-space:pre\">NULL</td><td style=\"text-align:left;white-space:pre\">NULL</td></tr><tr><td style=\"text-align:left;white-space:pre\">4</td><td style=\"text-align:left;white-space:pre\">Chordeiles minor</td><td style=\"text-align:left;white-space:pre\">Common Nighthawk</td><td style=\"text-align:left;white-space:pre\">NULL</td><td style=\"text-align:left;white-space:pre\">7</td><td style=\"text-align:left;white-space:pre\">NULL</td><td style=\"text-align:left;white-space:pre\">NULL</td><td style=\"text-align:left;white-space:pre\">NULL</td><td style=\"text-align:left;white-space:pre\">NULL</td></tr><tr><td style=\"text-align:left;white-space:pre\">5</td><td style=\"text-align:left;white-space:pre\">Sitta carolinensis</td><td style=\"text-align:left;white-space:pre\"> White-breasted Nuthatch</td><td style=\"text-align:left;white-space:pre\">NULL</td><td style=\"text-align:left;white-space:pre\">7</td><td style=\"text-align:left;white-space:pre\">NULL</td><td style=\"text-align:left;white-space:pre\">NULL</td><td style=\"text-align:left;white-space:pre\">NULL</td><td style=\"text-align:left;white-space:pre\">NULL</td></tr><tr><td style=\"text-align:left;white-space:pre\">6</td><td style=\"text-align:left;white-space:pre\">Apteryx mantelli</td><td style=\"text-align:left;white-space:pre\">North Island Brown Kiwi</td><td style=\"text-align:left;white-space:pre\">NULL</td><td style=\"text-align:left;white-space:pre\">7</td><td style=\"text-align:left;white-space:pre\">NULL</td><td style=\"text-align:left;white-space:pre\">NULL</td><td style=\"text-align:left;white-space:pre\">NULL</td><td style=\"text-align:left;white-space:pre\">NULL</td></tr></table></body></html>"
      ]
     },
     "metadata": {},
     "output_type": "display_data"
    }
   ],
   "source": [
    "USE rookery;\n",
    "SELECT * FROM birds;"
   ]
  },
  {
   "cell_type": "code",
   "execution_count": 15,
   "metadata": {},
   "outputs": [
    {
     "data": {
      "text/html": [
       "<html><body><table border=\"1\"><tr><th style=\"text-align:left;white-space:pre\">bird_id</th><th style=\"text-align:left;white-space:pre\">scientific_name</th><th style=\"text-align:left;white-space:pre\">common_name</th></tr><tr><td style=\"text-align:left;white-space:pre\">1</td><td style=\"text-align:left;white-space:pre\">Charadrius vociferus</td><td style=\"text-align:left;white-space:pre\">Killdeer</td></tr><tr><td style=\"text-align:left;white-space:pre\">2</td><td style=\"text-align:left;white-space:pre\">Gavia immer</td><td style=\"text-align:left;white-space:pre\">Great Northern Loon</td></tr><tr><td style=\"text-align:left;white-space:pre\">3</td><td style=\"text-align:left;white-space:pre\">Aix sponsa</td><td style=\"text-align:left;white-space:pre\">Wood Duck</td></tr><tr><td style=\"text-align:left;white-space:pre\">4</td><td style=\"text-align:left;white-space:pre\">Chordeiles minor</td><td style=\"text-align:left;white-space:pre\">Common Nighthawk</td></tr><tr><td style=\"text-align:left;white-space:pre\">5</td><td style=\"text-align:left;white-space:pre\">Sitta carolinensis</td><td style=\"text-align:left;white-space:pre\"> White-breasted Nuthatch</td></tr><tr><td style=\"text-align:left;white-space:pre\">6</td><td style=\"text-align:left;white-space:pre\">Apteryx mantelli</td><td style=\"text-align:left;white-space:pre\">North Island Brown Kiwi</td></tr></table></body></html>"
      ]
     },
     "metadata": {},
     "output_type": "display_data"
    }
   ],
   "source": [
    "SELECT bird_id, scientific_name, common_name\n",
    "FROM birds;"
   ]
  },
  {
   "cell_type": "markdown",
   "metadata": {},
   "source": [
    "## Selecting by a Criteria"
   ]
  },
  {
   "cell_type": "code",
   "execution_count": 17,
   "metadata": {},
   "outputs": [
    {
     "data": {
      "text/html": [
       "Query OK"
      ]
     },
     "metadata": {},
     "output_type": "display_data"
    }
   ],
   "source": [
    "SELECT common_name, scientific_name\n",
    "FROM birds WHERE famyly_id = 103\n",
    "LIMIT 3;"
   ]
  },
  {
   "cell_type": "markdown",
   "metadata": {},
   "source": [
    "## Ordering Results"
   ]
  },
  {
   "cell_type": "code",
   "execution_count": 19,
   "metadata": {},
   "outputs": [
    {
     "data": {
      "text/html": [
       "Query OK"
      ]
     },
     "metadata": {},
     "output_type": "display_data"
    }
   ],
   "source": [
    "SELECT common_name, scientific_name\n",
    "FROM birds WHERE famyly_id = 103\n",
    "ORDER BY common_name\n",
    "LIMIT 3;"
   ]
  },
  {
   "cell_type": "code",
   "execution_count": 20,
   "metadata": {},
   "outputs": [
    {
     "data": {
      "text/html": [
       "<html><body><table border=\"1\"><tr><th style=\"text-align:left;white-space:pre\">family_id</th><th style=\"text-align:left;white-space:pre\">scientific_name</th><th style=\"text-align:left;white-space:pre\">brief_description</th><th style=\"text-align:left;white-space:pre\">order_id</th></tr><tr><td style=\"text-align:left;white-space:pre\">102</td><td style=\"text-align:left;white-space:pre\">Charadriidae</td><td style=\"text-align:left;white-space:pre\">NULL</td><td style=\"text-align:left;white-space:pre\">109</td></tr></table></body></html>"
      ]
     },
     "metadata": {},
     "output_type": "display_data"
    }
   ],
   "source": [
    "SELECT * FROM bird_families\n",
    "WHERE scientific_name\n",
    "IN('Charadriidae','Haematopodidae','Recurvirostridae','Scolopacidae');"
   ]
  },
  {
   "cell_type": "code",
   "execution_count": 23,
   "metadata": {},
   "outputs": [
    {
     "data": {
      "text/html": [
       "Query OK"
      ]
     },
     "metadata": {},
     "output_type": "display_data"
    }
   ],
   "source": [
    "SELECT common_name, scientific_name, famyly_id\n",
    "FROM birds\n",
    "WHERE famyly_id IN(103, 160, 162, 164)\n",
    "ORDER BY common_name\n",
    "LIMIT 3;"
   ]
  },
  {
   "cell_type": "code",
   "execution_count": 24,
   "metadata": {},
   "outputs": [
    {
     "data": {
      "text/html": [
       "Query OK"
      ]
     },
     "metadata": {},
     "output_type": "display_data"
    }
   ],
   "source": [
    "SELECT common_name, scientific_name, famyly_id\n",
    "FROM birds\n",
    "WHERE famyly_id IN(103, 160, 162, 164)\n",
    "AND common_name != ''\n",
    "ORDER BY common_name\n",
    "LIMIT 3;"
   ]
  },
  {
   "cell_type": "markdown",
   "metadata": {},
   "source": [
    "## Limiting Results"
   ]
  },
  {
   "cell_type": "code",
   "execution_count": 25,
   "metadata": {},
   "outputs": [
    {
     "data": {
      "text/html": [
       "Query OK"
      ]
     },
     "metadata": {},
     "output_type": "display_data"
    }
   ],
   "source": [
    "SELECT common_name, scientific_name, famyly_id\n",
    "FROM birds\n",
    "WHERE famyly_id IN(103, 160, 162, 164)\n",
    "AND common_name != ''\n",
    "ORDER BY common_name\n",
    "LIMIT 3, 2;"
   ]
  },
  {
   "cell_type": "markdown",
   "metadata": {},
   "source": [
    "## Combining Tables"
   ]
  },
  {
   "cell_type": "code",
   "execution_count": 30,
   "metadata": {},
   "outputs": [
    {
     "data": {
      "text/html": [
       "Query OK"
      ]
     },
     "metadata": {},
     "output_type": "display_data"
    }
   ],
   "source": [
    "SELECT common_name AS 'Bird',\n",
    "bird_families.scientific_name AS 'Family'\n",
    "FROM birds, bird_families\n",
    "WHERE birds.famyly_id = bird_families.family_id\n",
    "AND order_id = 102\n",
    "AND common_name != ''\n",
    "ORDER BY common_name LIMIT 10;"
   ]
  },
  {
   "cell_type": "code",
   "execution_count": 33,
   "metadata": {},
   "outputs": [
    {
     "data": {
      "text/html": [
       "Query OK"
      ]
     },
     "metadata": {},
     "output_type": "display_data"
    }
   ],
   "source": [
    "SELECT common_name AS 'Bird',\n",
    "families.scientific_name AS 'Family'\n",
    "FROM birds, bird_families AS families\n",
    "WHERE birds.famyly_id = families.family_id\n",
    "AND order_id = 102\n",
    "AND common_name != ''\n",
    "ORDER BY common_name LIMIT 10;"
   ]
  },
  {
   "cell_type": "code",
   "execution_count": 35,
   "metadata": {},
   "outputs": [
    {
     "data": {
      "text/html": [
       "Query OK"
      ]
     },
     "metadata": {},
     "output_type": "display_data"
    }
   ],
   "source": [
    "SELECT common_name AS 'Bird',\n",
    "families.scientific_name AS 'Family',\n",
    "orders.scientific_name AS 'Order'\n",
    "FROM birds, bird_families AS families, bird_orders AS orders\n",
    "WHERE birds.famyly_id = families.family_id\n",
    "AND families.order_id = orders.order_id\n",
    "AND families.order_id = 102\n",
    "AND common_name != ''\n",
    "ORDER BY common_name LIMIT 10, 5;"
   ]
  },
  {
   "cell_type": "markdown",
   "metadata": {},
   "source": [
    "## Expressions and the Like"
   ]
  },
  {
   "cell_type": "code",
   "execution_count": 39,
   "metadata": {},
   "outputs": [
    {
     "data": {
      "text/html": [
       "Query OK"
      ]
     },
     "metadata": {},
     "output_type": "display_data"
    }
   ],
   "source": [
    "SELECT common_name AS 'Bird',\n",
    "families.scientific_name AS 'Family',\n",
    "orders.scientific_name AS 'Order'\n",
    "FROM birds, bird_families AS families, bird_orders AS orders\n",
    "WHERE birds.famyly_id = families.family_id\n",
    "AND families.order_id = orders.order_id\n",
    "AND common_name LIKE 'Least%'\n",
    "ORDER BY orders.scientific_name, families.scientific_name, common_name\n",
    "LIMIT 10;"
   ]
  },
  {
   "cell_type": "code",
   "execution_count": 41,
   "metadata": {},
   "outputs": [
    {
     "data": {
      "text/html": [
       "<html><body><table border=\"1\"><tr><th style=\"text-align:left;white-space:pre\">Birds Great and Small</th></tr><tr><td style=\"text-align:left;white-space:pre\">Great Northern Loon</td></tr></table></body></html>"
      ]
     },
     "metadata": {},
     "output_type": "display_data"
    }
   ],
   "source": [
    "SELECT common_name AS 'Birds Great and Small'\n",
    "FROM birds\n",
    "WHERE common_name REGEXP 'Great|Least'\n",
    "ORDER BY famyly_id LIMIT 10;"
   ]
  },
  {
   "cell_type": "code",
   "execution_count": 43,
   "metadata": {},
   "outputs": [
    {
     "data": {
      "text/html": [
       "<html><body><table border=\"1\"><tr><th style=\"text-align:left;white-space:pre\">Birds Great and Small</th></tr><tr><td style=\"text-align:left;white-space:pre\">Great Northern Loon</td></tr></table></body></html>"
      ]
     },
     "metadata": {},
     "output_type": "display_data"
    }
   ],
   "source": [
    "SELECT common_name AS 'Birds Great and Small'\n",
    "FROM birds\n",
    "WHERE common_name REGEXP 'Great|Least'\n",
    "AND common_name NOT REGEXP 'Greater'\n",
    "ORDER BY famyly_id LIMIT 10;"
   ]
  },
  {
   "cell_type": "code",
   "execution_count": 44,
   "metadata": {},
   "outputs": [
    {
     "data": {
      "text/html": [
       "Query OK"
      ]
     },
     "metadata": {},
     "output_type": "display_data"
    }
   ],
   "source": [
    "SELECT common_name AS 'Hawks'\n",
    "FROM birds\n",
    "WHERE common_name REGEXP BINARY 'Hawk'\n",
    "AND common_name NOT REGEXP 'Hawk-Owl'\n",
    "ORDER BY famyly_id LIMIT 10;"
   ]
  },
  {
   "cell_type": "code",
   "execution_count": 45,
   "metadata": {},
   "outputs": [
    {
     "data": {
      "text/html": [
       "<html><body><table border=\"1\"><tr><th style=\"text-align:left;white-space:pre\">Field</th><th style=\"text-align:left;white-space:pre\">Type</th><th style=\"text-align:left;white-space:pre\">Collation</th><th style=\"text-align:left;white-space:pre\">Null</th><th style=\"text-align:left;white-space:pre\">Key</th><th style=\"text-align:left;white-space:pre\">Default</th><th style=\"text-align:left;white-space:pre\">Extra</th><th style=\"text-align:left;white-space:pre\">Privileges</th><th style=\"text-align:left;white-space:pre\">Comment</th></tr><tr><td style=\"text-align:left;white-space:pre\">common_name</td><td style=\"text-align:left;white-space:pre\">varchar(255)</td><td style=\"text-align:left;white-space:pre\">latin1_bin</td><td style=\"text-align:left;white-space:pre\">YES</td><td style=\"text-align:left;white-space:pre\"></td><td style=\"text-align:left;white-space:pre\">NULL</td><td style=\"text-align:left;white-space:pre\"></td><td style=\"text-align:left;white-space:pre\">select,insert,update,references</td><td style=\"text-align:left;white-space:pre\"></td></tr></table></body></html>"
      ]
     },
     "metadata": {},
     "output_type": "display_data"
    }
   ],
   "source": [
    "SHOW FULL COLUMNS\n",
    "FROM birds LIKE 'common_name';"
   ]
  },
  {
   "cell_type": "code",
   "execution_count": 47,
   "metadata": {},
   "outputs": [
    {
     "name": "stderr",
     "output_type": "stream",
     "text": [
      "Got error 'POSIX collating elements are not supported at offset 17' from regexp\n",
      "\u0007\u001b(B\u001b[0;7m\u001b(B\u001b[m\n"
     ]
    }
   ],
   "source": [
    "SELECT common_name AS 'Hawks'\n",
    "FROM birds\n",
    "WHERE common_name REGEXP '[[:space:]]Hawk|[[.hyphen.]]Hawk'\n",
    "AND common_name NOT REGEXP 'Hawk-Owl|Hawk Owl'\n",
    "ORDER BY famyly_id;"
   ]
  },
  {
   "cell_type": "markdown",
   "metadata": {},
   "source": [
    "## Counting and Grouping Results"
   ]
  },
  {
   "cell_type": "code",
   "execution_count": 48,
   "metadata": {},
   "outputs": [
    {
     "data": {
      "text/html": [
       "<html><body><table border=\"1\"><tr><th style=\"text-align:left;white-space:pre\">COUNT(*)</th></tr><tr><td style=\"text-align:left;white-space:pre\">6</td></tr></table></body></html>"
      ]
     },
     "metadata": {},
     "output_type": "display_data"
    }
   ],
   "source": [
    "SELECT COUNT(*) FROM birds;"
   ]
  },
  {
   "cell_type": "code",
   "execution_count": 51,
   "metadata": {},
   "outputs": [
    {
     "data": {
      "text/html": [
       "<html><body><table border=\"1\"><tr><th style=\"text-align:left;white-space:pre\">Family</th><th style=\"text-align:left;white-space:pre\">Number of Birds</th></tr><tr><td style=\"text-align:left;white-space:pre\">NULL</td><td style=\"text-align:left;white-space:pre\">0</td></tr></table></body></html>"
      ]
     },
     "metadata": {},
     "output_type": "display_data"
    }
   ],
   "source": [
    "SELECT families.scientific_name AS 'Family',\n",
    "COUNT(*) AS 'Number of Birds'\n",
    "FROM birds, bird_families AS families\n",
    "WHERE birds.famyly_id = families.family_id\n",
    "AND families.scientific_name = 'Pelecanidae';"
   ]
  },
  {
   "cell_type": "code",
   "execution_count": 53,
   "metadata": {},
   "outputs": [
    {
     "data": {
      "text/html": [
       "<html><body><table border=\"1\"><tr><th style=\"text-align:left;white-space:pre\">Order</th><th style=\"text-align:left;white-space:pre\">Family</th><th style=\"text-align:left;white-space:pre\">Number of Birds</th></tr><tr><td style=\"text-align:left;white-space:pre\">Pelecaniformes</td><td style=\"text-align:left;white-space:pre\">NULL</td><td style=\"text-align:left;white-space:pre\">0</td></tr></table></body></html>"
      ]
     },
     "metadata": {},
     "output_type": "display_data"
    }
   ],
   "source": [
    "SELECT orders.scientific_name AS 'Order',\n",
    "families.scientific_name AS 'Family',\n",
    "COUNT(*) AS 'Number of Birds'\n",
    "FROM birds, bird_families AS families, bird_orders AS orders\n",
    "WHERE birds.famyly_id = families.family_id\n",
    "AND families.order_id = orders.order_id\n",
    "AND orders.scientific_name = 'Pelecaniformes';"
   ]
  },
  {
   "cell_type": "code",
   "execution_count": 55,
   "metadata": {},
   "outputs": [
    {
     "data": {
      "text/html": [
       "Query OK"
      ]
     },
     "metadata": {},
     "output_type": "display_data"
    }
   ],
   "source": [
    "SELECT orders.scientific_name AS 'Order',\n",
    "families.scientific_name AS 'Family',\n",
    "COUNT(*) AS 'Number of Birds'\n",
    "FROM birds, bird_families AS families, bird_orders AS orders\n",
    "WHERE birds.famyly_id = families.family_id\n",
    "AND families.order_id = orders.order_id\n",
    "AND orders.scientific_name = 'Pelecaniformes'\n",
    "GROUP BY Family;"
   ]
  },
  {
   "cell_type": "markdown",
   "metadata": {},
   "source": [
    "# Chapter 8. Updating and Deleting Data"
   ]
  },
  {
   "cell_type": "markdown",
   "metadata": {},
   "source": [
    "## Updating Data"
   ]
  },
  {
   "cell_type": "code",
   "execution_count": 56,
   "metadata": {},
   "outputs": [
    {
     "name": "stderr",
     "output_type": "stream",
     "text": [
      "Unknown column 'country_id' in 'field list'\n",
      "\u0007\u001b(B\u001b[0;7m\u001b(B\u001b[m\n"
     ]
    }
   ],
   "source": [
    "UPDATE birdwatchers.humans\n",
    "SET country_id = 'us';"
   ]
  },
  {
   "cell_type": "code",
   "execution_count": 61,
   "metadata": {},
   "outputs": [
    {
     "data": {
      "text/html": [
       "Query OK"
      ]
     },
     "metadata": {},
     "output_type": "display_data"
    }
   ],
   "source": [
    "use birdwatchers;"
   ]
  },
  {
   "cell_type": "code",
   "execution_count": 62,
   "metadata": {},
   "outputs": [
    {
     "data": {
      "text/html": [
       "<html><body><table border=\"1\"><tr><th style=\"text-align:left;white-space:pre\">Tables_in_birdwatchers</th></tr><tr><td style=\"text-align:left;white-space:pre\">humans</td></tr><tr><td style=\"text-align:left;white-space:pre\">survey_answers</td></tr><tr><td style=\"text-align:left;white-space:pre\">survey_questions</td></tr><tr><td style=\"text-align:left;white-space:pre\">surveys</td></tr></table></body></html>"
      ]
     },
     "metadata": {},
     "output_type": "display_data"
    }
   ],
   "source": [
    "show tables;"
   ]
  },
  {
   "cell_type": "code",
   "execution_count": 63,
   "metadata": {},
   "outputs": [
    {
     "data": {
      "text/html": [
       "<html><body><table border=\"1\"><tr><th style=\"text-align:left;white-space:pre\">human_id</th><th style=\"text-align:left;white-space:pre\">formal_title</th><th style=\"text-align:left;white-space:pre\">name_first</th><th style=\"text-align:left;white-space:pre\">name_last</th><th style=\"text-align:left;white-space:pre\">email_adress</th></tr><tr><td style=\"text-align:left;white-space:pre\">1</td><td style=\"text-align:left;white-space:pre\">Mr.</td><td style=\"text-align:left;white-space:pre\">Russell</td><td style=\"text-align:left;white-space:pre\">Dyer</td><td style=\"text-align:left;white-space:pre\">russell@mysqlresources.com</td></tr><tr><td style=\"text-align:left;white-space:pre\">2</td><td style=\"text-align:left;white-space:pre\">Mr.</td><td style=\"text-align:left;white-space:pre\">Richard</td><td style=\"text-align:left;white-space:pre\">Stringer</td><td style=\"text-align:left;white-space:pre\">richard@mysqlresources.com</td></tr><tr><td style=\"text-align:left;white-space:pre\">3</td><td style=\"text-align:left;white-space:pre\">Ms.</td><td style=\"text-align:left;white-space:pre\">Rusty</td><td style=\"text-align:left;white-space:pre\">Osborne</td><td style=\"text-align:left;white-space:pre\">rusty@mysqlresources.com</td></tr><tr><td style=\"text-align:left;white-space:pre\">4</td><td style=\"text-align:left;white-space:pre\">Ms.</td><td style=\"text-align:left;white-space:pre\">Lexi</td><td style=\"text-align:left;white-space:pre\">Hollar</td><td style=\"text-align:left;white-space:pre\">alexandra@mysqlresources.com</td></tr></table></body></html>"
      ]
     },
     "metadata": {},
     "output_type": "display_data"
    }
   ],
   "source": [
    "select * from humans;"
   ]
  },
  {
   "cell_type": "markdown",
   "metadata": {},
   "source": [
    "## Updating Specific Rows "
   ]
  },
  {
   "cell_type": "code",
   "execution_count": 64,
   "metadata": {},
   "outputs": [
    {
     "data": {
      "text/html": [
       "<html><body><table border=\"1\"><tr><th style=\"text-align:left;white-space:pre\">human_id</th><th style=\"text-align:left;white-space:pre\">name_first</th><th style=\"text-align:left;white-space:pre\">name_last</th></tr><tr><td style=\"text-align:left;white-space:pre\">3</td><td style=\"text-align:left;white-space:pre\">Rusty</td><td style=\"text-align:left;white-space:pre\">Osborne</td></tr></table></body></html>"
      ]
     },
     "metadata": {},
     "output_type": "display_data"
    }
   ],
   "source": [
    "SELECT human_id, name_first, name_last\n",
    "FROM humans\n",
    "WHERE name_first = 'Rusty'\n",
    "AND name_last = 'Osborne';"
   ]
  },
  {
   "cell_type": "code",
   "execution_count": 65,
   "metadata": {},
   "outputs": [
    {
     "data": {
      "text/html": [
       "<html><body><table border=\"1\"><tr><th style=\"text-align:left;white-space:pre\">human_id</th><th style=\"text-align:left;white-space:pre\">name_first</th><th style=\"text-align:left;white-space:pre\">name_last</th></tr><tr><td style=\"text-align:left;white-space:pre\">3</td><td style=\"text-align:left;white-space:pre\">Rusty</td><td style=\"text-align:left;white-space:pre\">Johnson</td></tr></table></body></html>"
      ]
     },
     "metadata": {},
     "output_type": "display_data"
    }
   ],
   "source": [
    "UPDATE humans\n",
    "SET name_last = 'Johnson'\n",
    "WHERE human_id = 3;\n",
    "SELECT human_id, name_first, name_last\n",
    "FROM humans\n",
    "WHERE human_id = 3;"
   ]
  },
  {
   "cell_type": "code",
   "execution_count": 66,
   "metadata": {},
   "outputs": [
    {
     "data": {
      "text/html": [
       "Query OK"
      ]
     },
     "metadata": {},
     "output_type": "display_data"
    }
   ],
   "source": [
    "UPDATE humans\n",
    "SET formal_title = 'Ms.'\n",
    "WHERE human_id IN(24, 32);"
   ]
  },
  {
   "cell_type": "code",
   "execution_count": 67,
   "metadata": {},
   "outputs": [
    {
     "data": {
      "text/html": [
       "<html><body><table border=\"1\"><tr><th style=\"text-align:left;white-space:pre\">Field</th><th style=\"text-align:left;white-space:pre\">Type</th><th style=\"text-align:left;white-space:pre\">Collation</th><th style=\"text-align:left;white-space:pre\">Null</th><th style=\"text-align:left;white-space:pre\">Key</th><th style=\"text-align:left;white-space:pre\">Default</th><th style=\"text-align:left;white-space:pre\">Extra</th><th style=\"text-align:left;white-space:pre\">Privileges</th><th style=\"text-align:left;white-space:pre\">Comment</th></tr><tr><td style=\"text-align:left;white-space:pre\">formal_title</td><td style=\"text-align:left;white-space:pre\">varchar(25)</td><td style=\"text-align:left;white-space:pre\">utf8mb4_general_ci</td><td style=\"text-align:left;white-space:pre\">YES</td><td style=\"text-align:left;white-space:pre\"></td><td style=\"text-align:left;white-space:pre\">NULL</td><td style=\"text-align:left;white-space:pre\"></td><td style=\"text-align:left;white-space:pre\">select,insert,update,references</td><td style=\"text-align:left;white-space:pre\"></td></tr></table></body></html>"
      ]
     },
     "metadata": {},
     "output_type": "display_data"
    }
   ],
   "source": [
    "SHOW FULL COLUMNS\n",
    "FROM humans\n",
    "LIKE 'formal_title' ;"
   ]
  },
  {
   "cell_type": "code",
   "execution_count": 68,
   "metadata": {},
   "outputs": [
    {
     "data": {
      "text/html": [
       "Query OK"
      ]
     },
     "metadata": {},
     "output_type": "display_data"
    }
   ],
   "source": [
    "UPDATE humans\n",
    "SET formal_title = 'Ms.'\n",
    "WHERE formal_title IN('Miss','Mrs.');"
   ]
  },
  {
   "cell_type": "code",
   "execution_count": 69,
   "metadata": {},
   "outputs": [
    {
     "data": {
      "text/html": [
       "Stage: 2 of 2 'Enabling keys'      0% of stage done\r",
       "                                                   \r"
      ]
     },
     "metadata": {},
     "output_type": "display_data"
    }
   ],
   "source": [
    "ALTER TABLE humans\n",
    "CHANGE COLUMN formal_title formal_title ENUM('Mr.','Ms.');"
   ]
  },
  {
   "cell_type": "code",
   "execution_count": 70,
   "metadata": {},
   "outputs": [
    {
     "data": {
      "text/html": [
       "Query OK"
      ]
     },
     "metadata": {},
     "output_type": "display_data"
    }
   ],
   "source": [
    "SHOW WARNINGS;"
   ]
  },
  {
   "cell_type": "code",
   "execution_count": 71,
   "metadata": {},
   "outputs": [
    {
     "data": {
      "text/html": [
       "Stage: 2 of 2 'Enabling keys'      0% of stage done\r",
       "                                                   \r"
      ]
     },
     "metadata": {},
     "output_type": "display_data"
    }
   ],
   "source": [
    "ALTER TABLE humans\n",
    "CHANGE COLUMN formal_title formal_title ENUM('Mr.','Ms.','Mr','Ms');\n",
    "UPDATE humans\n",
    "SET formal_title = SUBSTRING(formal_title, 1, 2);\n",
    "ALTER TABLE humans\n",
    "CHANGE COLUMN formal_title formal_title ENUM('Mr','Ms');"
   ]
  },
  {
   "cell_type": "markdown",
   "metadata": {},
   "source": [
    "## Limiting Updates"
   ]
  },
  {
   "cell_type": "code",
   "execution_count": 72,
   "metadata": {},
   "outputs": [
    {
     "data": {
      "text/html": [
       "Query OK"
      ]
     },
     "metadata": {},
     "output_type": "display_data"
    }
   ],
   "source": [
    "CREATE TABLE prize_winners\n",
    "(winner_id INT AUTO_INCREMENT PRIMARY KEY,\n",
    "human_id INT,\n",
    "winner_date DATE,\n",
    "prize_chosen VARCHAR(255),\n",
    "prize_sent DATE);"
   ]
  },
  {
   "cell_type": "code",
   "execution_count": 73,
   "metadata": {},
   "outputs": [
    {
     "data": {
      "text/html": [
       "Query OK"
      ]
     },
     "metadata": {},
     "output_type": "display_data"
    }
   ],
   "source": [
    "INSERT INTO prize_winners\n",
    "(human_id)\n",
    "SELECT human_id\n",
    "FROM humans;"
   ]
  },
  {
   "cell_type": "markdown",
   "metadata": {},
   "source": [
    "## Ordering to Make a Difference"
   ]
  },
  {
   "cell_type": "code",
   "execution_count": 74,
   "metadata": {},
   "outputs": [
    {
     "data": {
      "text/html": [
       "Query OK"
      ]
     },
     "metadata": {},
     "output_type": "display_data"
    }
   ],
   "source": [
    "UPDATE prize_winners\n",
    "SET winner_date = CURDATE()\n",
    "WHERE winner_date IS NULL\n",
    "ORDER BY RAND()\n",
    "LIMIT 2;"
   ]
  },
  {
   "cell_type": "code",
   "execution_count": 75,
   "metadata": {},
   "outputs": [
    {
     "data": {
      "text/html": [
       "Query OK"
      ]
     },
     "metadata": {},
     "output_type": "display_data"
    }
   ],
   "source": [
    "SHOW WARNINGS ;"
   ]
  },
  {
   "cell_type": "markdown",
   "metadata": {},
   "source": [
    "## Updating Multiple Tables;"
   ]
  },
  {
   "cell_type": "code",
   "execution_count": 78,
   "metadata": {},
   "outputs": [
    {
     "name": "stderr",
     "output_type": "stream",
     "text": [
      "Unknown column 'country_id' in 'where clause'\n",
      "\u0007\u001b(B\u001b[0;7m\u001b(B\u001b[m\n"
     ]
    }
   ],
   "source": [
    "UPDATE prize_winners, humans\n",
    "SET winner_date = NULL,\n",
    "prize_chosen = NULL,\n",
    "prize_sent = NULL\n",
    "WHERE country_id = 'uk'\n",
    "AND prize_winners.human_id = humans.human_id;"
   ]
  },
  {
   "cell_type": "code",
   "execution_count": null,
   "metadata": {},
   "outputs": [],
   "source": [
    "UPDATE prize_winners, humans\n",
    "SET winner_date = CURDATE()\n",
    "WHERE winner_date IS NULL\n",
    "AND country_id = 'uk'\n",
    "AND prize_winners.human_id = humans.human_id\n",
    "ORDER BY RAND()\n",
    "LIMIT 2;"
   ]
  },
  {
   "cell_type": "code",
   "execution_count": null,
   "metadata": {},
   "outputs": [],
   "source": [
    "UPDATE prize_winners\n",
    "SET winner_date = CURDATE()\n",
    "WHERE winner_date IS NULL\n",
    "AND human_id IN\n",
    "(SELECT human_id\n",
    "FROM humans\n",
    "WHERE country_id = 'uk'\n",
    "ORDER BY RAND())\n",
    "LIMIT 2;"
   ]
  },
  {
   "cell_type": "markdown",
   "metadata": {},
   "source": [
    "## Handling Duplicates"
   ]
  },
  {
   "cell_type": "code",
   "execution_count": 79,
   "metadata": {},
   "outputs": [
    {
     "data": {
      "text/html": [
       "Query OK"
      ]
     },
     "metadata": {},
     "output_type": "display_data"
    }
   ],
   "source": [
    "ALTER TABLE humans\n",
    "ADD COLUMN better_birders_site TINYINT DEFAULT 0;"
   ]
  },
  {
   "cell_type": "code",
   "execution_count": 81,
   "metadata": {},
   "outputs": [
    {
     "data": {
      "text/html": [
       "Query OK"
      ]
     },
     "metadata": {},
     "output_type": "display_data"
    }
   ],
   "source": [
    "INSERT INTO humans\n",
    "(formal_title, name_first, name_last, email_adress, better_birders_site)\n",
    "VALUES('Mr','Barry','Pilson', 'barry@gomail.com', 1),\n",
    "('Ms','Lexi','Hollar', 'alexandra@mysqlresources.com', 1),\n",
    "('Mr','Ricky','Adams', 'ricky@gomail.com', 1)\n",
    "ON DUPLICATE KEY\n",
    "UPDATE better_birders_site = 2;"
   ]
  },
  {
   "cell_type": "code",
   "execution_count": 82,
   "metadata": {},
   "outputs": [
    {
     "data": {
      "text/html": [
       "Query OK"
      ]
     },
     "metadata": {},
     "output_type": "display_data"
    }
   ],
   "source": [
    "INSERT INTO prize_winners\n",
    "(human_id)\n",
    "SELECT human_id\n",
    "FROM humans\n",
    "WHERE better_birders_site = 1;"
   ]
  },
  {
   "cell_type": "code",
   "execution_count": 83,
   "metadata": {},
   "outputs": [
    {
     "data": {
      "text/html": [
       "Query OK"
      ]
     },
     "metadata": {},
     "output_type": "display_data"
    }
   ],
   "source": [
    "ALTER TABLE humans\n",
    "ADD COLUMN possible_duplicate TINYINT DEFAULT 0;\n",
    "CREATE TEMPORARY TABLE possible_duplicates\n",
    "(name_1 varchar(25), name_2 varchar(25));"
   ]
  },
  {
   "cell_type": "code",
   "execution_count": 84,
   "metadata": {},
   "outputs": [
    {
     "data": {
      "text/html": [
       "Query OK"
      ]
     },
     "metadata": {},
     "output_type": "display_data"
    }
   ],
   "source": [
    "INSERT INTO possible_duplicates\n",
    "SELECT name_first, name_last\n",
    "FROM\n",
    "(SELECT name_first, name_last, COUNT(*) AS nbr_entries\n",
    "FROM humans\n",
    "GROUP BY name_first, name_last) AS derived_table\n",
    "WHERE nbr_entries > 1;"
   ]
  },
  {
   "cell_type": "code",
   "execution_count": 86,
   "metadata": {},
   "outputs": [
    {
     "data": {
      "text/html": [
       "Query OK"
      ]
     },
     "metadata": {},
     "output_type": "display_data"
    }
   ],
   "source": [
    "UPDATE humans, possible_duplicates\n",
    "SET possible_duplicate = 1\n",
    "WHERE name_first = name_1\n",
    "AND name_last = name_2;"
   ]
  },
  {
   "cell_type": "markdown",
   "metadata": {},
   "source": [
    "## Deleting Data"
   ]
  },
  {
   "cell_type": "code",
   "execution_count": 87,
   "metadata": {},
   "outputs": [
    {
     "data": {
      "text/html": [
       "Query OK"
      ]
     },
     "metadata": {},
     "output_type": "display_data"
    }
   ],
   "source": [
    "DELETE FROM humans\n",
    "WHERE name_first = 'Elena'\n",
    "AND name_last = 'Bokova'\n",
    "AND email_adress LIKE '%yahoo.com';"
   ]
  },
  {
   "cell_type": "markdown",
   "metadata": {},
   "source": [
    "## Deleting in Multiple Tables"
   ]
  },
  {
   "cell_type": "code",
   "execution_count": 89,
   "metadata": {},
   "outputs": [
    {
     "data": {
      "text/html": [
       "Query OK"
      ]
     },
     "metadata": {},
     "output_type": "display_data"
    }
   ],
   "source": [
    "DELETE FROM humans, prize_winners\n",
    "USING humans JOIN prize_winners\n",
    "WHERE name_first = 'Elena'\n",
    "AND name_last = 'Bokova'\n",
    "AND email_adress LIKE '%yahoo.com'\n",
    "AND humans.human_id = prize_winners.human_id;"
   ]
  },
  {
   "cell_type": "markdown",
   "metadata": {},
   "source": [
    "# Chapter 9. Joining and Subquerying Data"
   ]
  },
  {
   "cell_type": "markdown",
   "metadata": {},
   "source": [
    "## Unifying Results;"
   ]
  },
  {
   "cell_type": "code",
   "execution_count": 94,
   "metadata": {},
   "outputs": [
    {
     "data": {
      "text/html": [
       "Query OK"
      ]
     },
     "metadata": {},
     "output_type": "display_data"
    }
   ],
   "source": [
    "use rookery;"
   ]
  },
  {
   "cell_type": "code",
   "execution_count": 97,
   "metadata": {},
   "outputs": [
    {
     "data": {
      "text/html": [
       "<html><body><table border=\"1\"><tr><th style=\"text-align:left;white-space:pre\">Family</th><th style=\"text-align:left;white-space:pre\">Species</th></tr><tr><td style=\"text-align:left;white-space:pre\">Pelecanidae</td><td style=\"text-align:left;white-space:pre\">0</td></tr><tr><td style=\"text-align:left;white-space:pre\">Ardeidae</td><td style=\"text-align:left;white-space:pre\">0</td></tr></table></body></html>"
      ]
     },
     "metadata": {},
     "output_type": "display_data"
    }
   ],
   "source": [
    "SELECT 'Pelecanidae' AS 'Family',\n",
    "COUNT(*) AS 'Species'\n",
    "FROM birds, bird_families AS families\n",
    "WHERE birds.famyly_id = families.family_id\n",
    "AND families.scientific_name = 'Pelecanidae'\n",
    "UNION\n",
    "SELECT 'Ardeidae',\n",
    "COUNT(*)\n",
    "FROM birds, bird_families AS families\n",
    "WHERE birds.famyly_id = families.family_id\n",
    "AND families.scientific_name = 'Ardeidae';"
   ]
  },
  {
   "cell_type": "code",
   "execution_count": 93,
   "metadata": {},
   "outputs": [
    {
     "data": {
      "text/html": [
       "<html><body><table border=\"1\"><tr><th style=\"text-align:left;white-space:pre\">Tables_in_birdwatchers</th></tr><tr><td style=\"text-align:left;white-space:pre\">humans</td></tr><tr><td style=\"text-align:left;white-space:pre\">prize_winners</td></tr><tr><td style=\"text-align:left;white-space:pre\">survey_answers</td></tr><tr><td style=\"text-align:left;white-space:pre\">survey_questions</td></tr><tr><td style=\"text-align:left;white-space:pre\">surveys</td></tr></table></body></html>"
      ]
     },
     "metadata": {},
     "output_type": "display_data"
    }
   ],
   "source": [
    "show tables;"
   ]
  },
  {
   "cell_type": "code",
   "execution_count": 102,
   "metadata": {},
   "outputs": [
    {
     "data": {
      "text/html": [
       "Query OK"
      ]
     },
     "metadata": {},
     "output_type": "display_data"
    }
   ],
   "source": [
    "SELECT families.scientific_name AS 'Family',\n",
    "COUNT(*) AS 'Species'\n",
    "FROM birds, bird_families AS families, bird_orders AS orders\n",
    "WHERE birds.famyly_id = families.family_id\n",
    "AND families.order_id = orders.order_id\n",
    "AND orders.scientific_name = 'Pelecaniformes'\n",
    "GROUP BY families.family_id\n",
    "UNION\n",
    "SELECT families.scientific_name, COUNT(*)\n",
    "FROM birds, bird_families AS families, bird_orders AS orders\n",
    "WHERE birds.famyly_id = families.family_id\n",
    "AND families.order_id = orders.order_id\n",
    "AND orders.scientific_name = 'Suliformes'\n",
    "GROUP BY families.family_id;"
   ]
  },
  {
   "cell_type": "code",
   "execution_count": 104,
   "metadata": {},
   "outputs": [
    {
     "data": {
      "text/html": [
       "Query OK"
      ]
     },
     "metadata": {},
     "output_type": "display_data"
    }
   ],
   "source": [
    "SELECT * FROM\n",
    "(\n",
    "SELECT families.scientific_name AS 'Family',\n",
    "COUNT(*) AS 'Species',\n",
    "orders.scientific_name AS 'Order'\n",
    "FROM birds, bird_families AS families, bird_orders AS orders\n",
    "WHERE birds.famyly_id = families.family_id\n",
    "AND families.order_id = orders.order_id\n",
    "AND orders.scientific_name = 'Pelecaniformes'\n",
    "GROUP BY families.family_id\n",
    "UNION\n",
    "SELECT families.scientific_name, COUNT(*), orders.scientific_name\n",
    "FROM birds, bird_families AS families, bird_orders AS orders\n",
    "WHERE birds.famyly_id = families.family_id\n",
    "AND families.order_id = orders.order_id\n",
    "AND orders.scientific_name = 'Suliformes'\n",
    "GROUP BY families.family_id ) AS derived_1\n",
    "ORDER BY Family;"
   ]
  },
  {
   "cell_type": "markdown",
   "metadata": {},
   "source": [
    "## Joining Tables"
   ]
  },
  {
   "cell_type": "code",
   "execution_count": 123,
   "metadata": {},
   "outputs": [
    {
     "data": {
      "text/html": [
       "<html><body><table border=\"1\"><tr><th style=\"text-align:left;white-space:pre\">Tables_in_test</th></tr><tr><td style=\"text-align:left;white-space:pre\">books</td></tr><tr><td style=\"text-align:left;white-space:pre\">status_names</td></tr></table></body></html>"
      ]
     },
     "metadata": {},
     "output_type": "display_data"
    }
   ],
   "source": [
    "use test\n",
    "show tables;"
   ]
  },
  {
   "cell_type": "code",
   "execution_count": 125,
   "metadata": {},
   "outputs": [
    {
     "data": {
      "text/html": [
       "<html><body><table border=\"1\"><tr><th style=\"text-align:left;white-space:pre\">status_id</th><th style=\"text-align:left;white-space:pre\">status_name</th></tr><tr><td style=\"text-align:left;white-space:pre\">0</td><td style=\"text-align:left;white-space:pre\">Inactive</td></tr><tr><td style=\"text-align:left;white-space:pre\">1</td><td style=\"text-align:left;white-space:pre\">Active</td></tr></table></body></html>"
      ]
     },
     "metadata": {},
     "output_type": "display_data"
    }
   ],
   "source": [
    "select * from status_names;"
   ]
  },
  {
   "cell_type": "code",
   "execution_count": 106,
   "metadata": {},
   "outputs": [
    {
     "data": {
      "text/html": [
       "<html><body><table border=\"1\"><tr><th style=\"text-align:left;white-space:pre\">book_id</th><th style=\"text-align:left;white-space:pre\">title</th><th style=\"text-align:left;white-space:pre\">status_name</th></tr><tr><td style=\"text-align:left;white-space:pre\">100</td><td style=\"text-align:left;white-space:pre\">Heart of Darkness</td><td style=\"text-align:left;white-space:pre\">Inactive</td></tr><tr><td style=\"text-align:left;white-space:pre\">101</td><td style=\"text-align:left;white-space:pre\">The of the Rye</td><td style=\"text-align:left;white-space:pre\">Inactive</td></tr><tr><td style=\"text-align:left;white-space:pre\">102</td><td style=\"text-align:left;white-space:pre\">My Antonia</td><td style=\"text-align:left;white-space:pre\">Active</td></tr></table></body></html>"
      ]
     },
     "metadata": {},
     "output_type": "display_data"
    }
   ],
   "source": [
    "SELECT book_id, title, status_name\n",
    "FROM books JOIN status_names\n",
    "WHERE status = status_id;"
   ]
  },
  {
   "cell_type": "code",
   "execution_count": 107,
   "metadata": {},
   "outputs": [
    {
     "data": {
      "text/html": [
       "<html><body><table border=\"1\"><tr><th style=\"text-align:left;white-space:pre\">book_id</th><th style=\"text-align:left;white-space:pre\">title</th><th style=\"text-align:left;white-space:pre\">status_name</th></tr><tr><td style=\"text-align:left;white-space:pre\">100</td><td style=\"text-align:left;white-space:pre\">Heart of Darkness</td><td style=\"text-align:left;white-space:pre\">Inactive</td></tr><tr><td style=\"text-align:left;white-space:pre\">101</td><td style=\"text-align:left;white-space:pre\">The of the Rye</td><td style=\"text-align:left;white-space:pre\">Inactive</td></tr><tr><td style=\"text-align:left;white-space:pre\">102</td><td style=\"text-align:left;white-space:pre\">My Antonia</td><td style=\"text-align:left;white-space:pre\">Active</td></tr></table></body></html>"
      ]
     },
     "metadata": {},
     "output_type": "display_data"
    }
   ],
   "source": [
    "SELECT book_id, title, status_name\n",
    "FROM books\n",
    "JOIN status_names ON(status = status_id);"
   ]
  },
  {
   "cell_type": "code",
   "execution_count": 126,
   "metadata": {},
   "outputs": [
    {
     "name": "stderr",
     "output_type": "stream",
     "text": [
      "Unknown column 'status_id' in 'from clause'\n",
      "\u0007\u001b(B\u001b[0;7m\u001b(B\u001b[m\n"
     ]
    }
   ],
   "source": [
    "SELECT book_id, title, status_name\n",
    "FROM books\n",
    "JOIN status_names USING(status_id);"
   ]
  },
  {
   "cell_type": "markdown",
   "metadata": {},
   "source": [
    "## Selecting a Basic Join"
   ]
  },
  {
   "cell_type": "code",
   "execution_count": 128,
   "metadata": {},
   "outputs": [
    {
     "data": {
      "text/html": [
       "Query OK"
      ]
     },
     "metadata": {},
     "output_type": "display_data"
    }
   ],
   "source": [
    "use rookery;"
   ]
  },
  {
   "cell_type": "code",
   "execution_count": 110,
   "metadata": {},
   "outputs": [
    {
     "data": {
      "text/html": [
       "Query OK"
      ]
     },
     "metadata": {},
     "output_type": "display_data"
    }
   ],
   "source": [
    "SELECT common_name, conservation_state\n",
    "FROM birds\n",
    "JOIN conservation_status\n",
    "ON(birds.conservation_status_id = conservation_status.conservation_status_id)\n",
    "WHERE conservation_category = 'Threatened'\n",
    "AND common_name LIKE '%Goose%';"
   ]
  },
  {
   "cell_type": "code",
   "execution_count": 111,
   "metadata": {},
   "outputs": [
    {
     "data": {
      "text/html": [
       "Query OK"
      ]
     },
     "metadata": {},
     "output_type": "display_data"
    }
   ],
   "source": [
    "SELECT common_name, conservation_state\n",
    "FROM birds\n",
    "JOIN conservation_status\n",
    "USING(conservation_status_id)\n",
    "WHERE conservation_category = 'Threatened'\n",
    "AND common_name LIKE '%Goose%';"
   ]
  },
  {
   "cell_type": "code",
   "execution_count": 136,
   "metadata": {},
   "outputs": [
    {
     "data": {
      "text/html": [
       "Query OK"
      ]
     },
     "metadata": {},
     "output_type": "display_data"
    }
   ],
   "source": [
    "SELECT common_name AS 'Bird',\n",
    "bird_families.scientific_name AS 'Family', conservation_state AS 'Status'\n",
    "FROM birds\n",
    "JOIN conservation_status USING(conservation_status_id)\n",
    "JOIN bird_families USING(scientific_name)\n",
    "WHERE conservation_category = 'Threatened'\n",
    "AND common_name REGEXP 'Goose|Duck'\n",
    "ORDER BY Status, Bird;"
   ]
  },
  {
   "cell_type": "code",
   "execution_count": 138,
   "metadata": {},
   "outputs": [
    {
     "data": {
      "text/html": [
       "Query OK"
      ]
     },
     "metadata": {},
     "output_type": "display_data"
    }
   ],
   "source": [
    "SELECT common_name AS 'Bird',\n",
    "bird_families.scientific_name AS 'Family', conservation_state AS 'Status'\n",
    "FROM birds, conservation_status, bird_families\n",
    "WHERE birds.conservation_status_id = conservation_status.conservation_status_id\n",
    "AND birds.famyly_id = bird_families.family_id\n",
    "AND conservation_category = 'Threatened'\n",
    "AND common_name REGEXP 'Goose|Duck'\n",
    "ORDER BY Status, Bird;"
   ]
  },
  {
   "cell_type": "code",
   "execution_count": 140,
   "metadata": {},
   "outputs": [
    {
     "data": {
      "text/html": [
       "Query OK"
      ]
     },
     "metadata": {},
     "output_type": "display_data"
    }
   ],
   "source": [
    "SELECT common_name AS 'Bird from Anatidae',\n",
    "conservation_state AS 'Conservation Status'\n",
    "FROM birds\n",
    "JOIN conservation_status AS states USING(conservation_status_id)\n",
    "JOIN bird_families USING(scientific_name)\n",
    "WHERE conservation_category = 'Threatened'\n",
    "AND bird_families.scientific_name = 'Anatidae'\n",
    "ORDER BY states.conservation_status_id DESC, common_name ASC;"
   ]
  },
  {
   "cell_type": "code",
   "execution_count": 141,
   "metadata": {},
   "outputs": [
    {
     "name": "stderr",
     "output_type": "stream",
     "text": [
      "Table 'birdwatchers.bird_sightings' doesn't exist\n",
      "\u0007\u001b(B\u001b[0;7m\u001b(B\u001b[m\n"
     ]
    }
   ],
   "source": [
    "SELECT CONCAT(name_first, ' ', name_last) AS Birder,\n",
    "common_name AS Bird, location_gps AS 'Location of Sighting'\n",
    "FROM birdwatchers.humans\n",
    "JOIN birdwatchers.bird_sightings USING(human_id)\n",
    "JOIN rookery.birds USING(bird_id)\n",
    "JOIN rookery.bird_families USING(family_id)\n",
    "WHERE country_id = 'ru'\n",
    "AND bird_families.scientific_name = 'Scolopacidae'\n",
    "ORDER BY Birder;"
   ]
  },
  {
   "cell_type": "code",
   "execution_count": 142,
   "metadata": {},
   "outputs": [
    {
     "data": {
      "text/html": [
       "Query OK"
      ]
     },
     "metadata": {},
     "output_type": "display_data"
    }
   ],
   "source": [
    "SELECT common_name AS 'Bird',\n",
    "conservation_state AS 'Status'\n",
    "FROM birds\n",
    "LEFT JOIN conservation_status USING(conservation_status_id)\n",
    "WHERE common_name LIKE '%Egret%'\n",
    "ORDER BY Status, Bird;"
   ]
  },
  {
   "cell_type": "markdown",
   "metadata": {},
   "source": [
    "## Updating Joined Tables"
   ]
  },
  {
   "cell_type": "code",
   "execution_count": 144,
   "metadata": {},
   "outputs": [
    {
     "data": {
      "text/html": [
       "Query OK"
      ]
     },
     "metadata": {},
     "output_type": "display_data"
    }
   ],
   "source": [
    "SELECT common_name,\n",
    "conservation_state\n",
    "FROM birds\n",
    "LEFT JOIN conservation_status USING(conservation_status_id)\n",
    "JOIN bird_families USING(scientific_name)\n",
    "WHERE bird_families.scientific_name = 'Ardeidae';"
   ]
  },
  {
   "cell_type": "code",
   "execution_count": 145,
   "metadata": {},
   "outputs": [
    {
     "data": {
      "text/html": [
       "<html><body><table border=\"1\"><tr><th style=\"text-align:left;white-space:pre\">LAST_INSERT_ID()</th></tr><tr><td style=\"text-align:left;white-space:pre\">9</td></tr></table></body></html>"
      ]
     },
     "metadata": {},
     "output_type": "display_data"
    }
   ],
   "source": [
    "INSERT INTO conservation_status (conservation_state)\n",
    "VALUES('Unknown');\n",
    "SELECT LAST_INSERT_ID();"
   ]
  },
  {
   "cell_type": "code",
   "execution_count": 147,
   "metadata": {},
   "outputs": [
    {
     "data": {
      "text/html": [
       "Query OK"
      ]
     },
     "metadata": {},
     "output_type": "display_data"
    }
   ],
   "source": [
    "UPDATE birds\n",
    "LEFT JOIN conservation_status USING(conservation_status_id)\n",
    "JOIN bird_families USING(scientific_name)\n",
    "SET birds.conservation_status_id = 9\n",
    "WHERE bird_families.scientific_name = 'Ardeidae'\n",
    "AND conservation_status.conservation_status_id IS NULL;"
   ]
  },
  {
   "cell_type": "markdown",
   "metadata": {},
   "source": [
    "## Deleting Within Joined Tables"
   ]
  },
  {
   "cell_type": "code",
   "execution_count": 150,
   "metadata": {},
   "outputs": [
    {
     "data": {
      "text/html": [
       "Query OK"
      ]
     },
     "metadata": {},
     "output_type": "display_data"
    }
   ],
   "source": [
    "use birdwatchers;"
   ]
  },
  {
   "cell_type": "code",
   "execution_count": 152,
   "metadata": {},
   "outputs": [
    {
     "data": {
      "text/html": [
       "Query OK"
      ]
     },
     "metadata": {},
     "output_type": "display_data"
    }
   ],
   "source": [
    "DELETE FROM humans, prize_winners\n",
    "USING humans JOIN prize_winners\n",
    "WHERE name_first = 'Elena'\n",
    "AND name_last = 'Bokova'\n",
    "AND email_adress LIKE '%yahoo.com'\n",
    "AND humans.human_id = prize_winners.human_id;"
   ]
  },
  {
   "cell_type": "code",
   "execution_count": 154,
   "metadata": {},
   "outputs": [
    {
     "data": {
      "text/html": [
       "Query OK"
      ]
     },
     "metadata": {},
     "output_type": "display_data"
    }
   ],
   "source": [
    "DELETE FROM humans, prize_winners\n",
    "USING humans LEFT JOIN prize_winners\n",
    "ON humans.human_id = prize_winners.human_id\n",
    "WHERE name_first = 'Elena'\n",
    "AND name_last = 'Bokova'\n",
    "AND email_adress LIKE '%yahoo.com';"
   ]
  },
  {
   "cell_type": "code",
   "execution_count": 155,
   "metadata": {},
   "outputs": [
    {
     "data": {
      "text/html": [
       "Query OK"
      ]
     },
     "metadata": {},
     "output_type": "display_data"
    }
   ],
   "source": [
    "DELETE FROM prize_winners\n",
    "USING humans RIGHT JOIN prize_winners\n",
    "ON humans.human_id = prize_winners.human_id\n",
    "WHERE humans.human_id IS NULL;"
   ]
  },
  {
   "cell_type": "markdown",
   "metadata": {},
   "source": [
    "## Subqueries"
   ]
  },
  {
   "cell_type": "markdown",
   "metadata": {},
   "source": [
    "### Scalar Subqueries"
   ]
  },
  {
   "cell_type": "code",
   "execution_count": 163,
   "metadata": {},
   "outputs": [
    {
     "data": {
      "text/html": [
       "Query OK"
      ]
     },
     "metadata": {},
     "output_type": "display_data"
    }
   ],
   "source": [
    "use rookery;"
   ]
  },
  {
   "cell_type": "code",
   "execution_count": 158,
   "metadata": {},
   "outputs": [
    {
     "data": {
      "text/html": [
       "Query OK"
      ]
     },
     "metadata": {},
     "output_type": "display_data"
    }
   ],
   "source": [
    "SELECT scientific_name AS Family\n",
    "FROM bird_families\n",
    "WHERE order_id =\n",
    "(SELECT order_id\n",
    "FROM bird_orders\n",
    "WHERE scientific_name = 'Galliformes');"
   ]
  },
  {
   "cell_type": "code",
   "execution_count": 160,
   "metadata": {},
   "outputs": [
    {
     "data": {
      "text/html": [
       "Query OK"
      ]
     },
     "metadata": {},
     "output_type": "display_data"
    }
   ],
   "source": [
    "use birdwatchers;"
   ]
  },
  {
   "cell_type": "code",
   "execution_count": 161,
   "metadata": {},
   "outputs": [
    {
     "name": "stderr",
     "output_type": "stream",
     "text": [
      "Table 'birdwatchers.bird_sightings' doesn't exist\n",
      "\u0007\u001b(B\u001b[0;7m\u001b(B\u001b[m\n"
     ]
    }
   ],
   "source": [
    "UPDATE humans\n",
    "SET membership_type = 'premium',\n",
    "membership_expiration = DATE_ADD(IFNULL(membership_expiration,\n",
    "CURDATE()), INTERVAL 1 YEAR)\n",
    "WHERE human_id =\n",
    "(SELECT human_id\n",
    "FROM\n",
    "(SELECT human_id, COUNT(*) AS sightings, join_date\n",
    "FROM birdwatchers.bird_sightings\n",
    "JOIN birdwatchers.humans USING(human_id)\n",
    "JOIN rookery.birds USING(bird_id)\n",
    "JOIN rookery.bird_families USING(family_id)\n",
    "WHERE country_id = 'ru'\n",
    "AND bird_families.scientific_name = 'Scolopacidae'\n",
    "GROUP BY human_id) AS derived_1\n",
    "WHERE sightings > 5\n",
    "ORDER BY join_date ASC\n",
    "LIMIT 1);"
   ]
  },
  {
   "cell_type": "markdown",
   "metadata": {},
   "source": [
    "### Column Subqueries"
   ]
  },
  {
   "cell_type": "code",
   "execution_count": 165,
   "metadata": {},
   "outputs": [
    {
     "data": {
      "text/html": [
       "Query OK"
      ]
     },
     "metadata": {},
     "output_type": "display_data"
    }
   ],
   "source": [
    "SELECT * FROM\n",
    "(SELECT common_name AS 'Bird',\n",
    "families.scientific_name AS 'Family'\n",
    "FROM birds\n",
    "JOIN bird_families AS families USING(scientific_name)\n",
    "JOIN bird_orders AS orders USING(order_id)\n",
    "WHERE common_name != ''\n",
    "AND families.scientific_name IN(SELECT DISTINCT families.scientific_name AS 'Family'\n",
    "FROM bird_families AS families\n",
    "JOIN bird_orders AS orders USING(order_id)\n",
    "WHERE orders.scientific_name = 'Galliformes'\n",
    "ORDER BY Family)\n",
    "ORDER BY RAND()) AS derived_1\n",
    "GROUP BY (Family);"
   ]
  },
  {
   "cell_type": "markdown",
   "metadata": {},
   "source": [
    "## Row Subqueries"
   ]
  },
  {
   "cell_type": "code",
   "execution_count": null,
   "metadata": {},
   "outputs": [],
   "source": [
    "INSERT INTO bird_sightings\n",
    "(bird_id, human_id, time_seen, location_gps)\n",
    "VALUES\n",
    "(SELECT birds.bird_id, humans.human_id,\n",
    "date_spotted, gps_coordinates\n",
    "FROM\n",
    "(SELECT personal_name, family_name, science_name, date_spotted,\n",
    "CONCAT(latitude, '; ', longitude) AS gps_coordinates\n",
    "FROM eastern_birders\n",
    "JOIN eastern_birders_spottings USING(birder_id)\n",
    "WHERE\n",
    "(personal_name, family_name,\n",
    "science_name, CONCAT(latitude, '; ', longitude) )\n",
    "NOT IN\n",
    "(SELECT name_first, name_last, scientific_name, location_gps\n",
    "FROM humans\n",
    "JOIN bird_sightings USING(human_id)\n",
    "JOIN rookery.birds USING(bird_id) ) ) AS derived_1\n",
    "JOIN humans\n",
    "ON(personal_name = name_first\n",
    "AND family_name = name_last)\n",
    "JOIN rookery.birds\n",
    "ON(scientific_name = science_name) );"
   ]
  },
  {
   "cell_type": "markdown",
   "metadata": {},
   "source": [
    "### Table Subqueries"
   ]
  },
  {
   "cell_type": "code",
   "execution_count": 167,
   "metadata": {},
   "outputs": [
    {
     "data": {
      "text/html": [
       "Query OK"
      ]
     },
     "metadata": {},
     "output_type": "display_data"
    }
   ],
   "source": [
    "SELECT family AS 'Bird Family',\n",
    "COUNT(*) AS 'Number of Birds'\n",
    "FROM\n",
    "(SELECT families.scientific_name AS family\n",
    "FROM birds\n",
    "JOIN bird_families AS families USING(scientific_name)\n",
    "WHERE families.scientific_name IN('Pelecanidae','Ardeidae')) AS derived_1\n",
    "GROUP BY family;"
   ]
  },
  {
   "cell_type": "markdown",
   "metadata": {},
   "source": [
    "# Part IV. Built-In Functions"
   ]
  },
  {
   "cell_type": "markdown",
   "metadata": {},
   "source": [
    "# Chapter 10. String Functions"
   ]
  },
  {
   "cell_type": "markdown",
   "metadata": {},
   "source": [
    "## Formatting Strings"
   ]
  },
  {
   "cell_type": "markdown",
   "metadata": {},
   "source": [
    "### Concatenating Strings"
   ]
  },
  {
   "cell_type": "code",
   "execution_count": 31,
   "metadata": {},
   "outputs": [
    {
     "data": {
      "text/html": [
       "Query OK"
      ]
     },
     "metadata": {},
     "output_type": "display_data"
    }
   ],
   "source": [
    "use rookery;"
   ]
  },
  {
   "cell_type": "code",
   "execution_count": 20,
   "metadata": {},
   "outputs": [
    {
     "data": {
      "text/html": [
       "Query OK"
      ]
     },
     "metadata": {},
     "output_type": "display_data"
    }
   ],
   "source": [
    "use birdwatchers;"
   ]
  },
  {
   "cell_type": "code",
   "execution_count": 3,
   "metadata": {},
   "outputs": [
    {
     "name": "stderr",
     "output_type": "stream",
     "text": [
      "Table 'birdwatchers.bird_sightings' doesn't exist\n",
      "\u0007\u001b(B\u001b[0;7m\u001b(B\u001b[m\n"
     ]
    }
   ],
   "source": [
    "SELECT CONCAT(formal_title, '. ', name_first, SPACE(1), name_last) AS Birder,\n",
    "CONCAT(common_name, ' - ', birds.scientific_name) AS Bird,\n",
    "time_seen AS 'When Spotted'\n",
    "FROM birdwatchers.bird_sightings\n",
    "JOIN birdwatchers.humans USING(human_id)\n",
    "JOIN rookery.birds USING(bird_id)\n",
    "GROUP BY human_id DESC\n",
    "LIMIT 4;"
   ]
  },
  {
   "cell_type": "markdown",
   "metadata": {},
   "source": [
    "### Setting Case and Quotes"
   ]
  },
  {
   "cell_type": "code",
   "execution_count": 11,
   "metadata": {},
   "outputs": [
    {
     "data": {
      "text/html": [
       "Query OK"
      ]
     },
     "metadata": {},
     "output_type": "display_data"
    }
   ],
   "source": [
    "SELECT LCASE(common_name) AS Species,\n",
    "UCASE(bird_families.scientific_name) AS Family\n",
    "FROM birds\n",
    "JOIN bird_families USING(scientific_name)\n",
    "WHERE common_name LIKE '%Wren%'\n",
    "ORDER BY Species\n",
    "LIMIT 5;"
   ]
  },
  {
   "cell_type": "code",
   "execution_count": 12,
   "metadata": {},
   "outputs": [
    {
     "data": {
      "text/html": [
       "Query OK"
      ]
     },
     "metadata": {},
     "output_type": "display_data"
    }
   ],
   "source": [
    "SELECT QUOTE(common_name)\n",
    "FROM birds\n",
    "WHERE common_name LIKE \"%Prince%\"\n",
    "ORDER BY common_name;"
   ]
  },
  {
   "cell_type": "markdown",
   "metadata": {},
   "source": [
    "### Trimming and Padding Strings"
   ]
  },
  {
   "cell_type": "code",
   "execution_count": 13,
   "metadata": {},
   "outputs": [
    {
     "data": {
      "text/html": [
       "Query OK"
      ]
     },
     "metadata": {},
     "output_type": "display_data"
    }
   ],
   "source": [
    "use birdwatchers;"
   ]
  },
  {
   "cell_type": "code",
   "execution_count": 14,
   "metadata": {},
   "outputs": [
    {
     "data": {
      "text/html": [
       "Query OK"
      ]
     },
     "metadata": {},
     "output_type": "display_data"
    }
   ],
   "source": [
    "UPDATE humans\n",
    "SET name_first = LTRIM(name_first),\n",
    "name_last = LTRIM(name_last);\n",
    "\n",
    "UPDATE humans\n",
    "SET name_first = RTRIM(name_first),\n",
    "name_last = RTRIM(name_last);"
   ]
  },
  {
   "cell_type": "code",
   "execution_count": 15,
   "metadata": {},
   "outputs": [
    {
     "data": {
      "text/html": [
       "Query OK"
      ]
     },
     "metadata": {},
     "output_type": "display_data"
    }
   ],
   "source": [
    "UPDATE humans\n",
    "SET name_first = LTRIM( RTRIM(name_last) ),\n",
    "name_last = LTRIM( RTRIM(name_last) );"
   ]
  },
  {
   "cell_type": "code",
   "execution_count": 16,
   "metadata": {},
   "outputs": [
    {
     "data": {
      "text/html": [
       "Query OK"
      ]
     },
     "metadata": {},
     "output_type": "display_data"
    }
   ],
   "source": [
    "UPDATE humans\n",
    "SET name_first = TRIM(name_first),\n",
    "name_last = TRIM(name_last);"
   ]
  },
  {
   "cell_type": "code",
   "execution_count": 18,
   "metadata": {},
   "outputs": [
    {
     "name": "stderr",
     "output_type": "stream",
     "text": [
      "You have an error in your SQL syntax; check the manual that corresponds to your MariaDB server version for the right syntax to use near 'JOIN rookery.birds\n",
      "ON(scientific_name = TRIM(BOTH '\"' FROM science_name) )' at line 1\n",
      "\u0007\u001b(B\u001b[0;7m\u001b(B\u001b[m\n"
     ]
    }
   ],
   "source": [
    "JOIN rookery.birds\n",
    "ON(scientific_name = TRIM(BOTH '\"' FROM science_name) );"
   ]
  },
  {
   "cell_type": "code",
   "execution_count": 23,
   "metadata": {},
   "outputs": [
    {
     "data": {
      "text/html": [
       "Query OK"
      ]
     },
     "metadata": {},
     "output_type": "display_data"
    }
   ],
   "source": [
    "SELECT CONCAT(RPAD(common_name, 20, '.' ),\n",
    "RPAD(Families.scientific_name, 15, '.'),\n",
    "Orders.scientific_name) AS Birds\n",
    "FROM birds\n",
    "JOIN bird_families AS Families USING(scientific_name)\n",
    "JOIN bird_orders AS Orders\n",
    "WHERE common_name != ''\n",
    "AND Orders.scientific_name = 'Ciconiiformes'\n",
    "ORDER BY common_name LIMIT 3;"
   ]
  },
  {
   "cell_type": "markdown",
   "metadata": {},
   "source": [
    "## Extracting Text"
   ]
  },
  {
   "cell_type": "code",
   "execution_count": 24,
   "metadata": {},
   "outputs": [
    {
     "name": "stderr",
     "output_type": "stream",
     "text": [
      "Table 'rookery.prospects' doesn't exist\n",
      "\u0007\u001b(B\u001b[0;7m\u001b(B\u001b[m\n"
     ]
    }
   ],
   "source": [
    "SELECT prospect_name\n",
    "\n",
    "FROM prospects LIMIT 4;"
   ]
  },
  {
   "cell_type": "code",
   "execution_count": 26,
   "metadata": {},
   "outputs": [
    {
     "name": "stderr",
     "output_type": "stream",
     "text": [
      "Table 'rookery.prospects' doesn't exist\n",
      "\u0007\u001b(B\u001b[0;7m\u001b(B\u001b[m\n"
     ]
    }
   ],
   "source": [
    "SELECT LEFT(prospect_name, 2) AS title,\n",
    "MID(prospect_name, 5, 25) AS first_name,\n",
    "RIGHT(prospect_name, 25) AS last_name\n",
    "FROM prospects LIMIT 4;"
   ]
  },
  {
   "cell_type": "code",
   "execution_count": 30,
   "metadata": {},
   "outputs": [
    {
     "name": "stderr",
     "output_type": "stream",
     "text": [
      "Table 'mysql.prospects' doesn't exist\n",
      "\u0007\u001b(B\u001b[0;7m\u001b(B\u001b[m\n"
     ]
    }
   ],
   "source": [
    "SELECT SUBSTRING(prospect_name, 1, 2) AS title,\n",
    "SUBSTRING(prospect_name FROM 5 FOR 25) AS first_name,\n",
    "SUBSTRING(prospect_name, -25) AS last_name\n",
    "FROM prospects LIMIT 3;"
   ]
  },
  {
   "cell_type": "markdown",
   "metadata": {},
   "source": [
    "## Searching Strings and Using Lengths"
   ]
  },
  {
   "cell_type": "markdown",
   "metadata": {},
   "source": [
    "### Locating Text Within a String"
   ]
  },
  {
   "cell_type": "code",
   "execution_count": 32,
   "metadata": {},
   "outputs": [
    {
     "data": {
      "text/html": [
       "Query OK"
      ]
     },
     "metadata": {},
     "output_type": "display_data"
    }
   ],
   "source": [
    "SELECT common_name AS 'Avocet'\n",
    "FROM birds\n",
    "JOIN bird_families USING(scientific_name)\n",
    "WHERE bird_families.scientific_name = 'Recurvirostridae'\n",
    "AND birds.common_name LIKE '%Avocet%';"
   ]
  },
  {
   "cell_type": "code",
   "execution_count": 33,
   "metadata": {},
   "outputs": [
    {
     "data": {
      "text/html": [
       "Query OK"
      ]
     },
     "metadata": {},
     "output_type": "display_data"
    }
   ],
   "source": [
    "SELECT\n",
    "SUBSTRING(common_name, 1, LOCATE(' Avocet', common_name) ) AS 'Avocet'\n",
    "FROM birds\n",
    "JOIN bird_families USING(scientific_name)\n",
    "WHERE bird_families.scientific_name = 'Recurvirostridae'\n",
    "AND birds.common_name LIKE '%Avocet%';"
   ]
  },
  {
   "cell_type": "code",
   "execution_count": 36,
   "metadata": {},
   "outputs": [
    {
     "data": {
      "text/html": [
       "Query OK"
      ]
     },
     "metadata": {},
     "output_type": "display_data"
    }
   ],
   "source": [
    "use birdwatchers;"
   ]
  },
  {
   "cell_type": "code",
   "execution_count": 37,
   "metadata": {},
   "outputs": [
    {
     "name": "stderr",
     "output_type": "stream",
     "text": [
      "Unknown column 'join_date' in 'field list'\n",
      "\u0007\u001b(B\u001b[0;7m\u001b(B\u001b[m\n"
     ]
    }
   ],
   "source": [
    "SELECT human_id,\n",
    "CONCAT(name_first, SPACE(1), name_last) AS Name,\n",
    "join_date\n",
    "FROM humans\n",
    "WHERE country_id = 'ru'\n",
    "ORDER BY join_date;"
   ]
  },
  {
   "cell_type": "code",
   "execution_count": 38,
   "metadata": {},
   "outputs": [
    {
     "name": "stderr",
     "output_type": "stream",
     "text": [
      "Unknown column 'join_date' in 'field list'\n",
      "\u0007\u001b(B\u001b[0;7m\u001b(B\u001b[m\n"
     ]
    }
   ],
   "source": [
    "SELECT FIND_IN_SET('Anahit Vanetsyan', Names) AS Position\n",
    "FROM\n",
    "(SELECT GROUP_CONCAT(Name ORDER BY join_date) AS Names\n",
    "FROM\n",
    "( SELECT CONCAT(name_first, SPACE(1), name_last) AS Name,\n",
    "join_date\n",
    "FROM humans\n",
    "WHERE country_id = 'ru')\n",
    "AS derived_1 )\n",
    "AS derived_2;"
   ]
  },
  {
   "cell_type": "markdown",
   "metadata": {},
   "source": [
    "### String Lengths"
   ]
  },
  {
   "cell_type": "code",
   "execution_count": null,
   "metadata": {},
   "outputs": [],
   "source": [
    "SELECT IF(CHAR_LENGTH(comments) > 100), 'long', 'short')\n",
    "FROM bird_sightings\n",
    "WHERE sighting_id = 2;"
   ]
  },
  {
   "cell_type": "code",
   "execution_count": null,
   "metadata": {},
   "outputs": [],
   "source": [
    "SELECT sighting_id\n",
    "FROM bird_sightings\n",
    "WHERE CHARACTER_LENGTH(comments) != LENGTH(comments);"
   ]
  },
  {
   "cell_type": "markdown",
   "metadata": {},
   "source": [
    "### Comparing and Searching Strings"
   ]
  },
  {
   "cell_type": "code",
   "execution_count": 58,
   "metadata": {},
   "outputs": [
    {
     "data": {
      "text/html": [
       "Query OK"
      ]
     },
     "metadata": {},
     "output_type": "display_data"
    }
   ],
   "source": [
    "use birdwatchers;"
   ]
  },
  {
   "cell_type": "code",
   "execution_count": 46,
   "metadata": {},
   "outputs": [
    {
     "data": {
      "text/html": [
       "Query OK"
      ]
     },
     "metadata": {},
     "output_type": "display_data"
    }
   ],
   "source": [
    "use rookery;"
   ]
  },
  {
   "cell_type": "code",
   "execution_count": 40,
   "metadata": {},
   "outputs": [
    {
     "data": {
      "text/html": [
       "Query OK"
      ]
     },
     "metadata": {},
     "output_type": "display_data"
    }
   ],
   "source": [
    "CREATE TABLE possible_duplicate_email\n",
    "(human_id INT,\n",
    "email_address1 VARCHAR(255),\n",
    "email_address2 VARCHAR(255),\n",
    "entry_date datetime );"
   ]
  },
  {
   "cell_type": "code",
   "execution_count": 41,
   "metadata": {},
   "outputs": [
    {
     "name": "stderr",
     "output_type": "stream",
     "text": [
      "You have an error in your SQL syntax; check the manual that corresponds to your MariaDB server version for the right syntax to use near 'WHERE ABS( STRCMP('bobbyrobin@mymail.com', 'bobyrobin@mymail.com') ) = 1' at line 4\n",
      "\u0007\u001b(B\u001b[0;7m\u001b(B\u001b[m\n"
     ]
    }
   ],
   "source": [
    "INSERT IGNORE INTO possible_duplicate_email\n",
    "(human_id, email_address_1, email_address_2, entry_date)\n",
    "VALUES(LAST_INSERT_ID(), 'bobyfischer@mymail.com', 'bobbyfischer@mymail.com')\n",
    "WHERE ABS( STRCMP('bobbyrobin@mymail.com', 'bobyrobin@mymail.com') ) = 1 ;"
   ]
  },
  {
   "cell_type": "code",
   "execution_count": 42,
   "metadata": {},
   "outputs": [
    {
     "name": "stderr",
     "output_type": "stream",
     "text": [
      "Table 'birdwatchers.bird_sightings' doesn't exist\n",
      "\u0007\u001b(B\u001b[0;7m\u001b(B\u001b[m\n"
     ]
    }
   ],
   "source": [
    "CREATE FULLTEXT INDEX comment_index\n",
    "ON bird_sightings (comments);"
   ]
  },
  {
   "cell_type": "code",
   "execution_count": 43,
   "metadata": {},
   "outputs": [
    {
     "name": "stderr",
     "output_type": "stream",
     "text": [
      "Table 'birdwatchers.bird_sightings' doesn't exist\n",
      "\u0007\u001b(B\u001b[0;7m\u001b(B\u001b[m\n"
     ]
    }
   ],
   "source": [
    "SELECT CONCAT(name_first, SPACE(1), name_last) AS Name,\n",
    "common_name AS Bird,\n",
    "SUBSTRING(comments, 1, 25) AS Comments\n",
    "FROM birdwatchers.bird_sightings\n",
    "JOIN birdwatchers.humans USING(human_id)\n",
    "JOIN rookery.birds USING(bird_id)\n",
    "WHERE MATCH (comments) AGAINST ('beautiful');"
   ]
  },
  {
   "cell_type": "markdown",
   "metadata": {},
   "source": [
    "### Replacing and Inserting into Strings"
   ]
  },
  {
   "cell_type": "code",
   "execution_count": 47,
   "metadata": {},
   "outputs": [
    {
     "data": {
      "text/html": [
       "Query OK"
      ]
     },
     "metadata": {},
     "output_type": "display_data"
    }
   ],
   "source": [
    "SELECT INSERT(common_name, 6, 0, ' (i.e., Smallest)')\n",
    "AS 'Smallest Birds'\n",
    "FROM birds\n",
    "WHERE common_name LIKE 'Least %' LIMIT 1;"
   ]
  },
  {
   "cell_type": "code",
   "execution_count": 48,
   "metadata": {},
   "outputs": [
    {
     "data": {
      "text/html": [
       "Query OK"
      ]
     },
     "metadata": {},
     "output_type": "display_data"
    }
   ],
   "source": [
    "SELECT common_name AS Original,\n",
    "INSERT(common_name, LOCATE('Gt.', common_name), 3, 'Great') AS Adjusted\n",
    "FROM birds\n",
    "WHERE common_name REGEXP 'Gt.' LIMIT 1;"
   ]
  },
  {
   "cell_type": "code",
   "execution_count": 49,
   "metadata": {},
   "outputs": [
    {
     "data": {
      "text/html": [
       "Query OK"
      ]
     },
     "metadata": {},
     "output_type": "display_data"
    }
   ],
   "source": [
    "UPDATE birds\n",
    "SET common_name = INSERT(common_name, LOCATE('Gt.', common_name), 3, 'Great')\n",
    "WHERE common_name REGEXP 'Gt.';"
   ]
  },
  {
   "cell_type": "code",
   "execution_count": 50,
   "metadata": {},
   "outputs": [
    {
     "data": {
      "text/html": [
       "Query OK"
      ]
     },
     "metadata": {},
     "output_type": "display_data"
    }
   ],
   "source": [
    "SELECT common_name AS Original,\n",
    "REPLACE(common_name, 'Gt.', 'Great') AS Replaced\n",
    "FROM birds\n",
    "WHERE common_name REGEXP 'Gt.' LIMIT 1;"
   ]
  },
  {
   "cell_type": "code",
   "execution_count": 51,
   "metadata": {},
   "outputs": [
    {
     "data": {
      "text/html": [
       "Query OK"
      ]
     },
     "metadata": {},
     "output_type": "display_data"
    }
   ],
   "source": [
    "UPDATE birds\n",
    "SET common_name = REPLACE(common_name, 'Gt.', 'Great');"
   ]
  },
  {
   "cell_type": "markdown",
   "metadata": {},
   "source": [
    "## Converting String Types"
   ]
  },
  {
   "cell_type": "code",
   "execution_count": 52,
   "metadata": {},
   "outputs": [
    {
     "name": "stderr",
     "output_type": "stream",
     "text": [
      "Table 'rookery.bird_images' doesn't exist\n",
      "\u0007\u001b(B\u001b[0;7m\u001b(B\u001b[m\n"
     ]
    }
   ],
   "source": [
    "SELECT sorting_id, bird_name, bird_image\n",
    "FROM bird_images\n",
    "ORDER BY sorting_id\n",
    "LIMIT 5;"
   ]
  },
  {
   "cell_type": "code",
   "execution_count": 53,
   "metadata": {},
   "outputs": [
    {
     "name": "stderr",
     "output_type": "stream",
     "text": [
      "Table 'rookery.bird_images' doesn't exist\n",
      "\u0007\u001b(B\u001b[0;7m\u001b(B\u001b[m\n"
     ]
    }
   ],
   "source": [
    "SELECT sorting_id, bird_name, bird_image\n",
    "FROM bird_images ORDER BY CAST(sorting_id AS INT) LIMIT 5;"
   ]
  },
  {
   "cell_type": "code",
   "execution_count": 54,
   "metadata": {},
   "outputs": [
    {
     "name": "stderr",
     "output_type": "stream",
     "text": [
      "Table 'rookery.bird_images' doesn't exist\n",
      "\u0007\u001b(B\u001b[0;7m\u001b(B\u001b[m\n"
     ]
    }
   ],
   "source": [
    "SELECT bird_name, gender_age, bird_image\n",
    "FROM bird_images\n",
    "WHERE bird_name LIKE '%Plover%'\n",
    "ORDER BY gender_age\n",
    "LIMIT 5;"
   ]
  },
  {
   "cell_type": "code",
   "execution_count": 55,
   "metadata": {},
   "outputs": [
    {
     "name": "stderr",
     "output_type": "stream",
     "text": [
      "Table 'rookery.bird_images' doesn't exist\n",
      "\u0007\u001b(B\u001b[0;7m\u001b(B\u001b[m\n"
     ]
    }
   ],
   "source": [
    "SELECT bird_name, gender_age, bird_image\n",
    "FROM bird_images\n",
    "WHERE bird_name LIKE '%Plover%'\n",
    "ORDER BY CONVERT(gender_age, CHAR)\n",
    "LIMIT 5;"
   ]
  },
  {
   "cell_type": "code",
   "execution_count": 56,
   "metadata": {},
   "outputs": [
    {
     "name": "stderr",
     "output_type": "stream",
     "text": [
      "Table 'rookery.bird_images' doesn't exist\n",
      "\u0007\u001b(B\u001b[0;7m\u001b(B\u001b[m\n"
     ]
    }
   ],
   "source": [
    "SELECT bird_name, gender_age, bird_image\n",
    "FROM bird_images\n",
    "WHERE bird_name LIKE '%Plover%'\n",
    "ORDER BY CONVERT(gender_age USING utf8)\n",
    "LIMIT 5;"
   ]
  },
  {
   "cell_type": "markdown",
   "metadata": {},
   "source": [
    "## Compressing Strings"
   ]
  },
  {
   "cell_type": "code",
   "execution_count": 59,
   "metadata": {},
   "outputs": [
    {
     "name": "stderr",
     "output_type": "stream",
     "text": [
      "Unknown column 'join_date' in 'field list'\n",
      "\u0007\u001b(B\u001b[0;7m\u001b(B\u001b[m\n"
     ]
    }
   ],
   "source": [
    "INSERT INTO humans\n",
    "(formal_title, name_first, name_last, join_date, birding_background)\n",
    "VALUES('Ms', 'Melissa', 'Lee', CURDATE(), COMPRESS(\"lengthy background…\"));"
   ]
  },
  {
   "cell_type": "code",
   "execution_count": 60,
   "metadata": {},
   "outputs": [
    {
     "name": "stderr",
     "output_type": "stream",
     "text": [
      "Unknown column 'birding_background' in 'field list'\n",
      "\u0007\u001b(B\u001b[0;7m\u001b(B\u001b[m\n"
     ]
    }
   ],
   "source": [
    "SELECT birding_background AS Background\n",
    "FROM humans\n",
    "WHERE name_first = 'Melissa' AND name_last = 'Lee';"
   ]
  },
  {
   "cell_type": "code",
   "execution_count": 61,
   "metadata": {},
   "outputs": [
    {
     "name": "stderr",
     "output_type": "stream",
     "text": [
      "Unknown column 'birding_background' in 'field list'\n",
      "\u0007\u001b(B\u001b[0;7m\u001b(B\u001b[m\n"
     ]
    }
   ],
   "source": [
    "SELECT UNCOMPRESS(birding_background) AS Background\n",
    "FROM humans\n",
    "WHERE name_first = 'Melissa' AND name_last = 'Lee';"
   ]
  },
  {
   "cell_type": "markdown",
   "metadata": {},
   "source": [
    "# Chapter 15. Bulk Importing Data"
   ]
  },
  {
   "cell_type": "markdown",
   "metadata": {},
   "source": [
    "## Preparing to Import"
   ]
  },
  {
   "cell_type": "code",
   "execution_count": 3,
   "metadata": {},
   "outputs": [
    {
     "data": {
      "text/html": [
       "Query OK"
      ]
     },
     "metadata": {},
     "output_type": "display_data"
    }
   ],
   "source": [
    "CREATE TABLE rookery.clements_list_import\n",
    "(id INT, change_type VARCHAR(255),\n",
    "col2 CHAR(0), col3 CHAR(0),\n",
    "scientific_name VARCHAR(255),\n",
    "english_name VARCHAR(255),\n",
    "col6 CHAR(0), `order` VARCHAR(255),\n",
    "family VARCHAR(255),\n",
    "col9 CHAR(0), col10 CHAR(0),\n",
    "col11 CHAR(0), col12 CHAR(0),\n",
    "col13 CHAR(0), col14 CHAR(0),\n",
    "col15 CHAR(0), col16 CHAR(0), col17 CHAR(0));"
   ]
  },
  {
   "cell_type": "markdown",
   "metadata": {},
   "source": [
    "## Loading Data Basics"
   ]
  },
  {
   "cell_type": "code",
   "execution_count": 4,
   "metadata": {},
   "outputs": [
    {
     "data": {
      "text/html": [
       "Query OK"
      ]
     },
     "metadata": {},
     "output_type": "display_data"
    }
   ],
   "source": [
    "SELECT * FROM rookery.clements_list_import LIMIT 2;"
   ]
  },
  {
   "cell_type": "markdown",
   "metadata": {},
   "source": [
    "### Checking the Accuracy of the Import"
   ]
  },
  {
   "cell_type": "code",
   "execution_count": 5,
   "metadata": {},
   "outputs": [
    {
     "data": {
      "text/html": [
       "Query OK"
      ]
     },
     "metadata": {},
     "output_type": "display_data"
    }
   ],
   "source": [
    "SELECT id, change_type,\n",
    "scientific_name, english_name,\n",
    "`order`, family\n",
    "FROM rookery.clements_list_import\n",
    "WHERE change_type = 'new species' LIMIT 2;"
   ]
  },
  {
   "cell_type": "code",
   "execution_count": 6,
   "metadata": {},
   "outputs": [
    {
     "data": {
      "text/html": [
       "Query OK"
      ]
     },
     "metadata": {},
     "output_type": "display_data"
    }
   ],
   "source": [
    "SELECT id, change_type,\n",
    "scientific_name, english_name,\n",
    "`order`, family\n",
    "FROM rookery.clements_list_import\n",
    "WHERE change_type = 'new species' LIMIT 2;"
   ]
  },
  {
   "cell_type": "code",
   "execution_count": 8,
   "metadata": {},
   "outputs": [
    {
     "data": {
      "text/html": [
       "Query OK"
      ]
     },
     "metadata": {},
     "output_type": "display_data"
    }
   ],
   "source": [
    "### Selecting Imported Data;"
   ]
  },
  {
   "cell_type": "code",
   "execution_count": 10,
   "metadata": {},
   "outputs": [
    {
     "data": {
      "text/html": [
       "Query OK"
      ]
     },
     "metadata": {},
     "output_type": "display_data"
    }
   ],
   "source": [
    "CREATE TABLE rookery.birds_news\n",
    "LIKE rookery.birds;"
   ]
  },
  {
   "cell_type": "code",
   "execution_count": 11,
   "metadata": {},
   "outputs": [
    {
     "data": {
      "text/html": [
       "Query OK"
      ]
     },
     "metadata": {},
     "output_type": "display_data"
    }
   ],
   "source": [
    "use rookery;"
   ]
  },
  {
   "cell_type": "code",
   "execution_count": 23,
   "metadata": {},
   "outputs": [
    {
     "data": {
      "text/html": [
       "Query OK"
      ]
     },
     "metadata": {},
     "output_type": "display_data"
    }
   ],
   "source": [
    "INSERT INTO birds_new\n",
    "(scientific_name, common_name, famyly_id)\n",
    "SELECT clements.scientific_name, english_name, bird_families.family_id\n",
    "FROM clements_list_import AS clements\n",
    "JOIN bird_families\n",
    "ON bird_families.scientific_name =\n",
    "SUBSTRING(family, 1, LOCATE(' (', family) )\n",
    "WHERE change_type = 'new species';"
   ]
  },
  {
   "cell_type": "code",
   "execution_count": 21,
   "metadata": {},
   "outputs": [
    {
     "data": {
      "text/html": [
       "Query OK"
      ]
     },
     "metadata": {},
     "output_type": "display_data"
    }
   ],
   "source": [
    "SELECT birds_new.scientific_name,\n",
    "common_name, family_id,\n",
    "bird_families.scientific_name AS family\n",
    "FROM birds_new\n",
    "JOIN bird_families USING(scientific_name);"
   ]
  },
  {
   "cell_type": "markdown",
   "metadata": {},
   "source": [
    "## Better Loading"
   ]
  },
  {
   "cell_type": "markdown",
   "metadata": {},
   "source": [
    "### Mapping Fields"
   ]
  },
  {
   "cell_type": "code",
   "execution_count": 26,
   "metadata": {},
   "outputs": [
    {
     "data": {
      "text/html": [
       "Query OK"
      ]
     },
     "metadata": {},
     "output_type": "display_data"
    }
   ],
   "source": [
    "DROP TABLE rookery.clements_list_import;\n",
    "CREATE TABLE rookery.clements_list_import\n",
    "(id INT, scientific_name VARCHAR(255),\n",
    "english_name VARCHAR(255), family VARCHAR(255),\n",
    "bird_order VARCHAR(255), change_type VARCHAR(255));"
   ]
  },
  {
   "cell_type": "code",
   "execution_count": 27,
   "metadata": {},
   "outputs": [
    {
     "name": "stderr",
     "output_type": "stream",
     "text": [
      "Can't get stat of '/tmp/Clements-Checklist-6.9-final.csv' (Errcode: 2 \"No such file or directory\")\n",
      "\u0007\u001b(B\u001b[0;7m\u001b(B\u001b[m\n"
     ]
    }
   ],
   "source": [
    "LOAD DATA INFILE '/tmp/Clements-Checklist-6.9-final.csv'\n",
    "INTO TABLE rookery.clements_list_import\n",
    "FIELDS TERMINATED BY ',' OPTIONALLY ENCLOSED BY '\"'\n",
    "IGNORE 1 LINES\n",
    "(id, change_type, @niente, @niente,\n",
    "scientific_name, english_name,\n",
    "@niente, bird_order, family, @niente,\n",
    "@niente, @niente, @niente, @niente,\n",
    "@niente, @niente, @niente, @niente);"
   ]
  },
  {
   "cell_type": "code",
   "execution_count": 28,
   "metadata": {},
   "outputs": [
    {
     "data": {
      "text/html": [
       "Query OK"
      ]
     },
     "metadata": {},
     "output_type": "display_data"
    }
   ],
   "source": [
    "SELECT * FROM rookery.clements_list_import\n",
    "WHERE change_type='new species'\n",
    "ORDER BY id DESC LIMIT 2;"
   ]
  },
  {
   "cell_type": "markdown",
   "metadata": {},
   "source": [
    "## Setting Columns"
   ]
  },
  {
   "cell_type": "code",
   "execution_count": 29,
   "metadata": {},
   "outputs": [
    {
     "name": "stderr",
     "output_type": "stream",
     "text": [
      "Can't get stat of '/tmp/Clements-Checklist-6.9-final.csv' (Errcode: 2 \"No such file or directory\")\n",
      "\u0007\u001b(B\u001b[0;7m\u001b(B\u001b[m\n"
     ]
    }
   ],
   "source": [
    "DELETE FROM rookery.clements_list_import;\n",
    "LOAD DATA INFILE '/tmp/Clements-Checklist-6.9-final.csv'\n",
    "INTO TABLE rookery.clements_list_import\n",
    "FIELDS TERMINATED BY ',' OPTIONALLY ENCLOSED BY '\"'\n",
    "IGNORE 1 LINES\n",
    "(id, change_type, @niente, @niente,\n",
    "scientific_name, english_name,\n",
    "@niente, bird_order, @family, @niente,\n",
    "@niente, @niente, @niente, @niente,\n",
    "@niente, @niente, @niente, @niente, @niente)\n",
    "SET family = SUBSTRING(@family, 1, LOCATE(' (', @family) );"
   ]
  },
  {
   "cell_type": "code",
   "execution_count": 30,
   "metadata": {},
   "outputs": [
    {
     "data": {
      "text/html": [
       "Query OK"
      ]
     },
     "metadata": {},
     "output_type": "display_data"
    }
   ],
   "source": [
    "SELECT * FROM rookery.clements_list_import\n",
    "WHERE change_type='new species'\n",
    "AND english_name LIKE '%Treehunter%' ;"
   ]
  },
  {
   "cell_type": "markdown",
   "metadata": {},
   "source": [
    "## More Field and Line Definitions"
   ]
  },
  {
   "cell_type": "markdown",
   "metadata": {},
   "source": [
    "### Starting, Terminating, and Escaping"
   ]
  },
  {
   "cell_type": "code",
   "execution_count": 31,
   "metadata": {},
   "outputs": [
    {
     "data": {
      "text/html": [
       "Query OK"
      ]
     },
     "metadata": {},
     "output_type": "display_data"
    }
   ],
   "source": [
    "CREATE TABLE birdwatchers.birdwatcher_prospects_import\n",
    "(prospect_id INT AUTO_INCREMENT KEY,\n",
    "prospect_name VARCHAR(255),\n",
    "prospect_email VARCHAR(255) UNIQUE,\n",
    "prospect_country VARCHAR(255));"
   ]
  },
  {
   "cell_type": "code",
   "execution_count": 32,
   "metadata": {},
   "outputs": [
    {
     "name": "stderr",
     "output_type": "stream",
     "text": [
      "Can't get stat of '/tmp/birdwatcher-prospects.csv' (Errcode: 2 \"No such file or directory\")\n",
      "\u0007\u001b(B\u001b[0;7m\u001b(B\u001b[m\n"
     ]
    }
   ],
   "source": [
    "LOAD DATA INFILE '/tmp/birdwatcher-prospects.csv'\n",
    "INTO TABLE birdwatchers.birdwatcher_prospects_import\n",
    "FIELDS TERMINATED BY '|' ENCLOSED BY '\"' ESCAPED BY '\\\\'\n",
    "LINES STARTING BY '[' TERMINATED BY ']\\r\\n'\n",
    "IGNORE 1 LINES\n",
    "(prospect_name, prospect_email, prospect_country);"
   ]
  },
  {
   "cell_type": "markdown",
   "metadata": {},
   "source": [
    "### Replacing Data Versus Ignoring Errors"
   ]
  },
  {
   "cell_type": "code",
   "execution_count": 33,
   "metadata": {},
   "outputs": [
    {
     "name": "stderr",
     "output_type": "stream",
     "text": [
      "Can't get stat of '/tmp/birdwatcher-prospects.csv' (Errcode: 2 \"No such file or directory\")\n",
      "\u0007\u001b(B\u001b[0;7m\u001b(B\u001b[m\n"
     ]
    }
   ],
   "source": [
    "LOAD DATA INFILE '/tmp/birdwatcher-prospects.csv'\n",
    "IGNORE INTO TABLE birdwatchers.birdwatcher_prospects_import\n",
    "FIELDS TERMINATED BY '|' ENCLOSED BY '\"' ESCAPED BY '\\\\'\n",
    "LINES STARTING BY '[' TERMINATED BY ']\\r\\n'\n",
    "IGNORE 1 LINES\n",
    "(prospect_name, prospect_email, prospect_country);"
   ]
  },
  {
   "cell_type": "code",
   "execution_count": 34,
   "metadata": {},
   "outputs": [
    {
     "data": {
      "text/html": [
       "Query OK"
      ]
     },
     "metadata": {},
     "output_type": "display_data"
    }
   ],
   "source": [
    "SELECT * FROM birdwatchers.birdwatcher_prospects_import\n",
    "WHERE prospect_name LIKE '%Sveta%' ;"
   ]
  },
  {
   "cell_type": "code",
   "execution_count": 35,
   "metadata": {},
   "outputs": [
    {
     "name": "stderr",
     "output_type": "stream",
     "text": [
      "Can't get stat of '/tmp/birdwatcher-prospects.csv' (Errcode: 2 \"No such file or directory\")\n",
      "\u0007\u001b(B\u001b[0;7m\u001b(B\u001b[m\n"
     ]
    }
   ],
   "source": [
    "LOAD DATA INFILE '/tmp/birdwatcher-prospects.csv'\n",
    "REPLACE INTO TABLE birdwatchers.birdwatcher_prospects_import\n",
    "FIELDS TERMINATED BY '|' ENCLOSED BY '\"' ESCAPED BY '\\\\'\n",
    "LINES STARTING BY '[' TERMINATED BY ']\\n'\n",
    "IGNORE 1 LINES\n",
    "(prospect_name, prospect_email, prospect_country);"
   ]
  },
  {
   "cell_type": "code",
   "execution_count": 36,
   "metadata": {},
   "outputs": [
    {
     "data": {
      "text/html": [
       "Query OK"
      ]
     },
     "metadata": {},
     "output_type": "display_data"
    }
   ],
   "source": [
    "SELECT * FROM birdwatchers.birdwatcher_prospects_import\n",
    "WHERE prospect_name LIKE '%Sveta%' ;"
   ]
  },
  {
   "cell_type": "markdown",
   "metadata": {},
   "source": [
    "## Importing from Outside MySQL"
   ]
  },
  {
   "cell_type": "markdown",
   "metadata": {},
   "source": [
    "### Importing Local Files"
   ]
  },
  {
   "cell_type": "code",
   "execution_count": 37,
   "metadata": {},
   "outputs": [
    {
     "data": {
      "text/html": [
       "Stage: 2 of 2 'End bulk insert'      0% of stage done\r",
       "ERROR 2 (HY000) at line 1 in file: '/home/jhon/Notebooks de linux/.mariadb_statement': File '/tmp/birdwatcher-prospects.csv' not found (Errcode: 2)\r\n",
       "\u0007\u001b(B\u001b[0;7m\u001b(B\u001b[m                                                     \r"
      ]
     },
     "metadata": {},
     "output_type": "display_data"
    }
   ],
   "source": [
    "LOAD DATA LOCAL INFILE '/tmp/birdwatcher-prospects.csv'\n",
    "REPLACE INTO TABLE birdwatchers.birdwatcher_prospects_import\n",
    "FIELDS TERMINATED BY '|' ENCLOSED BY '\"' ESCAPED BY '\\\\'\n",
    "LINES STARTING BY '[' TERMINATED BY ']\\n'\n",
    "IGNORE 1 LINES\n",
    "(prospect_name, prospect_email, prospect_country);"
   ]
  },
  {
   "cell_type": "markdown",
   "metadata": {},
   "source": [
    "## Using mysqlimport"
   ]
  },
  {
   "cell_type": "markdown",
   "metadata": {},
   "source": [
    "## Bulk Exporting Data"
   ]
  },
  {
   "cell_type": "code",
   "execution_count": 39,
   "metadata": {},
   "outputs": [
    {
     "data": {
      "text/html": [
       "Query OK"
      ]
     },
     "metadata": {},
     "output_type": "display_data"
    }
   ],
   "source": [
    "SELECT birds.scientific_name,\n",
    "IFNULL(common_name, ''),\n",
    "bird_families.scientific_name\n",
    "FROM rookery.birds\n",
    "JOIN rookery.bird_families USING(scientific_name)\n",
    "JOIN rookery.bird_orders USING(order_id)\n",
    "WHERE bird_orders.scientific_name = 'Charadriiformes'\n",
    "ORDER BY common_name;"
   ]
  },
  {
   "cell_type": "code",
   "execution_count": 40,
   "metadata": {},
   "outputs": [
    {
     "data": {
      "text/html": [
       "<html><body><table border=\"1\"><tr><th style=\"text-align:left;white-space:pre\">scientific name</th><th style=\"text-align:left;white-space:pre\">common name</th><th style=\"text-align:left;white-space:pre\">family name</th></tr><tr><td style=\"text-align:left;white-space:pre\">scientific name</td><td style=\"text-align:left;white-space:pre\">common name</td><td style=\"text-align:left;white-space:pre\">family name</td></tr></table></body></html>"
      ]
     },
     "metadata": {},
     "output_type": "display_data"
    }
   ],
   "source": [
    "SELECT 'scientific name','common name','family name';"
   ]
  },
  {
   "cell_type": "code",
   "execution_count": 41,
   "metadata": {},
   "outputs": [
    {
     "name": "stderr",
     "output_type": "stream",
     "text": [
      "You have an error in your SQL syntax; check the manual that corresponds to your MariaDB server version for the right syntax to use near '.bird_families USING(family_id)\n",
      "JOIN rookery.bird_orders USING(order_id)\n",
      "WHER...' at line 6\n",
      "\u0007\u001b(B\u001b[0;7m\u001b(B\u001b[m\n"
     ]
    }
   ],
   "source": [
    "( SELECT 'scientific name','common name','family name' )\n",
    "UNION\n",
    "( SELECT birds.scientific_name,\n",
    "IFNULL(common_name, ''),\n",
    "bird_families.scientific_name\n",
    "FROM rookery.birdsJOIN rookery.bird_families USING(family_id)\n",
    "JOIN rookery.bird_orders USING(order_id)\n",
    "WHERE bird_orders.scientific_name = 'Charadriiformes'\n",
    "ORDER BY common_name\n",
    "INTO OUTFILE '/tmp/birds-list.csv'\n",
    "FIELDS ENCLOSED BY '\"' TERMINATED BY '|' ESCAPED BY '\\\\'\n",
    "LINES TERMINATED BY '\\n');"
   ]
  },
  {
   "cell_type": "markdown",
   "metadata": {},
   "source": [
    "# Chapter 16. Application Programming Interfaces"
   ]
  },
  {
   "cell_type": "markdown",
   "metadata": {},
   "source": [
    "## Creating API User Accounts"
   ]
  },
  {
   "cell_type": "code",
   "execution_count": 44,
   "metadata": {},
   "outputs": [
    {
     "name": "stderr",
     "output_type": "stream",
     "text": [
      "Operation CREATE USER failed for 'edmaya12'@'localhost'\n",
      "ERROR 1044 (42000) at line 3 in file: '/home/jhon/Notebooks de linux/.mariadb_statement': Access denied for user 'edmaya12'@'localhost' to database 'rookery'\n",
      "ERROR 1044 (42000) at line 6 in file: '/home/jhon/Notebooks de linux/.mariadb_statement': Access denied for user 'edmaya12'@'localhost' to database 'birdwatchers'\n",
      "\u0007\u001b(B\u001b[0;7m\u001b(B\u001b[m\u0007\u001b(B\u001b[0;7m\u001b(B\u001b[m\u0007\u001b(B\u001b[0;7m\u001b(B\u001b[m\n"
     ]
    }
   ],
   "source": [
    "CREATE USER 'edmaya12'@'localhost'\n",
    "IDENTIFIED BY '1234';\n",
    "GRANT SELECT\n",
    "ON rookery.*\n",
    "TO 'public_api'@'localhost';\n",
    "GRANT SELECT\n",
    "ON birdwatchers.*\n",
    "TO 'public_api'@'localhost';"
   ]
  },
  {
   "cell_type": "code",
   "execution_count": 43,
   "metadata": {},
   "outputs": [
    {
     "name": "stderr",
     "output_type": "stream",
     "text": [
      "Access denied for user 'edmaya12'@'localhost' to database 'birdwatchers'\n",
      "\u0007\u001b(B\u001b[0;7m\u001b(B\u001b[m\n"
     ]
    }
   ],
   "source": [
    "CREATE USER 'admin_members'@'localhost'\n",
    "IDENTIFIED BY 'doc_killdeer_123';\n",
    "GRANT SELECT, UPDATE, DELETE\n",
    "ON birdwatchers.*\n",
    "TO 'admin_members'@'localhost';"
   ]
  },
  {
   "cell_type": "code",
   "execution_count": 45,
   "metadata": {},
   "outputs": [
    {
     "name": "stderr",
     "output_type": "stream",
     "text": [
      "You have an error in your SQL syntax; check the manual that corresponds to your MariaDB server version for the right syntax to use near 'int main(int argc, char *argv[ ])\n",
      "{\n",
      "MYSQL *mysql' at line 1\n",
      "ERROR 1064 (42000) at line 6 in file: '/home/jhon/Notebooks de linux/.mariadb_statement': You have an error in your SQL syntax; check the manual that corresponds to your MariaDB server version for the right syntax to use near 'MYSQL_RES *result' at line 1\n",
      "ERROR 1064 (42000) at line 7 in file: '/home/jhon/Notebooks de linux/.mariadb_statement': You have an error in your SQL syntax; check the manual that corresponds to your MariaDB server version for the right syntax to use near 'MYSQL_ROW row' at line 1\n",
      "\u0007\u001b(B\u001b[0;7m\u001b(B\u001b[m\u0007\u001b(B\u001b[0;7m\u001b(B\u001b[m\u0007\u001b(B\u001b[0;7m\u001b(B\u001b[m\n"
     ]
    }
   ],
   "source": [
    "#include <stdio.h>\n",
    "#include \"/usr/include/mysql/mysql.h\"\n",
    "int main(int argc, char *argv[ ])\n",
    "{\n",
    "MYSQL *mysql;\n",
    "MYSQL_RES *result;\n",
    "MYSQL_ROW row;"
   ]
  },
  {
   "cell_type": "code",
   "execution_count": null,
   "metadata": {},
   "outputs": [],
   "source": []
  },
  {
   "cell_type": "code",
   "execution_count": null,
   "metadata": {},
   "outputs": [],
   "source": []
  },
  {
   "cell_type": "code",
   "execution_count": null,
   "metadata": {},
   "outputs": [],
   "source": []
  },
  {
   "cell_type": "code",
   "execution_count": null,
   "metadata": {},
   "outputs": [],
   "source": []
  },
  {
   "cell_type": "code",
   "execution_count": null,
   "metadata": {},
   "outputs": [],
   "source": []
  }
 ],
 "metadata": {
  "kernelspec": {
   "display_name": "MariaDB",
   "language": "SQL",
   "name": "mariadb_kernel"
  },
  "language_info": {
   "file_extension": ".sql",
   "mimetype": "text/plain",
   "name": "SQL"
  }
 },
 "nbformat": 4,
 "nbformat_minor": 4
}
